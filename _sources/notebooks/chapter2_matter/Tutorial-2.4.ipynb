{
 "cells": [
  {
   "cell_type": "markdown",
   "id": "ae8f9860-3900-498d-be1b-83161f3a8eb3",
   "metadata": {},
   "source": [
    "# Landau effective mass (micro)"
   ]
  },
  {
   "cell_type": "markdown",
   "id": "c6480219-b6ce-4f7e-a987-2029bc90f943",
   "metadata": {},
   "source": [
    "In this tutorial, you will learn how to extract the Landau effective mass from the microscopic models in the toolkit."
   ]
  },
  {
   "cell_type": "markdown",
   "id": "78bbb9bc-546d-4468-9fe9-ff22ce52c354",
   "metadata": {},
   "source": [
    "---"
   ]
  },
  {
   "cell_type": "markdown",
   "id": "68409a9a-0af7-4ea8-94d1-d86d85403fc4",
   "metadata": {},
   "source": [
    "Import the libraries that will be employed in this tutorial."
   ]
  },
  {
   "cell_type": "code",
   "execution_count": null,
   "id": "0a4b8548-70c3-42d2-b6d9-fdf75d368a61",
   "metadata": {},
   "outputs": [],
   "source": [
    "# Import numpy\n",
    "import numpy as np\n",
    "# Import matplotlib\n",
    "import matplotlib.pyplot as plt\n",
    "# Import nucleardatapy package\n",
    "import nucleardatapy as nuda"
   ]
  },
  {
   "cell_type": "markdown",
   "id": "876f78df-7595-486f-9264-39af7b9248ca",
   "metadata": {},
   "source": [
    "You can simply print out the properties of the nuda's function that we will use:"
   ]
  },
  {
   "cell_type": "code",
   "execution_count": 2,
   "id": "4453e6af-1ea4-4009-b673-09d81555420f",
   "metadata": {},
   "outputs": [
    {
     "name": "stdout",
     "output_type": "stream",
     "text": [
      "['__class__', '__delattr__', '__dict__', '__dir__', '__doc__', '__eq__', '__format__', '__ge__', '__getattribute__', '__getstate__', '__gt__', '__hash__', '__init__', '__init_subclass__', '__le__', '__lt__', '__module__', '__ne__', '__new__', '__reduce__', '__reduce_ex__', '__repr__', '__setattr__', '__sizeof__', '__str__', '__subclasshook__', '__weakref__', 'init_self', 'print_outputs']\n"
     ]
    }
   ],
   "source": [
    "# Explore the nucleardatapy module to find the correct attribute\n",
    "print(dir(nuda.matter.setupMicroEffmass))"
   ]
  },
  {
   "cell_type": "markdown",
   "id": "19f89dd0-2cb3-4857-9d25-3ebc6034b3ca",
   "metadata": {},
   "source": [
    "---"
   ]
  },
  {
   "cell_type": "markdown",
   "id": "b61ef2f0-88ae-4d10-9521-c75d56961fd1",
   "metadata": {},
   "source": [
    "Get the full list of models ( `matter` can be 'NM' (default) or 'SM' ) :"
   ]
  },
  {
   "cell_type": "code",
   "execution_count": 3,
   "id": "73d4247d-b988-4159-9e6d-df961be4fd42",
   "metadata": {},
   "outputs": [
    {
     "name": "stdout",
     "output_type": "stream",
     "text": [
      "models: ['2008-BCS-NM', '2017-MBPT-NM-GAP-EMG-450-500-N2LO', '2017-MBPT-NM-GAP-EMG-450-500-N3LO', '2017-MBPT-NM-GAP-EMG-450-700-N2LO', '2017-MBPT-NM-GAP-EMG-450-700-N3LO', '2017-MBPT-NM-GAP-EM-500-N2LO', '2017-MBPT-NM-GAP-EM-500-N3LO', '2022-AFDMC-NM']\n"
     ]
    }
   ],
   "source": [
    "models, models_lower, models_all, models_all_lower = nuda.matter.micro_effmass_models( matter = 'NM' )\n",
    "print('models:',models)"
   ]
  },
  {
   "cell_type": "markdown",
   "id": "aa58873c-aa1d-4453-ae0d-72123e63e034",
   "metadata": {},
   "source": [
    "Fix one model for which we want to extract the data:"
   ]
  },
  {
   "cell_type": "code",
   "execution_count": 4,
   "id": "76e75981-40ff-4c4a-9906-7dc6af90fea9",
   "metadata": {},
   "outputs": [],
   "source": [
    "model = '2008-BCS-NM'"
   ]
  },
  {
   "cell_type": "markdown",
   "id": "2f464082-c741-4ddf-8a5f-44285dff018c",
   "metadata": {},
   "source": [
    "---"
   ]
  },
  {
   "cell_type": "markdown",
   "id": "f80e3900-eb62-48d9-916b-a1d2d4371ef5",
   "metadata": {},
   "source": [
    "Instantiate the object `ms` with the effective mass:"
   ]
  },
  {
   "cell_type": "code",
   "execution_count": 5,
   "id": "a69e6e74-bf06-48fa-9302-94ce1f592550",
   "metadata": {},
   "outputs": [
    {
     "name": "stdout",
     "output_type": "stream",
     "text": [
      "-> model: 2008-BCS-NM\n",
      "- Print output:\n",
      "   model:  2008-BCS-NM\n",
      "   ref:    A. Fabrocini, S. Fantoni, A.Y. Illarionov, and K.E. Schmidt, Nuc. Phys. A 803, 137 (2008)\n",
      "   note:   \n",
      "   label:  BCS-2008\n",
      "   marker: o\n",
      "   every:  1\n",
      "   nm_den: [0.    0.    0.001 0.002 0.004 0.007 0.012 0.017 0.025 0.034 0.045 0.058\n",
      " 0.074] in fm$^{-3}$\n",
      "   nm_kfn: [0.1 0.2 0.3 0.4 0.5 0.6 0.7 0.8 0.9 1.  1.1 1.2 1.3] in fm$^{-1}$\n",
      "   nm_effmass: [0.999 0.996 0.99  0.981 0.971 0.959 0.945 0.93  0.912 0.893 0.872 0.85\n",
      " 0.827]\n"
     ]
    }
   ],
   "source": [
    "ms = nuda.matter.setupMicroEffmass( model = model )\n",
    "ms.print_outputs()"
   ]
  },
  {
   "cell_type": "markdown",
   "id": "45439116-e9f1-4875-b0ac-7b8f34ccaacc",
   "metadata": {},
   "source": [
    "---"
   ]
  },
  {
   "cell_type": "markdown",
   "id": "99d7783e-d9f2-4693-adfb-74dc4a01399f",
   "metadata": {},
   "source": [
    "Fix a list of params instead of a unique one"
   ]
  },
  {
   "cell_type": "code",
   "execution_count": 6,
   "id": "87e94d28-9376-41bc-ab25-9693d2def880",
   "metadata": {},
   "outputs": [
    {
     "name": "stdout",
     "output_type": "stream",
     "text": [
      "models: ['2008-BCS-NM', '2017-MBPT-NM-GAP-EMG-450-500-N2LO', '2017-MBPT-NM-GAP-EMG-450-500-N3LO', '2017-MBPT-NM-GAP-EMG-450-700-N2LO', '2017-MBPT-NM-GAP-EMG-450-700-N3LO', '2017-MBPT-NM-GAP-EM-500-N2LO', '2017-MBPT-NM-GAP-EM-500-N3LO', '2022-AFDMC-NM']\n",
      "model: 2008-BCS-NM\n",
      "-> model: 2008-BCS-NM\n",
      "model: 2017-MBPT-NM-GAP-EMG-450-500-N2LO\n",
      "-> model: 2017-MBPT-NM-GAP-EMG-450-500-N2LO\n",
      "model: 2017-MBPT-NM-GAP-EMG-450-500-N3LO\n",
      "-> model: 2017-MBPT-NM-GAP-EMG-450-500-N3LO\n",
      "model: 2017-MBPT-NM-GAP-EMG-450-700-N2LO\n",
      "-> model: 2017-MBPT-NM-GAP-EMG-450-700-N2LO\n",
      "model: 2017-MBPT-NM-GAP-EMG-450-700-N3LO\n",
      "-> model: 2017-MBPT-NM-GAP-EMG-450-700-N3LO\n",
      "model: 2017-MBPT-NM-GAP-EM-500-N2LO\n",
      "-> model: 2017-MBPT-NM-GAP-EM-500-N2LO\n",
      "model: 2017-MBPT-NM-GAP-EM-500-N3LO\n",
      "-> model: 2017-MBPT-NM-GAP-EM-500-N3LO\n",
      "model: 2022-AFDMC-NM\n",
      "-> model: 2022-AFDMC-NM\n"
     ]
    }
   ],
   "source": [
    "models, models_lower, models_all, models_all_lower = nuda.matter.micro_effmass_models( matter = 'NM' )\n",
    "print('models:',models)\n",
    "for model in models:\n",
    "    print('model:',model)\n",
    "    ms = nuda.matter.setupMicroEffmass( model = model )"
   ]
  },
  {
   "cell_type": "markdown",
   "id": "53a400b2-faa4-4d6b-9e08-fbcbefb0127d",
   "metadata": {},
   "source": [
    "---"
   ]
  },
  {
   "cell_type": "markdown",
   "id": "b4c34d8a-b6e1-4093-866c-626f4e5f3a9d",
   "metadata": {},
   "source": [
    "plot effective mass in NM:"
   ]
  },
  {
   "cell_type": "code",
   "execution_count": 7,
   "id": "3b58315c-6048-4999-a90e-b56939d0c860",
   "metadata": {},
   "outputs": [
    {
     "name": "stdout",
     "output_type": "stream",
     "text": [
      "Plot name: None\n",
      "models: ['2008-BCS-NM', '2017-MBPT-NM-GAP-EMG-450-500-N2LO', '2017-MBPT-NM-GAP-EMG-450-500-N3LO', '2017-MBPT-NM-GAP-EMG-450-700-N2LO', '2017-MBPT-NM-GAP-EMG-450-700-N3LO', '2017-MBPT-NM-GAP-EM-500-N2LO', '2017-MBPT-NM-GAP-EM-500-N3LO', '2022-AFDMC-NM']\n",
      "matter: NM\n",
      "-> model: 2008-BCS-NM\n",
      "-> model: 2017-MBPT-NM-GAP-EMG-450-500-N2LO\n",
      "-> model: 2017-MBPT-NM-GAP-EMG-450-500-N3LO\n",
      "-> model: 2017-MBPT-NM-GAP-EMG-450-700-N2LO\n",
      "-> model: 2017-MBPT-NM-GAP-EMG-450-700-N3LO\n",
      "-> model: 2017-MBPT-NM-GAP-EM-500-N2LO\n",
      "-> model: 2017-MBPT-NM-GAP-EM-500-N3LO\n",
      "-> model: 2022-AFDMC-NM\n"
     ]
    },
    {
     "data": {
      "image/png": "[encoded data removed]",
      "text/plain": [
       "<Figure size 640x480 with 2 Axes>"
      ]
     },
     "metadata": {},
     "output_type": "display_data"
    }
   ],
   "source": [
    "nuda.fig.matter_setupMicro_effmass_fig( None, models, matter = 'NM' )"
   ]
  }
 ],
 "metadata": {
  "kernelspec": {
   "display_name": "Python 3 (ipykernel)",
   "language": "python",
   "name": "python3"
  },
  "language_info": {
   "codemirror_mode": {
    "name": "ipython",
    "version": 3
   },
   "file_extension": ".py",
   "mimetype": "text/x-python",
   "name": "python",
   "nbconvert_exporter": "python",
   "pygments_lexer": "ipython3",
   "version": "3.13.3"
  }
 },
 "nbformat": 4,
 "nbformat_minor": 5
}

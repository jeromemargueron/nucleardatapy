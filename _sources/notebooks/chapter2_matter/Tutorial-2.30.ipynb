{
 "cells": [
  {
   "cell_type": "markdown",
   "id": "ae8f9860-3900-498d-be1b-83161f3a8eb3",
   "metadata": {},
   "source": [
    "# Check if a model is inside the reference band"
   ]
  },
  {
   "cell_type": "markdown",
   "id": "c6480219-b6ce-4f7e-a987-2029bc90f943",
   "metadata": {},
   "source": [
    "In this tutorial, you will learn how to employ nucleardatapy to check if a model is inside the reference band."
   ]
  },
  {
   "cell_type": "markdown",
   "id": "78bbb9bc-546d-4468-9fe9-ff22ce52c354",
   "metadata": {},
   "source": [
    "---"
   ]
  },
  {
   "cell_type": "markdown",
   "id": "68409a9a-0af7-4ea8-94d1-d86d85403fc4",
   "metadata": {},
   "source": [
    "Import the libraries that will be employed in this tutorial."
   ]
  },
  {
   "cell_type": "code",
   "execution_count": null,
   "id": "0a4b8548-70c3-42d2-b6d9-fdf75d368a61",
   "metadata": {},
   "outputs": [],
   "source": [
    "# Import numpy\n",
    "import numpy as np\n",
    "# Import matplotlib\n",
    "import matplotlib.pyplot as plt\n",
    "# Import nucleardatapy package\n",
    "import nucleardatapy as nuda"
   ]
  },
  {
   "cell_type": "markdown",
   "id": "876f78df-7595-486f-9264-39af7b9248ca",
   "metadata": {},
   "source": [
    "You can simply print out the properties of the nuda's function that we will use:"
   ]
  },
  {
   "cell_type": "code",
   "execution_count": 2,
   "id": "096bdc4a-ecb7-4266-94c8-165096783a3c",
   "metadata": {},
   "outputs": [
    {
     "name": "stdout",
     "output_type": "stream",
     "text": [
      "['__class__', '__delattr__', '__dict__', '__dir__', '__doc__', '__eq__', '__firstlineno__', '__format__', '__ge__', '__getattribute__', '__getstate__', '__gt__', '__hash__', '__init__', '__init_subclass__', '__le__', '__lt__', '__module__', '__ne__', '__new__', '__reduce__', '__reduce_ex__', '__repr__', '__setattr__', '__sizeof__', '__static_attributes__', '__str__', '__subclasshook__', '__weakref__', 'print_outputs']\n"
     ]
    }
   ],
   "source": [
    "# Explore the nucleardatapy module to find the correct attribute\n",
    "print(dir(nuda.matter.setupCheck))"
   ]
  },
  {
   "cell_type": "markdown",
   "id": "19f89dd0-2cb3-4857-9d25-3ebc6034b3ca",
   "metadata": {},
   "source": [
    "---"
   ]
  },
  {
   "cell_type": "markdown",
   "id": "dcea7d8e-849e-40ba-ab8d-daeaeeb2f14e",
   "metadata": {},
   "source": [
    "Define a reference band:\n",
    "For instance the energy per particle in NM can be selected by fixing the variable `matter` = 'NM' in the class nuda.matter.setupMicroBand()"
   ]
  },
  {
   "cell_type": "code",
   "execution_count": 3,
   "id": "6af6a4a5-d6d2-4ca2-abfd-d80479c1210d",
   "metadata": {},
   "outputs": [
    {
     "name": "stdout",
     "output_type": "stream",
     "text": [
      "\n",
      "Band in NM\n",
      "model ->  2016-MBPT-AM\n",
      "model ->  2016-QMC-NM\n",
      "model ->  2020-MBPT-AM\n",
      "model ->  2016-MBPT-AM\n",
      "model ->  2016-QMC-NM\n",
      "model ->  2020-MBPT-AM\n"
     ]
    }
   ],
   "source": [
    "den = np.array([0.06,0.08,0.1,0.12,0.14,0.16])\n",
    "models = [ '2016-MBPT-AM', '2016-QMC-NM', '2020-MBPT-AM' ]\n",
    "band = nuda.matter.setupMicroBand( models, den=den, matter='NM' )"
   ]
  },
  {
   "cell_type": "markdown",
   "id": "fd4b3b8c-fffd-4e71-aff7-c4c61a5df417",
   "metadata": {},
   "source": [
    "---"
   ]
  },
  {
   "cell_type": "markdown",
   "id": "49eed486-89d4-43a4-b8a1-f856ad25b83f",
   "metadata": {},
   "source": [
    "Choose a given microscopic model and instantiate the object `micro` with the model"
   ]
  },
  {
   "cell_type": "code",
   "execution_count": 4,
   "id": "165634e9-3922-4693-8770-ff3678cfb7e3",
   "metadata": {},
   "outputs": [
    {
     "name": "stdout",
     "output_type": "stream",
     "text": [
      "model ->  1998-VAR-AM-APR\n"
     ]
    }
   ],
   "source": [
    "model = '1998-VAR-AM-APR'\n",
    "micro = nuda.matter.setupMicro( model = model )"
   ]
  },
  {
   "cell_type": "markdown",
   "id": "c17f90b5-103b-4c6c-95dd-7f23bed74dbc",
   "metadata": {},
   "source": [
    "Check if the microscopic model is inside the reference band in NM:"
   ]
  },
  {
   "cell_type": "code",
   "execution_count": 5,
   "id": "c3a481c7-96d9-4b89-85ed-ed45f9e9d695",
   "metadata": {},
   "outputs": [
    {
     "name": "stdout",
     "output_type": "stream",
     "text": [
      "eos inside band? True\n",
      "eos outside band? False\n"
     ]
    }
   ],
   "source": [
    "check = nuda.matter.setupCheck( eos = micro, band = band )\n",
    "print('eos inside band?',check.isInside)\n",
    "print('eos outside band?',check.isOutside)"
   ]
  },
  {
   "cell_type": "markdown",
   "id": "d95344fd-c2a7-4aba-9565-8de91775c9da",
   "metadata": {},
   "source": [
    "---"
   ]
  },
  {
   "cell_type": "markdown",
   "id": "4c00cdf7-87c8-40e8-b1c2-eebf03593c8e",
   "metadata": {},
   "source": [
    "Alternatively, choose a given phenomenological model and instantiate the object `pheno` with the model"
   ]
  },
  {
   "cell_type": "code",
   "execution_count": 7,
   "id": "1fa5ccca-63a5-44ba-b229-61d4f31128a5",
   "metadata": {},
   "outputs": [],
   "source": [
    "model = 'Skyrme'\n",
    "param = 'SLy5'\n",
    "pheno = nuda.matter.setupPheno( model = model, param = param )"
   ]
  },
  {
   "cell_type": "markdown",
   "id": "5d3d6928-ce01-4beb-85cd-fa10d3d17a19",
   "metadata": {},
   "source": [
    "Check if the phenomenological model is inside the reference band in NM:"
   ]
  },
  {
   "cell_type": "code",
   "execution_count": 8,
   "id": "36cb2cad-d9c6-40d0-a83b-23e06dcfa438",
   "metadata": {},
   "outputs": [
    {
     "name": "stdout",
     "output_type": "stream",
     "text": [
      "eos inside band? False\n",
      "eos outside band? True\n"
     ]
    }
   ],
   "source": [
    "check = nuda.matter.setupCheck( eos = pheno, band = band )\n",
    "print('eos inside band?',check.isInside)\n",
    "print('eos outside band?',check.isOutside)"
   ]
  },
  {
   "cell_type": "markdown",
   "id": "f113cbb6-b05f-4dff-b52c-146962e75788",
   "metadata": {},
   "source": [
    "---"
   ]
  },
  {
   "cell_type": "markdown",
   "id": "602f878f-51e0-4256-913f-a29dd8778381",
   "metadata": {},
   "source": [
    "Plots: to be done"
   ]
  },
  {
   "cell_type": "markdown",
   "id": "03d1c9c1-ca2a-4107-ab38-dfe624c1a64b",
   "metadata": {},
   "source": [
    "---"
   ]
  }
 ],
 "metadata": {
  "kernelspec": {
   "display_name": "Python 3 (ipykernel)",
   "language": "python",
   "name": "python3"
  },
  "language_info": {
   "codemirror_mode": {
    "name": "ipython",
    "version": 3
   },
   "file_extension": ".py",
   "mimetype": "text/x-python",
   "name": "python",
   "nbconvert_exporter": "python",
   "pygments_lexer": "ipython3",
   "version": "3.13.3"
  }
 },
 "nbformat": 4,
 "nbformat_minor": 5
}

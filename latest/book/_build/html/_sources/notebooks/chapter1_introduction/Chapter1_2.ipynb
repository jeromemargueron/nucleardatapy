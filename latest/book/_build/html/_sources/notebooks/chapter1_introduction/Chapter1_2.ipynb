{
 "cells": [
  {
   "cell_type": "markdown",
   "id": "0433e2ad-3c1f-425b-8a6c-9b007b5dc828",
   "metadata": {},
   "source": [
    "# Chapter 1 tutorial 2: Warm up"
   ]
  },
  {
   "cell_type": "markdown",
   "id": "ba27284d-34a5-47f6-9a68-274d4978b306",
   "metadata": {},
   "source": [
    "In this tutorial, you will learn basic use of numpy and matplotlib that are employed in the manipulation of nucleardatapy."
   ]
  },
  {
   "cell_type": "markdown",
   "id": "0d12a546-8b6c-42b8-80af-082fb31c9308",
   "metadata": {},
   "source": [
    "---"
   ]
  },
  {
   "cell_type": "markdown",
   "id": "ff7749ad-db71-4b1e-987c-8439db0501de",
   "metadata": {},
   "source": [
    "Import numpy library."
   ]
  },
  {
   "cell_type": "code",
   "execution_count": 2,
   "id": "8e49fc10-2a17-4f80-bc8d-413b9959db59",
   "metadata": {},
   "outputs": [],
   "source": [
    "# Import numpy\n",
    "import numpy as np"
   ]
  },
  {
   "cell_type": "markdown",
   "id": "4a89f64c-74dc-4302-aca2-e05e2132e869",
   "metadata": {},
   "source": [
    "Generate a numpy array with linspace(). Documentation is there: https://numpy.org/doc/stable/reference/generated/numpy.linspace.html"
   ]
  },
  {
   "cell_type": "code",
   "execution_count": 29,
   "id": "b32d589b-4b1d-49a8-a0de-741f725a1aa7",
   "metadata": {},
   "outputs": [
    {
     "name": "stdout",
     "output_type": "stream",
     "text": [
      "[0.01  0.085 0.16  0.235 0.31 ]\n"
     ]
    }
   ],
   "source": [
    "vec = np.linspace( 0.01, 0.31, num = 5 )\n",
    "print( vec )"
   ]
  },
  {
   "cell_type": "markdown",
   "id": "9ebf80ac-5433-4245-a2bc-0a8991a711a9",
   "metadata": {},
   "source": [
    "Generate a vector density with logspace() (https://numpy.org/doc/stable/reference/generated/numpy.logspace.html):"
   ]
  },
  {
   "cell_type": "code",
   "execution_count": 32,
   "id": "0f2e4c51-60b3-4ebe-a135-a3dde123df07",
   "metadata": {},
   "outputs": [
    {
     "name": "stdout",
     "output_type": "stream",
     "text": [
      "[1.00000000e-05 2.78255940e-05 7.74263683e-05 2.15443469e-04\n",
      " 5.99484250e-04 1.66810054e-03 4.64158883e-03 1.29154967e-02\n",
      " 3.59381366e-02 1.00000000e-01]\n"
     ]
    }
   ],
   "source": [
    "logvec = np.logspace(-5, -1, num = 10, base = 10)\n",
    "print( logvec )"
   ]
  },
  {
   "cell_type": "markdown",
   "id": "47be2424-096d-4736-8ca4-c584d16651ec",
   "metadata": {},
   "source": [
    "Generate a vector with constant asymmetry parameter `asy`."
   ]
  },
  {
   "cell_type": "markdown",
   "id": "6a29b1f8-b7c5-4cd4-a11d-a67b232af102",
   "metadata": {},
   "source": [
    "For SM, where `asy` is a vector of zeros:"
   ]
  },
  {
   "cell_type": "code",
   "execution_count": 10,
   "id": "4bee95a6-068e-4a47-ad19-b3c05400bac7",
   "metadata": {},
   "outputs": [
    {
     "name": "stdout",
     "output_type": "stream",
     "text": [
      "[0. 0. 0. 0. 0.]\n"
     ]
    }
   ],
   "source": [
    "asy = np.zeros( vec.size )\n",
    "print( asy )"
   ]
  },
  {
   "cell_type": "markdown",
   "id": "194ca777-0079-4595-99f0-4f4f17169280",
   "metadata": {},
   "source": [
    "For NM, where `asy` is a vector of ones:"
   ]
  },
  {
   "cell_type": "code",
   "execution_count": 11,
   "id": "e8579a15-1bb5-4092-922e-51eceea7aece",
   "metadata": {},
   "outputs": [
    {
     "name": "stdout",
     "output_type": "stream",
     "text": [
      "[1. 1. 1. 1. 1.]\n"
     ]
    }
   ],
   "source": [
    "asy = np.ones( vec.size )\n",
    "print( asy )"
   ]
  },
  {
   "cell_type": "markdown",
   "id": "1c147961-ce83-48ad-8780-72d165b9fdb9",
   "metadata": {},
   "source": [
    "For AM, where `asy` is any value between 0 and 1:"
   ]
  },
  {
   "cell_type": "code",
   "execution_count": 12,
   "id": "fab03bfb-033f-4d55-bf47-7e6d1ee0e4bb",
   "metadata": {},
   "outputs": [
    {
     "name": "stdout",
     "output_type": "stream",
     "text": [
      "[0.5 0.5 0.5 0.5 0.5]\n"
     ]
    }
   ],
   "source": [
    "asy = 0.5 * np.ones( vec.size )\n",
    "print( asy )"
   ]
  },
  {
   "cell_type": "markdown",
   "id": "f3067d56-d1c6-47b7-aaaf-0af51b84c8b9",
   "metadata": {},
   "source": [
    "---"
   ]
  },
  {
   "cell_type": "markdown",
   "id": "84d645bb-dc1d-46cd-b091-8cc65b88b677",
   "metadata": {},
   "source": [
    "Now we draw some plots."
   ]
  },
  {
   "cell_type": "markdown",
   "id": "9e5de6f1-7c63-4b09-9fda-04d26f02a5a5",
   "metadata": {},
   "source": [
    "Import the matplotlib library as well as nucleardatapy to get some data."
   ]
  },
  {
   "cell_type": "code",
   "execution_count": 13,
   "id": "52dd1f70-e6bb-4516-ae0a-4bca702b6316",
   "metadata": {},
   "outputs": [],
   "source": [
    "# Import matplotlib package\n",
    "import matplotlib.pyplot as plt\n",
    "# Import nucleardatapy package\n",
    "import nucleardatapy as nuda"
   ]
  },
  {
   "cell_type": "markdown",
   "id": "0a1668d8-d1bf-404a-ab84-edf0f5f889fc",
   "metadata": {},
   "source": [
    "Load the energy per particle from APR equation of state and instantiate the object `apr`:"
   ]
  },
  {
   "cell_type": "code",
   "execution_count": 18,
   "id": "67e1055b-23aa-4923-8949-4dce5d4b5096",
   "metadata": {},
   "outputs": [
    {
     "name": "stdout",
     "output_type": "stream",
     "text": [
      "model ->  1998-VAR-AM-APR\n",
      "den in SM: [0.04 0.08 0.12 0.16 0.2  0.24 0.32 0.4  0.48 0.56 0.64 0.8  0.96]\n",
      "energy per particle in SM: [ -6.48 -12.13 -15.04 -16.   -15.09 -12.88  -5.03   2.13  15.46  34.39\n",
      "  58.35 121.25 204.02]\n"
     ]
    }
   ],
   "source": [
    "apr = nuda.matter.setupMicro( model = '1998-VAR-AM-APR' )\n",
    "print('den in SM:',apr.sm_den)\n",
    "print('energy per particle in SM:',apr.sm_e2a)"
   ]
  },
  {
   "cell_type": "markdown",
   "id": "a3d064b6-61d5-45b4-aa3f-08f4cf7d4472",
   "metadata": {},
   "source": [
    "Plot the binding energy as function of the particle density (using plot https://matplotlib.org/stable/api/_as_gen/matplotlib.pyplot.plot.html):"
   ]
  },
  {
   "cell_type": "code",
   "execution_count": 26,
   "id": "0781a6cc-b857-41f4-a788-f9eb6c2e9ab2",
   "metadata": {},
   "outputs": [
    {
     "data": {
      "text/plain": [
       "<matplotlib.legend.Legend at 0x2cef98e60>"
      ]
     },
     "execution_count": 26,
     "metadata": {},
     "output_type": "execute_result"
    },
    {
     "data": {
      "image/png": "[encoded data removed]",
      "text/plain": [
       "<Figure size 640x480 with 1 Axes>"
      ]
     },
     "metadata": {},
     "output_type": "display_data"
    }
   ],
   "source": [
    "plt.xlabel(r'density $n$ (fm$^{-3}$)')\n",
    "plt.ylabel(r'energy per particle $E/A$ (MeV)')\n",
    "plt.plot( apr.sm_den, apr.sm_e2a, label = apr.label )\n",
    "plt.legend(loc='upper left')"
   ]
  },
  {
   "cell_type": "markdown",
   "id": "4c618152-bc0e-49ce-b307-8c9c4f338eed",
   "metadata": {},
   "source": [
    "Now put errorbars in the plot (using errorbar https://matplotlib.org/stable/api/_as_gen/matplotlib.pyplot.errorbar.html):"
   ]
  },
  {
   "cell_type": "code",
   "execution_count": 27,
   "id": "96b8ad45-7fd4-4c96-bd2f-e4617d3de27a",
   "metadata": {},
   "outputs": [
    {
     "data": {
      "text/plain": [
       "<matplotlib.legend.Legend at 0x2ceeeec60>"
      ]
     },
     "execution_count": 27,
     "metadata": {},
     "output_type": "execute_result"
    },
    {
     "data": {
      "image/png": "[encoded data removed]",
      "text/plain": [
       "<Figure size 640x480 with 1 Axes>"
      ]
     },
     "metadata": {},
     "output_type": "display_data"
    }
   ],
   "source": [
    "plt.errorbar( apr.sm_den, apr.sm_e2a, yerr = apr.sm_e2a_err, label = apr.label )\n",
    "plt.legend(loc='upper left')"
   ]
  }
 ],
 "metadata": {
  "kernelspec": {
   "display_name": "Python 3 (ipykernel)",
   "language": "python",
   "name": "python3"
  },
  "language_info": {
   "codemirror_mode": {
    "name": "ipython",
    "version": 3
   },
   "file_extension": ".py",
   "mimetype": "text/x-python",
   "name": "python",
   "nbconvert_exporter": "python",
   "pygments_lexer": "ipython3",
   "version": "3.12.8"
  }
 },
 "nbformat": 4,
 "nbformat_minor": 5
}

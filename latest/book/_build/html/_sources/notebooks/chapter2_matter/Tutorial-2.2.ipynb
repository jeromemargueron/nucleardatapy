{
 "cells": [
  {
   "cell_type": "markdown",
   "id": "ae8f9860-3900-498d-be1b-83161f3a8eb3",
   "metadata": {},
   "source": [
    "# Microscopic calculations"
   ]
  },
  {
   "cell_type": "markdown",
   "id": "c6480219-b6ce-4f7e-a987-2029bc90f943",
   "metadata": {},
   "source": [
    "In this tutorial, you will learn how to use the microscopic module to print out some microscopic predictions for thermodynamical properties."
   ]
  },
  {
   "cell_type": "markdown",
   "id": "78bbb9bc-546d-4468-9fe9-ff22ce52c354",
   "metadata": {},
   "source": [
    "---"
   ]
  },
  {
   "cell_type": "markdown",
   "id": "68409a9a-0af7-4ea8-94d1-d86d85403fc4",
   "metadata": {},
   "source": [
    "Import the libraries that will be employed in this tutorial."
   ]
  },
  {
   "cell_type": "code",
   "execution_count": 1,
   "id": "0a4b8548-70c3-42d2-b6d9-fdf75d368a61",
   "metadata": {},
   "outputs": [],
   "source": [
    "# Import numpy\n",
    "import numpy as np\n",
    "# Import nucleardatapy package\n",
    "import nucleardatapy as nuda"
   ]
  },
  {
   "cell_type": "markdown",
   "id": "876f78df-7595-486f-9264-39af7b9248ca",
   "metadata": {},
   "source": [
    "You can simply print out the properties of the nuda's function that we will use:"
   ]
  },
  {
   "cell_type": "code",
   "execution_count": 2,
   "id": "4453e6af-1ea4-4009-b673-09d81555420f",
   "metadata": {},
   "outputs": [
    {
     "name": "stdout",
     "output_type": "stream",
     "text": [
      "['__class__', '__delattr__', '__dict__', '__dir__', '__doc__', '__eq__', '__format__', '__ge__', '__getattribute__', '__getstate__', '__gt__', '__hash__', '__init__', '__init_subclass__', '__le__', '__lt__', '__module__', '__ne__', '__new__', '__reduce__', '__reduce_ex__', '__repr__', '__setattr__', '__sizeof__', '__str__', '__subclasshook__', '__weakref__', 'init_self', 'print_outputs']\n"
     ]
    }
   ],
   "source": [
    "# Explore the nucleardatapy module to find the correct attribute\n",
    "print(dir(nuda.matter.setupMicro))"
   ]
  },
  {
   "cell_type": "markdown",
   "id": "19f89dd0-2cb3-4857-9d25-3ebc6034b3ca",
   "metadata": {},
   "source": [
    "---"
   ]
  },
  {
   "cell_type": "markdown",
   "id": "b61ef2f0-88ae-4d10-9521-c75d56961fd1",
   "metadata": {},
   "source": [
    "Get the full list of models:"
   ]
  },
  {
   "cell_type": "code",
   "execution_count": 3,
   "id": "73d4247d-b988-4159-9e6d-df961be4fd42",
   "metadata": {},
   "outputs": [
    {
     "name": "stdout",
     "output_type": "stream",
     "text": [
      "models: ['1981-VAR-AM-FP', '1998-VAR-AM-APR', '1998-VAR-AM-APR-fit', '2012-AFDMC-NM-RES-1', '2012-AFDMC-NM-RES-2', '2012-AFDMC-NM-RES-3', '2012-AFDMC-NM-RES-4', '2012-AFDMC-NM-RES-5', '2012-AFDMC-NM-RES-6', '2012-AFDMC-NM-RES-7', '2012-AFDMC-NM-FIT-1', '2012-AFDMC-NM-FIT-2', '2012-AFDMC-NM-FIT-3', '2012-AFDMC-NM-FIT-4', '2012-AFDMC-NM-FIT-5', '2012-AFDMC-NM-FIT-6', '2012-AFDMC-NM-FIT-7', '2022-AFDMC-NM', '2024-BHF-AM-2BF-Av8p', '2024-BHF-AM-2BF-Av18', '2024-BHF-AM-2BF-BONN', '2024-BHF-AM-2BF-CDBONN', '2024-BHF-AM-2BF-NSC97a', '2024-BHF-AM-2BF-NSC97b', '2024-BHF-AM-2BF-NSC97c', '2024-BHF-AM-2BF-NSC97d', '2024-BHF-AM-2BF-NSC97e', '2024-BHF-AM-2BF-NSC97f', '2024-BHF-AM-2BF-SSCV14', '2024-BHF-AM-23BF-Av8p', '2024-BHF-AM-23BF-Av18', '2024-BHF-AM-23BF-BONN', '2024-BHF-AM-23BF-CDBONN', '2024-BHF-AM-23BF-NSC97a', '2024-BHF-AM-23BF-NSC97b', '2024-BHF-AM-23BF-NSC97c', '2024-BHF-AM-23BF-NSC97d', '2024-BHF-AM-23BF-NSC97e', '2024-BHF-AM-23BF-NSC97f', '2024-BHF-AM-23BF-SSCV14', '2008-QMC-NM-swave', '2010-QMC-NM-AV4', '2009-DLQMC-NM', '2013-QMC-NM', '2014-AFQMC-NM', '2016-QMC-NM', '2016-MBPT-AM', '2018-QMC-NM', '2024-QMC-NM', '2010-MBPT-NM', '2016-MBPT-AM', '2019-MBPT-AM-L59', '2019-MBPT-AM-L69', '2020-MBPT-AM', '2024-NLEFT-AM']\n"
     ]
    }
   ],
   "source": [
    "print('models:',nuda.matter.micro_models()[0])"
   ]
  },
  {
   "cell_type": "markdown",
   "id": "2f464082-c741-4ddf-8a5f-44285dff018c",
   "metadata": {},
   "source": [
    "---"
   ]
  },
  {
   "cell_type": "markdown",
   "id": "f80e3900-eb62-48d9-916b-a1d2d4371ef5",
   "metadata": {},
   "source": [
    "Fix one model for which we want to extract the data:"
   ]
  },
  {
   "cell_type": "code",
   "execution_count": 4,
   "id": "a69e6e74-bf06-48fa-9302-94ce1f592550",
   "metadata": {},
   "outputs": [
    {
     "name": "stdout",
     "output_type": "stream",
     "text": [
      "model ->  1998-VAR-AM-APR\n"
     ]
    }
   ],
   "source": [
    "model = '1998-VAR-AM-APR'\n",
    "mic = nuda.matter.setupMicro( model = model )"
   ]
  },
  {
   "cell_type": "markdown",
   "id": "df369db3-b5ae-4cd4-8b44-067cc4c2d70e",
   "metadata": {},
   "source": [
    "print the outputs:"
   ]
  },
  {
   "cell_type": "code",
   "execution_count": 5,
   "id": "553cb013-5f5c-448f-9e0d-38835b14487f",
   "metadata": {},
   "outputs": [
    {
     "name": "stdout",
     "output_type": "stream",
     "text": [
      "- Print output:\n",
      "   model: 1998-VAR-AM-APR\n",
      "   ref:   Akmal, Pandharipande and Ravenhall, Phys. Rev. C 58, 1804 (1998)\n",
      "   label: APR-1998\n",
      "   note:  write here notes about this EOS.\n",
      "   self.sm_den:  [0.04 0.08 0.12 0.16 0.2  0.24 0.32 0.4  0.48 0.56 0.64 0.8  0.96]\n",
      "   self.sm_effmass:  None\n",
      "   den: [0.01  0.031 0.051 0.072 0.092 0.113 0.133 0.154 0.174 0.195 0.215 0.236\n",
      " 0.256 0.277 0.297 0.318 0.338 0.359 0.379 0.4  ] in fm$^{-3}$\n",
      "   kfn: [0.01  0.031 0.051 0.072 0.092 0.113 0.133 0.154 0.174 0.195 0.215 0.236\n",
      " 0.256 0.277 0.297 0.318 0.338 0.359 0.379 0.4  ] in fm$^{-1}$\n",
      "   asy: 0.0\n",
      "   sm_den: [0.04 0.08 0.12 0.16 0.2  0.24 0.32 0.4  0.48 0.56 0.64 0.8  0.96] in fm$^{-3}$\n",
      "   sm_kfn: [0.84  1.058 1.211 1.333 1.436 1.526 1.68  1.809 1.923 2.024 2.116 2.279\n",
      " 2.422] in fm$^{-1}$\n",
      "   sm_chempot: [-4078.348 -1366.824  -395.233   -12.138   181.916   302.859   283.746\n",
      "   295.789   444.859   512.677   575.384   690.354   807.433] in MeV\n",
      "   sm_e2a: [ -6.48 -12.13 -15.04 -16.   -15.09 -12.88  -5.03   2.13  15.46  34.39\n",
      "  58.35 121.25 204.02] in MeV\n",
      "   sm_e2a_err: [ 0.113  0.425  0.79   1.12   1.32   1.352  0.704  0.373  3.247  8.426\n",
      " 16.338 42.438 85.688] in MeV\n",
      "   sm_e2v: [ -0.259  -0.97   -1.805  -2.56   -3.018  -3.091  -1.61    0.852   7.421\n",
      "  19.258  37.344  97.    195.859] in MeV fm$^{-3}$\n",
      "   sm_e2v_err: [5.0000e-03 3.4000e-02 9.5000e-02 1.7900e-01 2.6400e-01 3.2500e-01\n",
      " 2.2500e-01 1.4900e-01 1.5580e+00 4.7180e+00 1.0456e+01 3.3950e+01\n",
      " 8.2261e+01] in MeV fm$^{-3}$\n",
      "   sm_pre: [-162.875 -108.376  -45.623    0.618   39.401   75.777   92.408  117.464\n",
      "  206.111  267.84   330.902  455.283  579.277] in MeV fm$^{-3}$\n",
      "   nm_den: [0.02 0.04 0.08 0.12 0.16 0.2  0.24 0.32 0.4  0.48 0.56 0.64 0.8  0.96] in fm$^{-3}$\n",
      "   nm_kfn: [0.84  1.058 1.333 1.526 1.68  1.809 1.923 2.116 2.279 2.422 2.55  2.666\n",
      " 2.872 3.052] in fm$^{-1}$\n",
      "   nm_chempot: [7054.727 1987.423 1041.593  876.117  799.424  615.726  514.856  574.589\n",
      "  622.445  663.019  678.778  733.307  918.772 1006.173] in MeV\n",
      "   nm_e2a: [  4.45   6.45   9.65  13.29  17.94  22.92  27.49  38.82  54.95  75.13\n",
      "  99.75 127.58 205.34 305.87] in MeV\n",
      "   nm_e2a_err: [3.90000e-02 1.13000e-01 3.38000e-01 6.98000e-01 1.25600e+00 2.00600e+00\n",
      " 2.88600e+00 5.43500e+00 9.61600e+00 1.57770e+01 2.44390e+01 3.57220e+01\n",
      " 7.18690e+01 1.28465e+02] in MeV\n",
      "   nm_e2v: [8.90000e-02 2.58000e-01 7.72000e-01 1.59500e+00 2.87000e+00 4.58400e+00\n",
      " 6.59800e+00 1.24220e+01 2.19800e+01 3.60620e+01 5.58600e+01 8.16510e+01\n",
      " 1.64272e+02 2.93635e+02] in MeV fm$^{-3}$\n",
      "   nm_e2v_err: [1.00000e-03 5.00000e-03 2.70000e-02 8.40000e-02 2.01000e-01 4.01000e-01\n",
      " 6.93000e-01 1.73900e+00 3.84700e+00 7.57300e+00 1.36860e+01 2.28620e+01\n",
      " 5.74950e+01 1.23327e+02] in MeV fm$^{-3}$\n",
      "   nm_pre: [141.006  79.239  82.555 103.539 125.037 118.561 116.968 171.446 226.998\n",
      " 282.187 324.256 387.666 570.745 672.291] in MeV fm$^{-3}$\n"
     ]
    }
   ],
   "source": [
    "mic.print_outputs()"
   ]
  },
  {
   "cell_type": "markdown",
   "id": "45439116-e9f1-4875-b0ac-7b8f34ccaacc",
   "metadata": {},
   "source": [
    "---"
   ]
  },
  {
   "cell_type": "markdown",
   "id": "99d7783e-d9f2-4693-adfb-74dc4a01399f",
   "metadata": {},
   "source": [
    "Fix a list of models instead of a unique one"
   ]
  },
  {
   "cell_type": "code",
   "execution_count": 6,
   "id": "87e94d28-9376-41bc-ab25-9693d2def880",
   "metadata": {},
   "outputs": [
    {
     "name": "stdout",
     "output_type": "stream",
     "text": [
      "models: ['1981-VAR-AM-FP', '1998-VAR-AM-APR']\n",
      "model: 1981-VAR-AM-FP\n",
      "model ->  1981-VAR-AM-FP\n",
      "model: 1998-VAR-AM-APR\n",
      "model ->  1998-VAR-AM-APR\n"
     ]
    }
   ],
   "source": [
    "models = [ '1981-VAR-AM-FP', '1998-VAR-AM-APR' ]\n",
    "print('models:',models)\n",
    "for model in models:\n",
    "    print('model:',model)\n",
    "    mic = nuda.matter.setupMicro( model = model )"
   ]
  },
  {
   "cell_type": "markdown",
   "id": "53a400b2-faa4-4d6b-9e08-fbcbefb0127d",
   "metadata": {},
   "source": [
    "---"
   ]
  },
  {
   "cell_type": "markdown",
   "id": "fb842344-56c7-4bb2-a9b5-58ce153bfc3e",
   "metadata": {},
   "source": [
    "Run over all models:"
   ]
  },
  {
   "cell_type": "code",
   "execution_count": 7,
   "id": "78795593-0ce3-43fb-bb8e-0c69dd396223",
   "metadata": {},
   "outputs": [
    {
     "name": "stdout",
     "output_type": "stream",
     "text": [
      "models: ['1981-VAR-AM-FP', '1998-VAR-AM-APR', '1998-VAR-AM-APR-fit', '2012-AFDMC-NM-RES-1', '2012-AFDMC-NM-RES-2', '2012-AFDMC-NM-RES-3', '2012-AFDMC-NM-RES-4', '2012-AFDMC-NM-RES-5', '2012-AFDMC-NM-RES-6', '2012-AFDMC-NM-RES-7', '2012-AFDMC-NM-FIT-1', '2012-AFDMC-NM-FIT-2', '2012-AFDMC-NM-FIT-3', '2012-AFDMC-NM-FIT-4', '2012-AFDMC-NM-FIT-5', '2012-AFDMC-NM-FIT-6', '2012-AFDMC-NM-FIT-7', '2022-AFDMC-NM', '2024-BHF-AM-2BF-Av8p', '2024-BHF-AM-2BF-Av18', '2024-BHF-AM-2BF-BONN', '2024-BHF-AM-2BF-CDBONN', '2024-BHF-AM-2BF-NSC97a', '2024-BHF-AM-2BF-NSC97b', '2024-BHF-AM-2BF-NSC97c', '2024-BHF-AM-2BF-NSC97d', '2024-BHF-AM-2BF-NSC97e', '2024-BHF-AM-2BF-NSC97f', '2024-BHF-AM-2BF-SSCV14', '2024-BHF-AM-23BF-Av8p', '2024-BHF-AM-23BF-Av18', '2024-BHF-AM-23BF-BONN', '2024-BHF-AM-23BF-CDBONN', '2024-BHF-AM-23BF-NSC97a', '2024-BHF-AM-23BF-NSC97b', '2024-BHF-AM-23BF-NSC97c', '2024-BHF-AM-23BF-NSC97d', '2024-BHF-AM-23BF-NSC97e', '2024-BHF-AM-23BF-NSC97f', '2024-BHF-AM-23BF-SSCV14', '2008-QMC-NM-swave', '2010-QMC-NM-AV4', '2009-DLQMC-NM', '2013-QMC-NM', '2014-AFQMC-NM', '2016-QMC-NM', '2016-MBPT-AM', '2018-QMC-NM', '2024-QMC-NM', '2010-MBPT-NM', '2016-MBPT-AM', '2019-MBPT-AM-L59', '2019-MBPT-AM-L69', '2020-MBPT-AM', '2024-NLEFT-AM']\n",
      "model: 1981-VAR-AM-FP\n",
      "model ->  1981-VAR-AM-FP\n",
      "model: 1998-VAR-AM-APR\n",
      "model ->  1998-VAR-AM-APR\n",
      "model: 1998-VAR-AM-APR-fit\n",
      "model ->  1998-VAR-AM-APR-fit\n",
      "model: 2012-AFDMC-NM-RES-1\n",
      "model ->  2012-AFDMC-NM-RES-1\n",
      "model: 2012-AFDMC-NM-RES-2\n",
      "model ->  2012-AFDMC-NM-RES-2\n",
      "model: 2012-AFDMC-NM-RES-3\n",
      "model ->  2012-AFDMC-NM-RES-3\n",
      "model: 2012-AFDMC-NM-RES-4\n",
      "model ->  2012-AFDMC-NM-RES-4\n",
      "model: 2012-AFDMC-NM-RES-5\n",
      "model ->  2012-AFDMC-NM-RES-5\n",
      "model: 2012-AFDMC-NM-RES-6\n",
      "model ->  2012-AFDMC-NM-RES-6\n",
      "model: 2012-AFDMC-NM-RES-7\n",
      "model ->  2012-AFDMC-NM-RES-7\n",
      "model: 2012-AFDMC-NM-FIT-1\n",
      "model ->  2012-AFDMC-NM-FIT-1\n",
      "model: 2012-AFDMC-NM-FIT-2\n",
      "model ->  2012-AFDMC-NM-FIT-2\n",
      "model: 2012-AFDMC-NM-FIT-3\n",
      "model ->  2012-AFDMC-NM-FIT-3\n",
      "model: 2012-AFDMC-NM-FIT-4\n",
      "model ->  2012-AFDMC-NM-FIT-4\n",
      "model: 2012-AFDMC-NM-FIT-5\n",
      "model ->  2012-AFDMC-NM-FIT-5\n",
      "model: 2012-AFDMC-NM-FIT-6\n",
      "model ->  2012-AFDMC-NM-FIT-6\n",
      "model: 2012-AFDMC-NM-FIT-7\n",
      "model ->  2012-AFDMC-NM-FIT-7\n",
      "model: 2022-AFDMC-NM\n",
      "model ->  2022-AFDMC-NM\n",
      "model: 2024-BHF-AM-2BF-Av8p\n",
      "model ->  2024-BHF-AM-2BF-Av8p\n",
      "model: 2024-BHF-AM-2BF-Av18\n",
      "model ->  2024-BHF-AM-2BF-Av18\n",
      "model: 2024-BHF-AM-2BF-BONN\n",
      "model ->  2024-BHF-AM-2BF-BONN\n",
      "model: 2024-BHF-AM-2BF-CDBONN\n",
      "model ->  2024-BHF-AM-2BF-CDBONN\n",
      "model: 2024-BHF-AM-2BF-NSC97a\n",
      "model ->  2024-BHF-AM-2BF-NSC97a\n",
      "model: 2024-BHF-AM-2BF-NSC97b\n",
      "model ->  2024-BHF-AM-2BF-NSC97b\n",
      "model: 2024-BHF-AM-2BF-NSC97c\n",
      "model ->  2024-BHF-AM-2BF-NSC97c\n",
      "model: 2024-BHF-AM-2BF-NSC97d\n",
      "model ->  2024-BHF-AM-2BF-NSC97d\n",
      "model: 2024-BHF-AM-2BF-NSC97e\n",
      "model ->  2024-BHF-AM-2BF-NSC97e\n",
      "model: 2024-BHF-AM-2BF-NSC97f\n",
      "model ->  2024-BHF-AM-2BF-NSC97f\n",
      "model: 2024-BHF-AM-2BF-SSCV14\n",
      "model ->  2024-BHF-AM-2BF-SSCV14\n",
      "model: 2024-BHF-AM-23BF-Av8p\n",
      "model ->  2024-BHF-AM-23BF-Av8p\n",
      "model: 2024-BHF-AM-23BF-Av18\n",
      "model ->  2024-BHF-AM-23BF-Av18\n",
      "model: 2024-BHF-AM-23BF-BONN\n",
      "model ->  2024-BHF-AM-23BF-BONN\n",
      "model: 2024-BHF-AM-23BF-CDBONN\n",
      "model ->  2024-BHF-AM-23BF-CDBONN\n",
      "model: 2024-BHF-AM-23BF-NSC97a\n",
      "model ->  2024-BHF-AM-23BF-NSC97a\n",
      "model: 2024-BHF-AM-23BF-NSC97b\n",
      "model ->  2024-BHF-AM-23BF-NSC97b\n",
      "model: 2024-BHF-AM-23BF-NSC97c\n",
      "model ->  2024-BHF-AM-23BF-NSC97c\n",
      "model: 2024-BHF-AM-23BF-NSC97d\n",
      "model ->  2024-BHF-AM-23BF-NSC97d\n",
      "model: 2024-BHF-AM-23BF-NSC97e\n",
      "model ->  2024-BHF-AM-23BF-NSC97e\n",
      "model: 2024-BHF-AM-23BF-NSC97f\n",
      "model ->  2024-BHF-AM-23BF-NSC97f\n",
      "model: 2024-BHF-AM-23BF-SSCV14\n",
      "model ->  2024-BHF-AM-23BF-SSCV14\n",
      "model: 2008-QMC-NM-swave\n",
      "model ->  2008-QMC-NM-swave\n",
      "model: 2010-QMC-NM-AV4\n",
      "model ->  2010-QMC-NM-AV4\n",
      "model: 2009-DLQMC-NM\n",
      "model ->  2009-DLQMC-NM\n",
      "model: 2013-QMC-NM\n",
      "model ->  2013-QMC-NM\n",
      "model: 2014-AFQMC-NM\n",
      "model ->  2014-AFQMC-NM\n",
      "model: 2016-QMC-NM\n",
      "model ->  2016-QMC-NM\n",
      "model: 2016-MBPT-AM\n",
      "model ->  2016-MBPT-AM\n",
      "model: 2018-QMC-NM\n",
      "model ->  2018-QMC-NM\n",
      "model: 2024-QMC-NM\n",
      "model ->  2024-QMC-NM\n",
      "model: 2010-MBPT-NM\n",
      "model ->  2010-MBPT-NM\n",
      "model: 2016-MBPT-AM\n",
      "model ->  2016-MBPT-AM\n",
      "model: 2019-MBPT-AM-L59\n",
      "model ->  2019-MBPT-AM-L59\n",
      "model: 2019-MBPT-AM-L69\n",
      "model ->  2019-MBPT-AM-L69\n",
      "model: 2020-MBPT-AM\n",
      "model ->  2020-MBPT-AM\n",
      "model: 2024-NLEFT-AM\n",
      "model ->  2024-NLEFT-AM\n",
      "sm_popt: [-9.17066374 10.01180281 -3.0695996 ]\n",
      "sm_pcov: [[ 0.5046284  -0.83636905  0.3404081 ]\n",
      " [-0.83636905  1.40263159 -0.57637576]\n",
      " [ 0.3404081  -0.57637576  0.2387368 ]]\n",
      "nm_popt: [-1.18794127  0.71930869 -0.11294904]\n",
      "nm_pcov: [[ 0.01360533 -0.01702128  0.00515286]\n",
      " [-0.01702128  0.02165017 -0.00663766]\n",
      " [ 0.00515286 -0.00663766  0.00205605]]\n"
     ]
    }
   ],
   "source": [
    "models, models_lower = nuda.matter.micro_models()\n",
    "print('models:',models)\n",
    "for model in models:\n",
    "    print('model:',model)\n",
    "    mic = nuda.matter.setupMicro( model = model )"
   ]
  },
  {
   "cell_type": "markdown",
   "id": "b6199ece-da28-4d96-a4d2-52afdf8b888b",
   "metadata": {},
   "source": [
    "---"
   ]
  },
  {
   "cell_type": "markdown",
   "id": "b4c34d8a-b6e1-4093-866c-626f4e5f3a9d",
   "metadata": {},
   "source": [
    "plot:"
   ]
  },
  {
   "cell_type": "code",
   "execution_count": 9,
   "id": "3b58315c-6048-4999-a90e-b56939d0c860",
   "metadata": {},
   "outputs": [
    {
     "name": "stdout",
     "output_type": "stream",
     "text": [
      "mbs: ['VAR', 'AFDMC', 'BHF', 'QMC', 'MBPT', 'NLEFT']\n",
      "\n",
      "Band in NM\n",
      "model ->  2016-MBPT-AM\n",
      "model ->  2016-QMC-NM\n",
      "model ->  2020-MBPT-AM\n",
      "model ->  2016-MBPT-AM\n",
      "model ->  2016-QMC-NM\n",
      "model ->  2020-MBPT-AM\n",
      "model ->  2016-MBPT-AM\n",
      "model ->  2016-QMC-NM\n",
      "model ->  2020-MBPT-AM\n",
      "For mb (in SM): VAR\n",
      "models2: ['1981-VAR-AM-FP', '1998-VAR-AM-APR', '1998-VAR-AM-APR-fit']\n",
      "For mb (in SM): AFDMC\n",
      "models2: ['2012-AFDMC-NM-RES-1', '2012-AFDMC-NM-RES-2', '2012-AFDMC-NM-RES-3', '2012-AFDMC-NM-RES-4', '2012-AFDMC-NM-RES-5', '2012-AFDMC-NM-RES-6', '2012-AFDMC-NM-RES-7', '2012-AFDMC-NM-FIT-1', '2012-AFDMC-NM-FIT-2', '2012-AFDMC-NM-FIT-3', '2012-AFDMC-NM-FIT-4', '2012-AFDMC-NM-FIT-5', '2012-AFDMC-NM-FIT-6', '2012-AFDMC-NM-FIT-7', '2022-AFDMC-NM']\n",
      "For mb (in SM): BHF\n",
      "models2: ['2024-BHF-AM-23BF-Av8p', '2024-BHF-AM-23BF-Av18', '2024-BHF-AM-23BF-BONN', '2024-BHF-AM-23BF-CDBONN', '2024-BHF-AM-23BF-NSC97a', '2024-BHF-AM-23BF-NSC97b', '2024-BHF-AM-23BF-NSC97c', '2024-BHF-AM-23BF-NSC97d', '2024-BHF-AM-23BF-NSC97e', '2024-BHF-AM-23BF-NSC97f', '2024-BHF-AM-23BF-SSCV14']\n",
      "For mb (in SM): QMC\n",
      "models2: ['2008-QMC-NM-swave', '2010-QMC-NM-AV4', '2009-DLQMC-NM', '2013-QMC-NM', '2014-AFQMC-NM', '2016-QMC-NM', '2018-QMC-NM', '2024-QMC-NM']\n",
      "For mb (in SM): MBPT\n",
      "models2: ['2016-MBPT-AM', '2010-MBPT-NM', '2016-MBPT-AM', '2019-MBPT-AM-L59', '2019-MBPT-AM-L69', '2020-MBPT-AM']\n",
      "For mb (in SM): NLEFT\n",
      "models2: ['2024-NLEFT-AM']\n",
      "\n",
      "Band in SM\n",
      "model ->  2016-MBPT-AM\n",
      "model ->  2020-MBPT-AM\n",
      "model ->  2016-MBPT-AM\n",
      "model ->  2020-MBPT-AM\n",
      "model ->  2016-MBPT-AM\n",
      "model ->  2020-MBPT-AM\n",
      "For mb (in SM): VAR\n",
      "models2: ['1981-VAR-AM-FP', '1998-VAR-AM-APR', '1998-VAR-AM-APR-fit']\n",
      "For mb (in SM): AFDMC\n",
      "models2: []\n",
      "For mb (in SM): BHF\n",
      "models2: ['2024-BHF-AM-23BF-Av8p', '2024-BHF-AM-23BF-Av18', '2024-BHF-AM-23BF-BONN', '2024-BHF-AM-23BF-CDBONN', '2024-BHF-AM-23BF-NSC97a', '2024-BHF-AM-23BF-NSC97b', '2024-BHF-AM-23BF-NSC97c', '2024-BHF-AM-23BF-NSC97d', '2024-BHF-AM-23BF-NSC97e', '2024-BHF-AM-23BF-NSC97f', '2024-BHF-AM-23BF-SSCV14']\n",
      "For mb (in SM): QMC\n",
      "models2: []\n",
      "For mb (in SM): MBPT\n",
      "models2: ['2016-MBPT-AM', '2016-MBPT-AM', '2019-MBPT-AM-L59', '2019-MBPT-AM-L69', '2020-MBPT-AM']\n",
      "For mb (in SM): NLEFT\n",
      "models2: ['2024-NLEFT-AM']\n"
     ]
    }
   ],
   "source": [
    "mbs, mbs_lower = nuda.matter.micro_mbs()\n",
    "print('mbs:',mbs)\n",
    "matters = [ 'NM', 'SM' ]\n",
    "for matter in matters:\n",
    "    if matter.lower() == 'nm':\n",
    "        bmodels = [ '2016-MBPT-AM', '2016-QMC-NM', '2020-MBPT-AM' ]\n",
    "    elif matter.lower() == 'sm':\n",
    "        bmodels = [ '2016-MBPT-AM', '2020-MBPT-AM' ]\n",
    "    band = nuda.matter.setupMicroBand( bmodels, matter=matter  )\n",
    "    for mb in mbs:\n",
    "        models, models_lower = nuda.matter.micro_models_mb_matter( mb, matter = matter )\n",
    "        #nuda.plot.matter_setupMicro_E_fig( pname=None, mb, models, band, matter )"
   ]
  },
  {
   "cell_type": "code",
   "execution_count": null,
   "id": "3297be38-38bd-4a49-9677-2f09802d26d8",
   "metadata": {},
   "outputs": [],
   "source": []
  }
 ],
 "metadata": {
  "kernelspec": {
   "display_name": "Python 3 (ipykernel)",
   "language": "python",
   "name": "python3"
  },
  "language_info": {
   "codemirror_mode": {
    "name": "ipython",
    "version": 3
   },
   "file_extension": ".py",
   "mimetype": "text/x-python",
   "name": "python",
   "nbconvert_exporter": "python",
   "pygments_lexer": "ipython3",
   "version": "3.12.8"
  }
 },
 "nbformat": 4,
 "nbformat_minor": 5
}

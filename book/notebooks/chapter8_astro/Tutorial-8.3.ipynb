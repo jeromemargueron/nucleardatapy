{
 "cells": [
  {
   "cell_type": "markdown",
   "id": "18e40e53-31b6-4813-a749-da54dda57b0c",
   "metadata": {},
   "source": [
    "# Chapter 8 Tutorial 3: TOV mass probability distribution"
   ]
  },
  {
   "cell_type": "markdown",
   "id": "ab04ae12-cfbe-4f2a-9cc6-e1a88c1836a2",
   "metadata": {},
   "source": [
    "In this tutorial, you will learn how to construct a TOV mass probability distribution using radio and GW astrophysical data."
   ]
  },
  {
   "cell_type": "markdown",
   "id": "d292a91a-74cf-4d83-b93d-61d32e591729",
   "metadata": {},
   "source": [
    "---"
   ]
  },
  {
   "cell_type": "markdown",
   "id": "bce20006-6025-483e-8bdc-a27c741613ef",
   "metadata": {},
   "source": [
    "Import the libraries that will be employed in this tutorial."
   ]
  },
  {
   "cell_type": "code",
   "execution_count": 2,
   "id": "e56eeb64-a615-4128-aa86-e3761498d955",
   "metadata": {},
   "outputs": [],
   "source": [
    "# Import numpy\n",
    "import numpy as np\n",
    "# Import nucleardatapy package\n",
    "import nucleardatapy as nuda"
   ]
  },
  {
   "cell_type": "markdown",
   "id": "9ad45ea3-da4d-44f2-809a-9933241cb125",
   "metadata": {},
   "source": [
    "You can simply print out the properties of the nuda's function that we will use:"
   ]
  },
  {
   "cell_type": "code",
   "execution_count": 3,
   "id": "962f5076-a792-4fd3-be8a-a3d4dbcaa608",
   "metadata": {},
   "outputs": [
    {
     "name": "stdout",
     "output_type": "stream",
     "text": [
      "['__class__', '__delattr__', '__dict__', '__dir__', '__doc__', '__eq__', '__format__', '__ge__', '__getattribute__', '__getstate__', '__gt__', '__hash__', '__init__', '__init_subclass__', '__le__', '__lt__', '__module__', '__ne__', '__new__', '__reduce__', '__reduce_ex__', '__repr__', '__setattr__', '__sizeof__', '__str__', '__subclasshook__', '__weakref__', 'print_latex', 'print_output']\n"
     ]
    }
   ],
   "source": [
    "# Explore the nucleardatapy module to find the correct attribute\n",
    "print(dir(nuda.astro.setupMtov))"
   ]
  },
  {
   "cell_type": "markdown",
   "id": "c7cadb7b-ca65-434f-984d-9d4a79ba11b3",
   "metadata": {},
   "source": [
    "---"
   ]
  },
  {
   "cell_type": "markdown",
   "id": "b4ae8990-3dca-4666-bf7c-c46df2439179",
   "metadata": {},
   "source": [
    "Print the list of all sources possibly defining the lower boundary of the TOV mass:"
   ]
  },
  {
   "cell_type": "code",
   "execution_count": 4,
   "id": "034514b2-3090-4a66-8a0e-c1e735970c8c",
   "metadata": {},
   "outputs": [
    {
     "name": "stdout",
     "output_type": "stream",
     "text": [
      "sources: ['J1614–2230', 'J0348+0432', 'J2215+5135', 'J0740+6620', 'J1600+3053']\n"
     ]
    }
   ],
   "source": [
    "sources_lo_all, sources_lo_lower_all = nuda.astro.masses_sources( )\n",
    "print('sources:',sources_lo_all)"
   ]
  },
  {
   "cell_type": "markdown",
   "id": "afccb998-93b2-4ef0-a585-81ed84af6408",
   "metadata": {},
   "source": [
    "Fix the sources to be considered for the lower TOV mass boundary:"
   ]
  },
  {
   "cell_type": "code",
   "execution_count": 11,
   "id": "7e2c980a-7a36-46c3-b430-746203009bef",
   "metadata": {},
   "outputs": [
    {
     "name": "stdout",
     "output_type": "stream",
     "text": [
      "sources lo: ['J1614–2230', 'J0348+0432', 'J0740+6620']\n"
     ]
    }
   ],
   "source": [
    "sources_lo_dist = [ 'J1614–2230', 'J0348+0432', 'J0740+6620' ]\n",
    "print('sources lo:',sources_lo_dist)"
   ]
  },
  {
   "cell_type": "markdown",
   "id": "6139e645-db5f-495b-a4f3-9249c4b14ed9",
   "metadata": {},
   "source": [
    "---"
   ]
  },
  {
   "cell_type": "markdown",
   "id": "0038e0d1-6f5e-4e13-9b1f-1c765ddb9d17",
   "metadata": {},
   "source": [
    "Print the list of all sources possibly defining the upper boundary of the TOV mass:"
   ]
  },
  {
   "cell_type": "code",
   "execution_count": 6,
   "id": "d6f0d0bc-fa24-4a2f-abd6-c91e1a704199",
   "metadata": {},
   "outputs": [
    {
     "name": "stdout",
     "output_type": "stream",
     "text": [
      "sources up1: ['GW170817', 'GW190814']\n"
     ]
    }
   ],
   "source": [
    "sources_up1, sources_up1_lower = nuda.astro.mup_sources( )\n",
    "print('sources up1:',sources_up1)"
   ]
  },
  {
   "cell_type": "markdown",
   "id": "8bf4a670-39a6-47bb-bea6-4b213b087213",
   "metadata": {},
   "source": [
    "Consider only one source for the upper boundary (GW170817):"
   ]
  },
  {
   "cell_type": "code",
   "execution_count": 7,
   "id": "846b70de-366d-4ad3-804b-6eafb3500d4b",
   "metadata": {},
   "outputs": [
    {
     "name": "stdout",
     "output_type": "stream",
     "text": [
      "sources up2: ['GW170817']\n"
     ]
    }
   ],
   "source": [
    "sources_up2 = [ 'GW170817' ]\n",
    "print('sources up2:',sources_up2)"
   ]
  },
  {
   "cell_type": "markdown",
   "id": "47225916-53fc-43fc-8b17-2ed6bf5eeffe",
   "metadata": {},
   "source": [
    "Do not consider any upper boundary for the pdf:"
   ]
  },
  {
   "cell_type": "code",
   "execution_count": 8,
   "id": "6f722a36-3cd9-4986-b4fb-234ced3e2285",
   "metadata": {},
   "outputs": [
    {
     "name": "stdout",
     "output_type": "stream",
     "text": [
      "sources up3: []\n"
     ]
    }
   ],
   "source": [
    "sources_up3 = [ ]\n",
    "print('sources up3:',sources_up3)"
   ]
  },
  {
   "cell_type": "markdown",
   "id": "2ef2b0c1-bf97-4b92-95f8-97ddf35cfbcf",
   "metadata": {},
   "source": [
    "compute the pdf:"
   ]
  },
  {
   "cell_type": "code",
   "execution_count": 9,
   "id": "2781b8c5-b625-4162-90b2-d0a53d5c5576",
   "metadata": {},
   "outputs": [
    {
     "name": "stdout",
     "output_type": "stream",
     "text": [
      "Call average for source: GW170817\n",
      "   hyps: [3, 4]\n",
      "Call average for source: GW190814\n",
      "   hyps: [1]\n",
      "\n",
      "- Print output:\n",
      "   sources_lo:   ['J1614–2230', 'J1600+3053', 'J0740+6620']\n",
      "   sources_up:   ['GW170817', 'GW190814']\n",
      "   mass: [1.5        1.50668896 1.51337793 1.52006689 1.52675585 1.53344482\n",
      " 1.54013378 1.54682274 1.55351171 1.56020067 1.56688963 1.5735786\n",
      " 1.58026756 1.58695652 1.59364548 1.60033445 1.60702341 1.61371237\n",
      " 1.62040134 1.6270903  1.63377926 1.64046823 1.64715719 1.65384615\n",
      " 1.66053512 1.66722408 1.67391304 1.68060201 1.68729097 1.69397993\n",
      " 1.7006689  1.70735786 1.71404682 1.72073579 1.72742475 1.73411371\n",
      " 1.74080268 1.74749164 1.7541806  1.76086957 1.76755853 1.77424749\n",
      " 1.78093645 1.78762542 1.79431438 1.80100334 1.80769231 1.81438127\n",
      " 1.82107023 1.8277592  1.83444816 1.84113712 1.84782609 1.85451505\n",
      " 1.86120401 1.86789298 1.87458194 1.8812709  1.88795987 1.89464883\n",
      " 1.90133779 1.90802676 1.91471572 1.92140468 1.92809365 1.93478261\n",
      " 1.94147157 1.94816054 1.9548495  1.96153846 1.96822742 1.97491639\n",
      " 1.98160535 1.98829431 1.99498328 2.00167224 2.0083612  2.01505017\n",
      " 2.02173913 2.02842809 2.03511706 2.04180602 2.04849498 2.05518395\n",
      " 2.06187291 2.06856187 2.07525084 2.0819398  2.08862876 2.09531773\n",
      " 2.10200669 2.10869565 2.11538462 2.12207358 2.12876254 2.13545151\n",
      " 2.14214047 2.14882943 2.15551839 2.16220736 2.16889632 2.17558528\n",
      " 2.18227425 2.18896321 2.19565217 2.20234114 2.2090301  2.21571906\n",
      " 2.22240803 2.22909699 2.23578595 2.24247492 2.24916388 2.25585284\n",
      " 2.26254181 2.26923077 2.27591973 2.2826087  2.28929766 2.29598662\n",
      " 2.30267559 2.30936455 2.31605351 2.32274247 2.32943144 2.3361204\n",
      " 2.34280936 2.34949833 2.35618729 2.36287625 2.36956522 2.37625418\n",
      " 2.38294314 2.38963211 2.39632107 2.40301003 2.409699   2.41638796\n",
      " 2.42307692 2.42976589 2.43645485 2.44314381 2.44983278 2.45652174\n",
      " 2.4632107  2.46989967 2.47658863 2.48327759 2.48996656 2.49665552\n",
      " 2.50334448 2.51003344 2.51672241 2.52341137 2.53010033 2.5367893\n",
      " 2.54347826 2.55016722 2.55685619 2.56354515 2.57023411 2.57692308\n",
      " 2.58361204 2.590301   2.59698997 2.60367893 2.61036789 2.61705686\n",
      " 2.62374582 2.63043478 2.63712375 2.64381271 2.65050167 2.65719064\n",
      " 2.6638796  2.67056856 2.67725753 2.68394649 2.69063545 2.69732441\n",
      " 2.70401338 2.71070234 2.7173913  2.72408027 2.73076923 2.73745819\n",
      " 2.74414716 2.75083612 2.75752508 2.76421405 2.77090301 2.77759197\n",
      " 2.78428094 2.7909699  2.79765886 2.80434783 2.81103679 2.81772575\n",
      " 2.82441472 2.83110368 2.83779264 2.84448161 2.85117057 2.85785953\n",
      " 2.86454849 2.87123746 2.87792642 2.88461538 2.89130435 2.89799331\n",
      " 2.90468227 2.91137124 2.9180602  2.92474916 2.93143813 2.93812709\n",
      " 2.94481605 2.95150502 2.95819398 2.96488294 2.97157191 2.97826087\n",
      " 2.98494983 2.9916388  2.99832776 3.00501672 3.01170569 3.01839465\n",
      " 3.02508361 3.03177258 3.03846154 3.0451505  3.05183946 3.05852843\n",
      " 3.06521739 3.07190635 3.07859532 3.08528428 3.09197324 3.09866221\n",
      " 3.10535117 3.11204013 3.1187291  3.12541806 3.13210702 3.13879599\n",
      " 3.14548495 3.15217391 3.15886288 3.16555184 3.1722408  3.17892977\n",
      " 3.18561873 3.19230769 3.19899666 3.20568562 3.21237458 3.21906355\n",
      " 3.22575251 3.23244147 3.23913043 3.2458194  3.25250836 3.25919732\n",
      " 3.26588629 3.27257525 3.27926421 3.28595318 3.29264214 3.2993311\n",
      " 3.30602007 3.31270903 3.31939799 3.32608696 3.33277592 3.33946488\n",
      " 3.34615385 3.35284281 3.35953177 3.36622074 3.3729097  3.37959866\n",
      " 3.38628763 3.39297659 3.39966555 3.40635452 3.41304348 3.41973244\n",
      " 3.4264214  3.43311037 3.43979933 3.44648829 3.45317726 3.45986622\n",
      " 3.46655518 3.47324415 3.47993311 3.48662207 3.49331104 3.5       ]\n",
      "   proba_tot: [0.00000000e+00 0.00000000e+00 0.00000000e+00 0.00000000e+00\n",
      " 0.00000000e+00 0.00000000e+00 0.00000000e+00 0.00000000e+00\n",
      " 0.00000000e+00 0.00000000e+00 0.00000000e+00 0.00000000e+00\n",
      " 0.00000000e+00 0.00000000e+00 0.00000000e+00 0.00000000e+00\n",
      " 0.00000000e+00 0.00000000e+00 0.00000000e+00 0.00000000e+00\n",
      " 0.00000000e+00 0.00000000e+00 0.00000000e+00 0.00000000e+00\n",
      " 0.00000000e+00 0.00000000e+00 2.96479006e-22 1.58057366e-21\n",
      " 1.04883964e-20 7.83155359e-20 5.46330327e-19 3.62638886e-18\n",
      " 2.28913227e-17 1.37462144e-16 7.85297906e-16 4.26830621e-15\n",
      " 2.20736424e-14 1.08622696e-13 5.08660350e-13 2.26689573e-12\n",
      " 9.61546775e-12 3.88228140e-11 1.49220311e-10 5.46065150e-10\n",
      " 1.90279972e-09 6.31446099e-09 1.99592116e-08 6.01023535e-08\n",
      " 1.72451359e-07 4.71590631e-07 1.22940612e-06 3.05618237e-06\n",
      " 7.24694383e-06 1.63975495e-05 3.54184776e-05 7.30653767e-05\n",
      " 1.44031636e-04 2.71479696e-04 4.89620481e-04 8.45633055e-04\n",
      " 1.39996625e-03 2.22404723e-03 3.39478987e-03 4.98608637e-03\n",
      " 7.05852167e-03 9.64951348e-03 1.27665101e-02 1.63854486e-02\n",
      " 2.04553888e-02 2.49084736e-02 2.96727778e-02 3.46848012e-02\n",
      " 3.98986466e-02 4.52901349e-02 5.08557270e-02 5.66075221e-02\n",
      " 6.25663436e-02 6.87548985e-02 7.51924063e-02 8.18912918e-02\n",
      " 8.88558461e-02 9.60823465e-02 1.03560018e-01 1.11272314e-01\n",
      " 1.19198182e-01 1.27313153e-01 1.35590224e-01 1.44000564e-01\n",
      " 1.52514101e-01 1.61100034e-01 1.69727295e-01 1.78364990e-01\n",
      " 1.86982819e-01 1.95551468e-01 2.04042980e-01 2.12431088e-01\n",
      " 2.20691509e-01 2.28802202e-01 2.36743564e-01 2.44498588e-01\n",
      " 2.52052958e-01 2.59395105e-01 2.66516197e-01 2.73410093e-01\n",
      " 2.80073248e-01 2.86504575e-01 2.92705284e-01 2.98678675e-01\n",
      " 3.04429926e-01 3.09965847e-01 3.15294641e-01 3.20425638e-01\n",
      " 3.25369049e-01 3.30135708e-01 3.34736824e-01 3.39183746e-01\n",
      " 3.43487732e-01 3.47659732e-01 3.51710178e-01 3.55648792e-01\n",
      " 3.59484385e-01 3.63224684e-01 3.66876136e-01 3.70443737e-01\n",
      " 3.73930840e-01 3.77338965e-01 3.80667606e-01 3.83914025e-01\n",
      " 3.87073041e-01 3.90136820e-01 3.93094650e-01 3.95932738e-01\n",
      " 3.98634005e-01 4.01177905e-01 4.03540281e-01 4.05693261e-01\n",
      " 4.07605210e-01 4.09240768e-01 4.10560960e-01 4.11523427e-01\n",
      " 4.12082763e-01 4.12190987e-01 4.11798150e-01 4.10853082e-01\n",
      " 4.09304284e-01 4.07100946e-01 4.04194090e-01 4.00537814e-01\n",
      " 3.96090601e-01 3.90816679e-01 3.84687373e-01 3.77682418e-01\n",
      " 3.69791184e-01 3.61013758e-01 3.51361840e-01 3.40859410e-01\n",
      " 3.29543113e-01 3.17462348e-01 3.04679010e-01 2.91266899e-01\n",
      " 2.77310772e-01 2.62905065e-01 2.48152304e-01 2.33161243e-01\n",
      " 2.18044790e-01 2.02917769e-01 1.87894605e-01 1.73086988e-01\n",
      " 1.58601620e-01 1.44538093e-01 1.30986991e-01 1.18028270e-01\n",
      " 1.05729963e-01 9.41472618e-02 8.33219771e-02 7.32823986e-02\n",
      " 6.40435354e-02 5.56077111e-02 4.79654737e-02 4.10967688e-02\n",
      " 3.49723149e-02 2.95551195e-02 2.48020679e-02 2.06655236e-02\n",
      " 1.70948826e-02 1.40380297e-02 1.14426593e-02 9.25742647e-03\n",
      " 7.43291341e-03 5.92239845e-03 4.68243118e-03 3.67322143e-03\n",
      " 2.85885829e-03 2.20737951e-03 1.69071509e-03 1.28452981e-03\n",
      " 9.67989528e-04 7.23474569e-04 5.36261311e-04 3.94190075e-04\n",
      " 2.87334202e-04 2.07681929e-04 1.48839452e-04 1.05760737e-04\n",
      " 7.45071344e-05 5.20378042e-05 3.60304164e-05 2.47303958e-05\n",
      " 1.68262482e-05 1.13480596e-05 7.58609608e-06 5.02646238e-06\n",
      " 3.30095395e-06 2.14850106e-06 1.38591777e-06 8.85997264e-07\n",
      " 5.61316854e-07 3.52413726e-07 2.19257924e-07 1.35177590e-07\n",
      " 8.25829929e-08 4.99922941e-08 2.99869606e-08 1.78225381e-08\n",
      " 1.04955576e-08 6.12395274e-09 3.54030204e-09 2.02779059e-09\n",
      " 1.15072787e-09 6.46966253e-10 3.60365402e-10 1.98861303e-10\n",
      " 1.08716815e-10 5.88811348e-11 3.15924000e-11 1.67923038e-11\n",
      " 8.84206244e-12 4.61218948e-12 2.38322907e-12 1.21990080e-12\n",
      " 6.18555289e-13 3.10687048e-13 1.54580220e-13 7.61845344e-14\n",
      " 3.71926617e-14 1.79854446e-14 8.61500166e-15 4.08745351e-15\n",
      " 1.92094035e-15 8.94202284e-16 4.12292774e-16 1.88302385e-16\n",
      " 8.51766443e-17 3.81647494e-17 1.69357387e-17 7.44449001e-18\n",
      " 3.23989345e-18 1.39770327e-18 5.95570743e-19 2.53016692e-19\n",
      " 1.06138484e-19 4.38754880e-20 1.80203823e-20 7.35589138e-21\n",
      " 2.84290769e-21 1.31402191e-21 3.36279013e-22 2.57304090e-22\n",
      " 0.00000000e+00 0.00000000e+00 0.00000000e+00 0.00000000e+00\n",
      " 0.00000000e+00 0.00000000e+00 0.00000000e+00 0.00000000e+00\n",
      " 0.00000000e+00 0.00000000e+00 0.00000000e+00 0.00000000e+00\n",
      " 0.00000000e+00 0.00000000e+00 0.00000000e+00 0.00000000e+00\n",
      " 0.00000000e+00 0.00000000e+00 0.00000000e+00 0.00000000e+00\n",
      " 0.00000000e+00 0.00000000e+00 0.00000000e+00 0.00000000e+00\n",
      " 0.00000000e+00 0.00000000e+00 0.00000000e+00 0.00000000e+00\n",
      " 0.00000000e+00 0.00000000e+00 0.00000000e+00 0.00000000e+00]\n"
     ]
    }
   ],
   "source": [
    "prob = nuda.astro.setupMtov( sources_lo_dist, sources_up1 )\n",
    "prob.print_output( )"
   ]
  },
  {
   "cell_type": "markdown",
   "id": "ac682eb4-c0d0-4ed7-9df5-10b1dd5c6126",
   "metadata": {},
   "source": [
    "---"
   ]
  },
  {
   "cell_type": "markdown",
   "id": "71cef363-4d12-4bf7-b066-eba2a14ae3c6",
   "metadata": {},
   "source": [
    "Figure:"
   ]
  },
  {
   "cell_type": "code",
   "execution_count": 12,
   "id": "b5cb94aa-bfd6-4cbe-9464-056094eaf28c",
   "metadata": {},
   "outputs": [
    {
     "name": "stdout",
     "output_type": "stream",
     "text": [
      "Plot name: None\n",
      "sources removed from distribution: ['J2215+5135', 'J1600+3053']\n",
      "Call average for source: GW170817\n",
      "   hyps: [3, 4]\n",
      "Call average for source: GW190814\n",
      "   hyps: [1]\n",
      "Call average for source: GW170817\n",
      "   hyps: [3, 4]\n",
      "Call average for source: GW190814\n",
      "   hyps: [1]\n",
      "Call average for source: GW170817\n",
      "   hyps: [3, 4]\n",
      "source: J2215+5135\n",
      "source: J1600+3053\n",
      "source: J1614–2230\n",
      "source: J0348+0432\n",
      "source: J0740+6620\n",
      "source: GW170817\n",
      "source: GW190814\n"
     ]
    },
    {
     "data": {
      "image/png": "[encoded data removed]",
      "text/plain": [
       "<Figure size 640x480 with 1 Axes>"
      ]
     },
     "metadata": {},
     "output_type": "display_data"
    }
   ],
   "source": [
    "nuda.fig.astro_setupMtov_fig( None, sources_lo_all, sources_lo_dist, sources_up1, sources_up2, sources_up3 )"
   ]
  }
 ],
 "metadata": {
  "kernelspec": {
   "display_name": "Python 3 (ipykernel)",
   "language": "python",
   "name": "python3"
  },
  "language_info": {
   "codemirror_mode": {
    "name": "ipython",
    "version": 3
   },
   "file_extension": ".py",
   "mimetype": "text/x-python",
   "name": "python",
   "nbconvert_exporter": "python",
   "pygments_lexer": "ipython3",
   "version": "3.12.8"
  }
 },
 "nbformat": 4,
 "nbformat_minor": 5
}

{
 "cells": [
  {
   "cell_type": "markdown",
   "id": "18e40e53-31b6-4813-a749-da54dda57b0c",
   "metadata": {},
   "source": [
    "# Observation constraints on masses and radii (NICER observatory)"
   ]
  },
  {
   "cell_type": "markdown",
   "id": "ab04ae12-cfbe-4f2a-9cc6-e1a88c1836a2",
   "metadata": {},
   "source": [
    "In this tutorial, you will learn how to extract the observational constraints on the masses adn radii obtained by NICER observatory."
   ]
  },
  {
   "cell_type": "markdown",
   "id": "d292a91a-74cf-4d83-b93d-61d32e591729",
   "metadata": {},
   "source": [
    "---"
   ]
  },
  {
   "cell_type": "markdown",
   "id": "bce20006-6025-483e-8bdc-a27c741613ef",
   "metadata": {},
   "source": [
    "Import the libraries that will be employed in this tutorial."
   ]
  },
  {
   "cell_type": "code",
   "execution_count": null,
   "id": "e56eeb64-a615-4128-aa86-e3761498d955",
   "metadata": {},
   "outputs": [],
   "source": [
    "# Import numpy\n",
    "import numpy as np\n",
    "# Import matplotlib\n",
    "import matplotlib.pyplot as plt\n",
    "# Import nucleardatapy package\n",
    "import nucleardatapy as nuda"
   ]
  },
  {
   "cell_type": "markdown",
   "id": "9ad45ea3-da4d-44f2-809a-9933241cb125",
   "metadata": {},
   "source": [
    "You can simply print out the properties of the nuda's function that we will use:"
   ]
  },
  {
   "cell_type": "code",
   "execution_count": 2,
   "id": "962f5076-a792-4fd3-be8a-a3d4dbcaa608",
   "metadata": {},
   "outputs": [
    {
     "name": "stdout",
     "output_type": "stream",
     "text": [
      "['__class__', '__delattr__', '__dict__', '__dir__', '__doc__', '__eq__', '__format__', '__ge__', '__getattribute__', '__getstate__', '__gt__', '__hash__', '__init__', '__init_subclass__', '__le__', '__lt__', '__module__', '__ne__', '__new__', '__reduce__', '__reduce_ex__', '__repr__', '__setattr__', '__sizeof__', '__str__', '__subclasshook__', '__weakref__', 'print_latex', 'print_output']\n"
     ]
    }
   ],
   "source": [
    "# Explore the nucleardatapy module to find the correct attribute\n",
    "print(dir(nuda.astro.setupMR))"
   ]
  },
  {
   "cell_type": "markdown",
   "id": "c7cadb7b-ca65-434f-984d-9d4a79ba11b3",
   "metadata": {},
   "source": [
    "---"
   ]
  },
  {
   "cell_type": "markdown",
   "id": "b4ae8990-3dca-4666-bf7c-c46df2439179",
   "metadata": {},
   "source": [
    "Complete list of available sources:"
   ]
  },
  {
   "cell_type": "code",
   "execution_count": 3,
   "id": "034514b2-3090-4a66-8a0e-c1e735970c8c",
   "metadata": {},
   "outputs": [
    {
     "name": "stdout",
     "output_type": "stream",
     "text": [
      "sources: ['J0030+0451', 'J0740+6620', 'J0437-4715']\n"
     ]
    }
   ],
   "source": [
    "sources, sources_lower = nuda.astro.mr_sources( )\n",
    "print('sources:',sources)"
   ]
  },
  {
   "cell_type": "code",
   "execution_count": 4,
   "id": "89ef290b-e461-41f6-a277-2bd3977d16ae",
   "metadata": {},
   "outputs": [
    {
     "name": "stdout",
     "output_type": "stream",
     "text": [
      "source: J0030+0451, obss: [1, 2, 3, 4]\n"
     ]
    }
   ],
   "source": [
    "source = 'J0030+0451'\n",
    "obss = nuda.astro.mr_obss( source = source )\n",
    "print(f'source: {source}, obss: {obss}')"
   ]
  },
  {
   "cell_type": "code",
   "execution_count": 5,
   "id": "2520ecdc-b993-416c-b1b5-84882dd7ab60",
   "metadata": {},
   "outputs": [
    {
     "name": "stdout",
     "output_type": "stream",
     "text": [
      "source: J0030+0451, obss: [1, 2, 3, 4]\n",
      "- Print output:\n",
      "   source:   J0030+0451\n",
      "   obs: 1\n",
      "   mass: 1.44  in Mo\n",
      "   sigma(mass): 0.15 0.14  in Mo\n",
      "   rad: 13.02  in km\n",
      "   sigma(mass): 1.24 1.06  in km\n",
      "   compactness: 0.163\n",
      "   sigma(comp): 0.008 0.009\n",
      "   latexCite: \n",
      "   ref:     M.C. Miller, F.K. Lamb, A.J. Dittmann, aet al., ApJL 887, L24 (2019).\n",
      "   label:   J0030 Miller 2019\n",
      "   note:    write notes about this observation.\n",
      "- Print output:\n",
      "   source:   J0030+0451\n",
      "   obs: 2\n",
      "   mass: 1.34  in Mo\n",
      "   sigma(mass): 0.15 0.16  in Mo\n",
      "   rad: 12.71  in km\n",
      "   sigma(mass): 1.14 1.19  in km\n",
      "   compactness: 0.156\n",
      "   sigma(comp): 0.008 0.01\n",
      "   latexCite: \n",
      "   ref:     T.E. Riley, A.L. Watts, S. Bogdanov, P.S. Ray, et al., ApJ 887, L21 (2019).\n",
      "   label:   J0030 Riley 2019\n",
      "   note:    write notes about this observation.\n",
      "- Print output:\n",
      "   source:   J0030+0451\n",
      "   obs: 3\n",
      "   mass: 1.7  in Mo\n",
      "   sigma(mass): 0.18 0.19  in Mo\n",
      "   rad: 14.44  in km\n",
      "   sigma(mass): 0.88 1.05  in km\n",
      "   compactness: 0.179\n",
      "   sigma(comp): 0.011 0.022\n",
      "   latexCite: \n",
      "   ref:     S. Vinciguerra, T. Salmi, A.L. Watts, D. Choudhury, et al., ApJ 961, 62 (2024).\n",
      "   label:   J0030 Vinciguerra 2024a\n",
      "   note:    write notes about this observation.\n",
      "- Print output:\n",
      "   source:   J0030+0451\n",
      "   obs: 4\n",
      "   mass: 1.4  in Mo\n",
      "   sigma(mass): 0.13 0.12  in Mo\n",
      "   rad: 11.71  in km\n",
      "   sigma(mass): 0.88 0.83  in km\n",
      "   compactness: 0.1773\n",
      "   sigma(comp): 0.0056 0.0074\n",
      "   latexCite: \n",
      "   ref:     S. Vinciguerra, T. Salmi, A.L. Watts, D. Choudhury, et al., ApJ 961, 62 (2024).\n",
      "   label:   J0030 Vinciguerra 2024b\n",
      "   note:    write notes about this observation.\n",
      "cmax: 0.187\n",
      "cmin: 0.126\n",
      "- No output for source J0030+0451 (average). To get output, write 'verb_output = True' in env.py.\n",
      "source: J0740+6620, obss: [1, 2]\n",
      "- Print output:\n",
      "   source:   J0740+6620\n",
      "   obs: 1\n",
      "   mass: 2.08  in Mo\n",
      "   sigma(mass): 0.07 0.07  in Mo\n",
      "   rad: 13.7  in km\n",
      "   sigma(mass): 2.6 1.5  in km\n",
      "   compactness: 0.0\n",
      "   sigma(comp): 1.0 1.0\n",
      "   latexCite: MCMiller:2021\n",
      "   ref:     M.C. Miller, F.K. Lamb, A.J. Dittmann, S. Bogdanov, et al., ApJL 918, L28 (2021).\n",
      "   label:   J0740 Miller 2021\n",
      "   note:    write notes about this observation.\n",
      "- Print output:\n",
      "   source:   J0740+6620\n",
      "   obs: 2\n",
      "   mass: 2.072  in Mo\n",
      "   sigma(mass): 0.067 0.066  in Mo\n",
      "   rad: 12.39  in km\n",
      "   sigma(mass): 1.3 0.98  in km\n",
      "   compactness: 0.0\n",
      "   sigma(comp): 1.0 1.0\n",
      "   latexCite: TERiley:2021\n",
      "   ref:     T.E. Riley, A.L. Watts, P.S. Ray, S. Bogdanov, et al., ApJL 918, L27 (2021).\n",
      "   label:   J0740 Riley 2021\n",
      "   note:    write notes about this observation.\n",
      "cmax: 3.0\n",
      "cmin: -3.0\n",
      "- No output for source J0740+6620 (average). To get output, write 'verb_output = True' in env.py.\n",
      "source: J0437-4715, obss: [1]\n",
      "- Print output:\n",
      "   source:   J0437-4715\n",
      "   obs: 1\n",
      "   mass: 1.418  in Mo\n",
      "   sigma(mass): 0.037 0.037  in Mo\n",
      "   rad: 11.36  in km\n",
      "   sigma(mass): 0.945 0.629  in km\n",
      "   compactness: 0.1847\n",
      "   sigma(comp): 0.0097 0.0143\n",
      "   latexCite: DChoudhury:2024\n",
      "   ref:     D. Choudhury, T. Salmi, S. Vinciguerra, T.E. Riley, et al., ApJL 971, L20 (2024).\n",
      "   label:   J0437 Choudhury 2024\n",
      "   note:    write notes about this observation.\n",
      "Obs  2  is not in the list of obs.\n",
      "list of obs: [1]\n",
      "-- Exit the code --\n"
     ]
    },
    {
     "ename": "NameError",
     "evalue": "name 'exit' is not defined",
     "output_type": "error",
     "traceback": [
      "\u001b[0;31m---------------------------------------------------------------------------\u001b[0m",
      "\u001b[0;31mNameError\u001b[0m                                 Traceback (most recent call last)",
      "Cell \u001b[0;32mIn[5], line 7\u001b[0m\n\u001b[1;32m      5\u001b[0m     mr \u001b[38;5;241m=\u001b[39m nuda\u001b[38;5;241m.\u001b[39mastro\u001b[38;5;241m.\u001b[39msetupMR( source \u001b[38;5;241m=\u001b[39m source, obs \u001b[38;5;241m=\u001b[39m obs )\n\u001b[1;32m      6\u001b[0m     mr\u001b[38;5;241m.\u001b[39mprint_output()\n\u001b[0;32m----> 7\u001b[0m mrav \u001b[38;5;241m=\u001b[39m \u001b[43mnuda\u001b[49m\u001b[38;5;241;43m.\u001b[39;49m\u001b[43mastro\u001b[49m\u001b[38;5;241;43m.\u001b[39;49m\u001b[43msetupMRAverage\u001b[49m\u001b[43m(\u001b[49m\u001b[43m \u001b[49m\u001b[43msource\u001b[49m\u001b[43m \u001b[49m\u001b[38;5;241;43m=\u001b[39;49m\u001b[43m \u001b[49m\u001b[43msource\u001b[49m\u001b[43m \u001b[49m\u001b[43m)\u001b[49m\n\u001b[1;32m      8\u001b[0m mrav\u001b[38;5;241m.\u001b[39mprint_output()\n",
      "File \u001b[0;32m~/Git/GitHub/nucleardatapy/version-0.2/nucleardatapy/astro/setup_mr.py:295\u001b[0m, in \u001b[0;36msetupMRAverage.__init__\u001b[0;34m(self, source, obss)\u001b[0m\n\u001b[1;32m    292\u001b[0m cmin \u001b[38;5;241m=\u001b[39m \u001b[38;5;241m30.0\u001b[39m; cmax \u001b[38;5;241m=\u001b[39m \u001b[38;5;241m0.0\u001b[39m;\n\u001b[1;32m    293\u001b[0m \u001b[38;5;28;01mfor\u001b[39;00m obs \u001b[38;5;129;01min\u001b[39;00m obss:\n\u001b[1;32m    294\u001b[0m     \u001b[38;5;66;03m# mass:\u001b[39;00m\n\u001b[0;32m--> 295\u001b[0m     mr \u001b[38;5;241m=\u001b[39m \u001b[43mnuda\u001b[49m\u001b[38;5;241;43m.\u001b[39;49m\u001b[43msetupMR\u001b[49m\u001b[43m(\u001b[49m\u001b[43m \u001b[49m\u001b[43msource\u001b[49m\u001b[43m \u001b[49m\u001b[38;5;241;43m=\u001b[39;49m\u001b[43m \u001b[49m\u001b[43msource\u001b[49m\u001b[43m,\u001b[49m\u001b[43m \u001b[49m\u001b[43mobs\u001b[49m\u001b[43m \u001b[49m\u001b[38;5;241;43m=\u001b[39;49m\u001b[43m \u001b[49m\u001b[43mobs\u001b[49m\u001b[43m \u001b[49m\u001b[43m)\u001b[49m\n\u001b[1;32m    296\u001b[0m     mlo \u001b[38;5;241m=\u001b[39m mr\u001b[38;5;241m.\u001b[39mmass \u001b[38;5;241m-\u001b[39m \u001b[38;5;241m3\u001b[39m\u001b[38;5;241m*\u001b[39mmr\u001b[38;5;241m.\u001b[39mmass_sig_lo\n\u001b[1;32m    297\u001b[0m     mup \u001b[38;5;241m=\u001b[39m mr\u001b[38;5;241m.\u001b[39mmass \u001b[38;5;241m+\u001b[39m \u001b[38;5;241m3\u001b[39m\u001b[38;5;241m*\u001b[39mmr\u001b[38;5;241m.\u001b[39mmass_sig_up\n",
      "File \u001b[0;32m~/Git/GitHub/nucleardatapy/version-0.2/nucleardatapy/astro/setup_mr.py:89\u001b[0m, in \u001b[0;36msetupMR.__init__\u001b[0;34m(self, source, obs)\u001b[0m\n\u001b[1;32m     87\u001b[0m     \u001b[38;5;28mprint\u001b[39m(\u001b[38;5;124m'\u001b[39m\u001b[38;5;124mlist of obs:\u001b[39m\u001b[38;5;124m'\u001b[39m,obss)\n\u001b[1;32m     88\u001b[0m     \u001b[38;5;28mprint\u001b[39m(\u001b[38;5;124m'\u001b[39m\u001b[38;5;124m-- Exit the code --\u001b[39m\u001b[38;5;124m'\u001b[39m)\n\u001b[0;32m---> 89\u001b[0m     \u001b[43mexit\u001b[49m()\n\u001b[1;32m     90\u001b[0m \u001b[38;5;28mself\u001b[39m\u001b[38;5;241m.\u001b[39mobs \u001b[38;5;241m=\u001b[39m obs\n\u001b[1;32m     91\u001b[0m \u001b[38;5;28;01mif\u001b[39;00m nuda\u001b[38;5;241m.\u001b[39menv\u001b[38;5;241m.\u001b[39mverb: \u001b[38;5;28mprint\u001b[39m(\u001b[38;5;124m\"\u001b[39m\u001b[38;5;124mobs:\u001b[39m\u001b[38;5;124m\"\u001b[39m,obs)\n",
      "\u001b[0;31mNameError\u001b[0m: name 'exit' is not defined"
     ]
    }
   ],
   "source": [
    "for source in sources:\n",
    "    obss = nuda.astro.mr_obss( source = source )\n",
    "    print(f'source: {source}, obss: {obss}')\n",
    "    for obs in obss:\n",
    "        mr = nuda.astro.setupMR( source = source, obs = obs )\n",
    "        mr.print_output()\n",
    "    mrav = nuda.astro.setupMRAverage( source = source )\n",
    "    mrav.print_output()"
   ]
  },
  {
   "cell_type": "markdown",
   "id": "71cef363-4d12-4bf7-b066-eba2a14ae3c6",
   "metadata": {},
   "source": [
    "Figure:"
   ]
  },
  {
   "cell_type": "code",
   "execution_count": 7,
   "id": "b5cb94aa-bfd6-4cbe-9464-056094eaf28c",
   "metadata": {},
   "outputs": [
    {
     "name": "stdout",
     "output_type": "stream",
     "text": [
      "Plot name: None\n",
      "source: J0030+0451, obss: [1, 2, 3, 4]\n",
      "- table: J0030+0451 & 1 & ${13.02}^{1.24}_{-1.06}$ & $1.440^{0.15}_{-0.14}$ & $0.163^{0.008}_{-0.009}$ & \\cite{} \\\\\\\\\n",
      "- table: J0030+0451 & 2 & ${12.71}^{1.14}_{-1.19}$ & $1.340^{0.15}_{-0.16}$ & $0.156^{0.008}_{-0.01}$ & \\cite{} \\\\\\\\\n",
      "- table: J0030+0451 & 3 & ${14.44}^{0.88}_{-1.05}$ & $1.700^{0.18}_{-0.19}$ & $0.179^{0.011}_{-0.022}$ & \\cite{} \\\\\\\\\n",
      "- table: J0030+0451 & 4 & ${11.71}^{0.88}_{-0.83}$ & $1.400^{0.13}_{-0.12}$ & $0.1773^{0.0056}_{-0.0074}$ & \\cite{} \\\\\\\\\n",
      "source: J0740+6620, obss: [1, 2]\n",
      "- table: J0740+6620 & 1 & ${13.70}^{2.6}_{-1.5}$ & $2.080^{0.07}_{-0.07}$ & $0.0^{1.0}_{-1.0}$ & \\cite{MCMiller:2021} \\\\\\\\\n",
      "- table: J0740+6620 & 2 & ${12.39}^{1.3}_{-0.98}$ & $2.072^{0.067}_{-0.066}$ & $0.0^{1.0}_{-1.0}$ & \\cite{TERiley:2021} \\\\\\\\\n",
      "source: J0437-4715, obss: [1]\n",
      "- table: J0437-4715 & 1 & ${11.36}^{0.945}_{-0.629}$ & $1.418^{0.037}_{-0.037}$ & $0.1847^{0.0097}_{-0.0143}$ & \\cite{DChoudhury:2024} \\\\\\\\\n",
      "cmax: 0.187\n",
      "cmin: 0.126\n",
      "- table: J0030+0451 & av & $12.89\\pm1.166$ & $1.390\\pm0.158$ & $0.159\\pm0.009$ & \\\\\\\\\n",
      "cmax: 3.0\n",
      "cmin: -3.0\n",
      "- table: J0740+6620 & av & $13.33\\pm1.844$ & $2.076\\pm0.068$ & $-0.0\\pm0.987$ & \\\\\\\\\n",
      "source: J0030+0451\n",
      "source: J0740+6620\n",
      "source: J0437-4715\n"
     ]
    },
    {
     "data": {
      "image/png": "[encoded data removed]",
      "text/plain": [
       "<Figure size 640x480 with 1 Axes>"
      ]
     },
     "metadata": {},
     "output_type": "display_data"
    }
   ],
   "source": [
    "sources = [ 'J0030+0451', 'J0740+6620', 'J0437-4715' ]\n",
    "sources_av = [ 'J0030+0451', 'J0740+6620' ]\n",
    "nuda.fig.astro_setupMR_fig( None, sources, sources_av )"
   ]
  }
 ],
 "metadata": {
  "kernelspec": {
   "display_name": "Python 3 (ipykernel)",
   "language": "python",
   "name": "python3"
  },
  "language_info": {
   "codemirror_mode": {
    "name": "ipython",
    "version": 3
   },
   "file_extension": ".py",
   "mimetype": "text/x-python",
   "name": "python",
   "nbconvert_exporter": "python",
   "pygments_lexer": "ipython3",
   "version": "3.12.8"
  }
 },
 "nbformat": 4,
 "nbformat_minor": 5
}

{
 "cells": [
  {
   "cell_type": "markdown",
   "id": "0433e2ad-3c1f-425b-8a6c-9b007b5dc828",
   "metadata": {},
   "source": [
    "# Introduction to nucleardatapy toolkit"
   ]
  },
  {
   "cell_type": "markdown",
   "id": "ba27284d-34a5-47f6-9a68-274d4978b306",
   "metadata": {},
   "source": [
    "In this tutorial, you will learn basic functions for using nuda toolkit."
   ]
  },
  {
   "cell_type": "markdown",
   "id": "ff7749ad-db71-4b1e-987c-8439db0501de",
   "metadata": {},
   "source": [
    "First, import the libraries that will be employed in this tutorial."
   ]
  },
  {
   "cell_type": "code",
   "execution_count": null,
   "id": "8e49fc10-2a17-4f80-bc8d-413b9959db59",
   "metadata": {},
   "outputs": [],
   "source": [
    "# import matplotlib\n",
    "import matplotlib.pyplot as plt\n",
    "# Import nucleardatapy package\n",
    "import nucleardatapy as nuda"
   ]
  },
  {
   "cell_type": "markdown",
   "id": "f789482d-6202-4c89-84fb-6a681b10ee33",
   "metadata": {},
   "source": [
    "---"
   ]
  },
  {
   "cell_type": "markdown",
   "id": "4a89f64c-74dc-4302-aca2-e05e2132e869",
   "metadata": {},
   "source": [
    "What are the functions available in the toolkit?\n",
    "Type:"
   ]
  },
  {
   "cell_type": "code",
   "execution_count": 2,
   "id": "b32d589b-4b1d-49a8-a0de-741f725a1aa7",
   "metadata": {},
   "outputs": [
    {
     "name": "stdout",
     "output_type": "stream",
     "text": [
      "['APRfit_compute', 'AutoMinorLocator', 'CST_AtmMass', 'CST_dmHc2', 'CST_dmnc2', 'CST_mHc2', 'CST_mnc2', 'CubicSpline', 'EsymLsym_constraints', 'G_cgs', 'G_si', 'HIC_Esym', 'HIC_Lsym', 'HIC_Lsym_bound', 'HIC_xgi', 'HTsl', 'HTvsl', 'ILt', 'ISt', 'KsatQsat_constraints', 'MODEL_STYLES', 'MODEL_TABLES_DIR', 'MeV2J', 'MeV2kg', 'MeVfm32dyncm2', 'MeVfm32gcm3', 'Msol_cgs', 'Msol_si', 'Nc', 'Rsol_cgs', 'Rsol_si', 'SOURCE_LABELS_LATEX', '__builtins__', '__cached__', '__doc__', '__file__', '__loader__', '__name__', '__package__', '__path__', '__spec__', 'astro', 'astro_setupGW_fig', 'astro_setupMR_fig', 'astro_setupMasses_fig', 'astro_setupMtov_fig', 'astro_setupMup_fig', 'be_exp_tables', 'be_exp_versions', 'be_theo_tables', 'c', 'c2', 'checkPheno', 'col', 'compute_proba_do', 'compute_proba_up', 'conversionMBE', 'corr', 'corr_setupEsymDen_fig', 'corr_setupEsymLsym_fig', 'corr_setupKsatQsat_fig', 'create_folder', 'create_folder_fig', 'crust', 'crust_models', 'crust_setupCrust_fig', 'cst', 'curve_fit', 'days', 'delta_emp', 'den', 'den_n', 'e', 'eF_n', 'eF_n_nr', 'effg_NM_nr', 'effg_SM_nr', 'effg_nr', 'effmass_emp', 'elements', 'env', 'eos', 'eos_setupAMBeq_e2a_lep_fig', 'eos_setupAMBeq_e2a_nuc_fig', 'eos_setupAMBeq_e2a_tot_fig', 'eos_setupAMBeq_fig', 'eos_setupAMBeq_pre_lep_fig', 'eos_setupAMBeq_pre_nuc_fig', 'eos_setupAMBeq_pre_tot_fig', 'eos_setupAMBeq_xe_fig', 'eos_setupAMBeq_xmu_fig', 'eos_setupAMBeq_xp_fig', 'eos_setupAMLeq_fig', 'eos_setupAMLeq_xe_fig', 'eos_setupAMLeq_xexmu_fig', 'eos_setupAMLeq_xmu_fig', 'eos_setupAM_e_asy_lep_fig', 'eos_setupAM_e_asy_nuc_fig', 'eos_setupAM_e_asy_tot_fig', 'eos_setupAM_e_fig', 'esymffg_nr', 'f_dp_dn', 'feden', 'fig', 'five', 'fiveThird', 'flinear', 'four', 'fpres', 'fsolve', 'func_GCR_cs2', 'func_GCR_e2a', 'func_GCR_pre', 'func_am', 'func_betaeq', 'func_dpredn_NLEFT2024', 'func_e2a_NLEFT2024', 'func_pre_NLEFT2024', 'gauss', 'gw_hyps', 'gw_sources', 'h2m', 'half', 'hbc', 'hic_constraints', 'hnuc', 'hnuc_setupChart_fig', 'hnuc_setupRE1LExp_fig', 'hours', 'isgmr_exp_tables', 'kf', 'kf_n', 'masses_obss', 'masses_sources', 'math', 'matter', 'matter_ENM_fig', 'matter_ESM_fig', 'matter_Esym_fig', 'matter_cs2_fig', 'matter_preNM_fig', 'matter_preSM_fig', 'matter_setupCheck_fig', 'matter_setupFFGNuc_EOS_fig', 'matter_setupFFGNuc_EP_fig', 'matter_setupFFGNuc_fig', 'matter_setupHIC_fig', 'matter_setupMicroEsym_fig', 'matter_setupMicro_E_fig', 'matter_setupMicro_LP_fig', 'matter_setupMicro_band_fig', 'matter_setupMicro_effmass_fig', 'matter_setupMicro_err_NM_fig', 'matter_setupMicro_fig', 'matter_setupMicro_gap_1s0_fig', 'matter_setupMicro_gap_3pf2_fig', 'matter_setupMicro_gap_fig', 'matter_setupNEPModelDist_fig', 'matter_setupPhenoEsym_fig', 'matter_setupPheno_E_fig', 'matter_setupPheno_fig', 'mec2', 'micro_LP_models', 'micro_effmass_models', 'micro_esym_mbs', 'micro_esym_models', 'micro_esym_models_mb', 'micro_esym_models_mbs', 'micro_esym_models_old', 'micro_gap_models', 'micro_mbs', 'micro_models', 'micro_models_mb', 'micro_models_mb_NM_old', 'micro_models_mb_SM_old', 'micro_models_mb_matter', 'micro_models_mbs', 'micro_models_old', 'minutes', 'mmuc2', 'mnc2', 'mnuc2', 'mnuc2_approx', 'months', 'mpc2', 'mpl', 'mr_obss', 'mr_sources', 'mup_hyps', 'mup_sources', 'nep_models', 'nep_params', 'np', 'ns', 'nsat', 'nuc', 'nuc_setupBEExp_D3n_fig', 'nuc_setupBEExp_D3p_fig', 'nuc_setupBEExp_S2n_fig', 'nuc_setupBEExp_S2p_fig', 'nuc_setupBEExp_chart_Rch_fig', 'nuc_setupBEExp_chart_fig', 'nuc_setupBEExp_chart_lt_fig', 'nuc_setupBEExp_chart_year_fig', 'nuc_setupBEExp_fig', 'nuc_setupBEExp_year_fig', 'nuc_setupBETheo_D3n_fig', 'nuc_setupBETheo_D3p_fig', 'nuc_setupBETheo_S2n_fig', 'nuc_setupBETheo_S2p_fig', 'nuc_setupBETheo_diff_fig', 'nuc_setupBETheo_fig', 'nuc_setupISGMRExp_fig', 'nuc_setupRchExp_3Zref_fig', 'nuc_setupRchExp_fig', 'nuc_setupRchTheo_3Zref_fig', 'nuc_setupRchTheo_fig', 'nuc_setupRnpExp_fig', 'nuc_setupRnpTheo_fig', 'nucleardatapy_tk', 'nuda', 'one', 'os', 'param', 'path_ame', 'path_data', 'pheno_esym_models', 'pheno_esym_params', 'pheno_models', 'pheno_params', 'pi', 'pi2', 'plot_shells', 'plt', 'random', 'rch_emp', 'rch_exp_tables', 'rch_theo_tables', 're1L_exp_tables', 're1Xi_exp_tables', 're2L_exp_tables', 'read_model_data', 'rnp_exp', 'rnp_exp_source', 'rnp_theo_models', 'rnp_theo_params', 'rshsol_si', 'setupAM', 'setupAMBeq', 'setupAMLeq', 'setupBEExp', 'setupBETheo', 'setupCheck', 'setupCrust', 'setupEsymDen', 'setupEsymLsym', 'setupFFGLep', 'setupFFGNuc', 'setupGW', 'setupGWAverage', 'setupHIC', 'setupISGMRExp', 'setupKsatQsat', 'setupMR', 'setupMRAverage', 'setupMasses', 'setupMassesAverage', 'setupMicro', 'setupMicroBand', 'setupMicroEffmass', 'setupMicroEsym', 'setupMicroGap', 'setupMicroLP', 'setupMtov', 'setupMup', 'setupMupAverage', 'setupNEP', 'setupNEPDist', 'setupNEPModelDist', 'setupPheno', 'setupPhenoEsym', 'setupRE1LExp', 'setupRE1XiExp', 'setupRE2LExp', 'setupRchExp', 'setupRchExpIsotopes', 'setupRchTheo', 'setupRchTheoIsotopes', 'setupRnpAverage', 'setupRnpExp', 'setupRnpTheo', 'setup_EsymDen', 'setup_EsymLsym', 'setup_KsatQsat', 'setup_am', 'setup_am_Beq', 'setup_am_Leq', 'setup_be_exp', 'setup_be_theo', 'setup_check', 'setup_crust', 'setup_ffg', 'setup_gw', 'setup_hic', 'setup_isgmr_exp', 'setup_masses', 'setup_micro', 'setup_micro_band', 'setup_micro_effmass', 'setup_micro_esym', 'setup_micro_gap', 'setup_micro_lp', 'setup_mr', 'setup_mtov', 'setup_mup', 'setup_nep', 'setup_nep_dist', 'setup_nep_model_dist', 'setup_pheno', 'setup_pheno_esym', 'setup_rch_exp', 'setup_rch_theo', 'setup_re1L_exp', 'setup_re1Xi_exp', 'setup_re2L_exp', 'setup_rnp_exp', 'setup_rnp_theo', 'special', 'stable_fit', 'sys', 'tex2str', 'third', 'three', 'threeFifth', 'two', 'twoThird', 'uncertainty_stat', 'verb', 'verb_latex', 'verb_output', 'yearMin', 'years']\n"
     ]
    }
   ],
   "source": [
    "print ( dir ( nuda ) )"
   ]
  },
  {
   "cell_type": "code",
   "execution_count": 3,
   "id": "3fd3f2c6-4ffd-4566-95b8-5a397c5c14a4",
   "metadata": {},
   "outputs": [
    {
     "name": "stdout",
     "output_type": "stream",
     "text": [
      "Help on package nucleardatapy:\n",
      "\n",
      "NAME\n",
      "    nucleardatapy - This module provides microscopic, phenomenological and experimental data constraints.\n",
      "\n",
      "PACKAGE CONTENTS\n",
      "    astro (package)\n",
      "    corr (package)\n",
      "    create_folder\n",
      "    crust (package)\n",
      "    cst\n",
      "    env\n",
      "    eos (package)\n",
      "    fig (package)\n",
      "    hnuc (package)\n",
      "    matter (package)\n",
      "    nuc (package)\n",
      "    param\n",
      "\n",
      "SUBMODULES\n",
      "    eos_setupAMBeq_fig\n",
      "    eos_setupAMLeq_fig\n",
      "    matter_setupFFGNuc_fig\n",
      "    matter_setupMicro_fig\n",
      "    matter_setupMicro_gap_fig\n",
      "    matter_setupPheno_fig\n",
      "    nuc_setupBEExp_chart_fig\n",
      "    nuc_setupBEExp_fig\n",
      "    nuc_setupBETheo_fig\n",
      "    nuc_setupRnpTheo_fig\n",
      "    setup_EsymDen\n",
      "    setup_EsymLsym\n",
      "    setup_KsatQsat\n",
      "    setup_am\n",
      "    setup_am_Beq\n",
      "    setup_am_Leq\n",
      "    setup_be_exp\n",
      "    setup_be_theo\n",
      "    setup_check\n",
      "    setup_crust\n",
      "    setup_ffg\n",
      "    setup_gw\n",
      "    setup_hic\n",
      "    setup_isgmr_exp\n",
      "    setup_masses\n",
      "    setup_micro\n",
      "    setup_micro_band\n",
      "    setup_micro_effmass\n",
      "    setup_micro_esym\n",
      "    setup_micro_gap\n",
      "    setup_micro_lp\n",
      "    setup_mr\n",
      "    setup_mtov\n",
      "    setup_mup\n",
      "    setup_nep\n",
      "    setup_nep_dist\n",
      "    setup_nep_model_dist\n",
      "    setup_pheno\n",
      "    setup_pheno_esym\n",
      "    setup_rch_exp\n",
      "    setup_rch_theo\n",
      "    setup_re1L_exp\n",
      "    setup_re1Xi_exp\n",
      "    setup_re2L_exp\n",
      "    setup_rnp_exp\n",
      "    setup_rnp_theo\n",
      "\n",
      "DATA\n",
      "    CST_AtmMass = 931.494028\n",
      "    CST_dmHc2 = 1e-07\n",
      "    CST_dmnc2 = 5e-07\n",
      "    CST_mHc2 = 7.2889706\n",
      "    CST_mnc2 = 8.0713171\n",
      "    G_cgs = 6.67259e-08\n",
      "    G_si = 6.67259e-11\n",
      "    HTsl = 3600\n",
      "    HTvsl = 0.001\n",
      "    ILt = 3.155692608e+37\n",
      "    ISt = 1e-30\n",
      "    MODEL_STYLES = {'ddrh': {'color': 'green', 'label': 'DDRH', 'marker': ...\n",
      "    MODEL_TABLES_DIR = '/home/sudhanvalalit/Documents/Research/Jerome/nu.....\n",
      "    MeV2J = 1.6021766339999998e-13\n",
      "    MeV2kg = 1.7826619216278976e-30\n",
      "    MeVfm32dyncm2 = 1.602176634e+33\n",
      "    MeVfm32gcm3 = 1782661921627.8977\n",
      "    Msol_cgs = 1.99e+33\n",
      "    Msol_si = 1.99e+30\n",
      "    Nc = 3\n",
      "    Rsol_cgs = 69600000000.0\n",
      "    Rsol_si = 696000000.0\n",
      "    SOURCE_LABELS_LATEX = {'208Pb': r'$^{208}\\mathrm{Pb}$', '48Ca': r'$^{4...\n",
      "    c = 299792458.0\n",
      "    c2 = 8.987551787368176e+16\n",
      "    col = ['blue', 'orange', 'green', 'red', 'purple', 'brown', 'pink', 'g...\n",
      "    days = 86400\n",
      "    e = 1.602176634e-19\n",
      "    elements = array(['H', 'He', 'Li', 'Be', 'B', 'C', 'N', 'O'...'Nh', 'F...\n",
      "    five = 5.0\n",
      "    fiveThird = 1.6666666666666667\n",
      "    four = 4.0\n",
      "    h2m = 41.471043279826425\n",
      "    half = 0.5\n",
      "    hbc = 197.3269804\n",
      "    hours = 3600\n",
      "    mec2 = 0.510998949\n",
      "    minutes = 60\n",
      "    mmuc2 = 105.6583745\n",
      "    mnc2 = 939.565346\n",
      "    mnuc2 = 939.0\n",
      "    mnuc2_approx = 939.0\n",
      "    months = 2592000\n",
      "    mpc2 = 938.272013\n",
      "    ns = 1e-09\n",
      "    nsat = 0.16\n",
      "    nucleardatapy_tk = None\n",
      "    one = 1.0\n",
      "    path_ame = '/home/sudhanvalalit/Documents/Research/Jerome/nucleardatap...\n",
      "    path_data = '/home/sudhanvalalit/Documents/Research/Jerome/nucleardata...\n",
      "    pi = 3.141592653589793\n",
      "    pi2 = 9.869604401089358\n",
      "    rshsol_si = 2954.85453973408\n",
      "    third = 0.3333333333333333\n",
      "    three = 3.0\n",
      "    threeFifth = 0.6\n",
      "    two = 2.0\n",
      "    twoThird = 0.6666666666666666\n",
      "    verb = False\n",
      "    verb_latex = True\n",
      "    verb_output = False\n",
      "    yearMin = 1851\n",
      "    years = 31556926.080000002\n",
      "\n",
      "FILE\n",
      "    /home/sudhanvalalit/Documents/Research/Jerome/nucleardatapy/version-0.2/nucleardatapy/__init__.py\n",
      "\n",
      "\n",
      "None\n"
     ]
    }
   ],
   "source": [
    "print ( help ( nuda ) )"
   ]
  },
  {
   "cell_type": "code",
   "execution_count": 4,
   "id": "4bee95a6-068e-4a47-ad19-b3c05400bac7",
   "metadata": {},
   "outputs": [
    {
     "name": "stdout",
     "output_type": "stream",
     "text": [
      "{'__name__': 'nucleardatapy', '__doc__': '\\nThis module provides microscopic, phenomenological and experimental data constraints.\\n', '__package__': 'nucleardatapy', '__loader__': <_frozen_importlib_external.SourceFileLoader object at 0x72a469fdf2f0>, '__spec__': ModuleSpec(name='nucleardatapy', loader=<_frozen_importlib_external.SourceFileLoader object at 0x72a469fdf2f0>, origin='/home/sudhanvalalit/Documents/Research/Jerome/nucleardatapy/version-0.2/nucleardatapy/__init__.py', submodule_search_locations=['/home/sudhanvalalit/Documents/Research/Jerome/nucleardatapy/version-0.2/nucleardatapy']), '__path__': ['/home/sudhanvalalit/Documents/Research/Jerome/nucleardatapy/version-0.2/nucleardatapy'], '__file__': '/home/sudhanvalalit/Documents/Research/Jerome/nucleardatapy/version-0.2/nucleardatapy/__init__.py', '__cached__': '/home/sudhanvalalit/Documents/Research/Jerome/nucleardatapy/version-0.2/nucleardatapy/__pycache__/__init__.cpython-313.pyc', '__builtins__': {'__name__': 'builtins', '__doc__': \"Built-in functions, types, exceptions, and other objects.\\n\\nThis module provides direct access to all 'built-in'\\nidentifiers of Python; for example, builtins.len is\\nthe full name for the built-in function len().\\n\\nThis module is not normally accessed explicitly by most\\napplications, but can be useful in modules that provide\\nobjects with the same name as a built-in value, but in\\nwhich the built-in of that name is also needed.\", '__package__': '', '__loader__': <class '_frozen_importlib.BuiltinImporter'>, '__spec__': ModuleSpec(name='builtins', loader=<class '_frozen_importlib.BuiltinImporter'>, origin='built-in'), '__build_class__': <built-in function __build_class__>, '__import__': <built-in function __import__>, 'abs': <built-in function abs>, 'all': <built-in function all>, 'any': <built-in function any>, 'ascii': <built-in function ascii>, 'bin': <built-in function bin>, 'breakpoint': <built-in function breakpoint>, 'callable': <built-in function callable>, 'chr': <built-in function chr>, 'compile': <built-in function compile>, 'delattr': <built-in function delattr>, 'dir': <built-in function dir>, 'divmod': <built-in function divmod>, 'eval': <built-in function eval>, 'exec': <built-in function exec>, 'format': <built-in function format>, 'getattr': <built-in function getattr>, 'globals': <built-in function globals>, 'hasattr': <built-in function hasattr>, 'hash': <built-in function hash>, 'hex': <built-in function hex>, 'id': <built-in function id>, 'input': <bound method Kernel.raw_input of <ipykernel.ipkernel.IPythonKernel object at 0x72a4fd5aef90>>, 'isinstance': <built-in function isinstance>, 'issubclass': <built-in function issubclass>, 'iter': <built-in function iter>, 'aiter': <built-in function aiter>, 'len': <built-in function len>, 'locals': <built-in function locals>, 'max': <built-in function max>, 'min': <built-in function min>, 'next': <built-in function next>, 'anext': <built-in function anext>, 'oct': <built-in function oct>, 'ord': <built-in function ord>, 'pow': <built-in function pow>, 'print': <built-in function print>, 'repr': <built-in function repr>, 'round': <built-in function round>, 'setattr': <built-in function setattr>, 'sorted': <built-in function sorted>, 'sum': <built-in function sum>, 'vars': <built-in function vars>, 'None': None, 'Ellipsis': Ellipsis, 'NotImplemented': NotImplemented, 'False': False, 'True': True, 'bool': <class 'bool'>, 'memoryview': <class 'memoryview'>, 'bytearray': <class 'bytearray'>, 'bytes': <class 'bytes'>, 'classmethod': <class 'classmethod'>, 'complex': <class 'complex'>, 'dict': <class 'dict'>, 'enumerate': <class 'enumerate'>, 'filter': <class 'filter'>, 'float': <class 'float'>, 'frozenset': <class 'frozenset'>, 'property': <class 'property'>, 'int': <class 'int'>, 'list': <class 'list'>, 'map': <class 'map'>, 'object': <class 'object'>, 'range': <class 'range'>, 'reversed': <class 'reversed'>, 'set': <class 'set'>, 'slice': <class 'slice'>, 'staticmethod': <class 'staticmethod'>, 'str': <class 'str'>, 'super': <class 'super'>, 'tuple': <class 'tuple'>, 'type': <class 'type'>, 'zip': <class 'zip'>, '__debug__': True, 'BaseException': <class 'BaseException'>, 'BaseExceptionGroup': <class 'BaseExceptionGroup'>, 'Exception': <class 'Exception'>, 'GeneratorExit': <class 'GeneratorExit'>, 'KeyboardInterrupt': <class 'KeyboardInterrupt'>, 'SystemExit': <class 'SystemExit'>, 'ArithmeticError': <class 'ArithmeticError'>, 'AssertionError': <class 'AssertionError'>, 'AttributeError': <class 'AttributeError'>, 'BufferError': <class 'BufferError'>, 'EOFError': <class 'EOFError'>, 'ImportError': <class 'ImportError'>, 'LookupError': <class 'LookupError'>, 'MemoryError': <class 'MemoryError'>, 'NameError': <class 'NameError'>, 'OSError': <class 'OSError'>, 'ReferenceError': <class 'ReferenceError'>, 'RuntimeError': <class 'RuntimeError'>, 'StopAsyncIteration': <class 'StopAsyncIteration'>, 'StopIteration': <class 'StopIteration'>, 'SyntaxError': <class 'SyntaxError'>, 'SystemError': <class 'SystemError'>, 'TypeError': <class 'TypeError'>, 'ValueError': <class 'ValueError'>, 'Warning': <class 'Warning'>, 'FloatingPointError': <class 'FloatingPointError'>, 'OverflowError': <class 'OverflowError'>, 'ZeroDivisionError': <class 'ZeroDivisionError'>, 'BytesWarning': <class 'BytesWarning'>, 'DeprecationWarning': <class 'DeprecationWarning'>, 'EncodingWarning': <class 'EncodingWarning'>, 'FutureWarning': <class 'FutureWarning'>, 'ImportWarning': <class 'ImportWarning'>, 'PendingDeprecationWarning': <class 'PendingDeprecationWarning'>, 'ResourceWarning': <class 'ResourceWarning'>, 'RuntimeWarning': <class 'RuntimeWarning'>, 'SyntaxWarning': <class 'SyntaxWarning'>, 'UnicodeWarning': <class 'UnicodeWarning'>, 'UserWarning': <class 'UserWarning'>, 'BlockingIOError': <class 'BlockingIOError'>, 'ChildProcessError': <class 'ChildProcessError'>, 'ConnectionError': <class 'ConnectionError'>, 'FileExistsError': <class 'FileExistsError'>, 'FileNotFoundError': <class 'FileNotFoundError'>, 'InterruptedError': <class 'InterruptedError'>, 'IsADirectoryError': <class 'IsADirectoryError'>, 'NotADirectoryError': <class 'NotADirectoryError'>, 'PermissionError': <class 'PermissionError'>, 'ProcessLookupError': <class 'ProcessLookupError'>, 'TimeoutError': <class 'TimeoutError'>, 'IndentationError': <class 'IndentationError'>, '_IncompleteInputError': <class '_IncompleteInputError'>, 'IndexError': <class 'IndexError'>, 'KeyError': <class 'KeyError'>, 'ModuleNotFoundError': <class 'ModuleNotFoundError'>, 'NotImplementedError': <class 'NotImplementedError'>, 'PythonFinalizationError': <class 'PythonFinalizationError'>, 'RecursionError': <class 'RecursionError'>, 'UnboundLocalError': <class 'UnboundLocalError'>, 'UnicodeError': <class 'UnicodeError'>, 'BrokenPipeError': <class 'BrokenPipeError'>, 'ConnectionAbortedError': <class 'ConnectionAbortedError'>, 'ConnectionRefusedError': <class 'ConnectionRefusedError'>, 'ConnectionResetError': <class 'ConnectionResetError'>, 'TabError': <class 'TabError'>, 'UnicodeDecodeError': <class 'UnicodeDecodeError'>, 'UnicodeEncodeError': <class 'UnicodeEncodeError'>, 'UnicodeTranslateError': <class 'UnicodeTranslateError'>, 'ExceptionGroup': <class 'ExceptionGroup'>, 'EnvironmentError': <class 'OSError'>, 'IOError': <class 'OSError'>, 'open': <built-in function open>, 'copyright': Copyright (c) 2001-2024 Python Software Foundation.\n",
      "All Rights Reserved.\n",
      "\n",
      "Copyright (c) 2000 BeOpen.com.\n",
      "All Rights Reserved.\n",
      "\n",
      "Copyright (c) 1995-2001 Corporation for National Research Initiatives.\n",
      "All Rights Reserved.\n",
      "\n",
      "Copyright (c) 1991-1995 Stichting Mathematisch Centrum, Amsterdam.\n",
      "All Rights Reserved., 'credits':     Thanks to CWI, CNRI, BeOpen, Zope Corporation, the Python Software\n",
      "    Foundation, and a cast of thousands for supporting Python\n",
      "    development.  See www.python.org for more information., 'license': Type license() to see the full license text, 'help': Type help() for interactive help, or help(object) for help about object., 'execfile': <function execfile at 0x72a4fd50dd00>, 'runfile': <function runfile at 0x72a4fc1c4040>, '__IPYTHON__': True, 'display': <function display at 0x72a4fe68a8e0>, 'get_ipython': <bound method InteractiveShell.get_ipython of <ipykernel.zmqshell.ZMQInteractiveShell object at 0x72a4fc1e7e00>>}, 'cst': <module 'nucleardatapy.cst' from '/home/sudhanvalalit/Documents/Research/Jerome/nucleardatapy/version-0.2/nucleardatapy/cst.py'>, 'hbc': 197.3269804, 'pi': 3.141592653589793, 'pi2': 9.869604401089358, 'mec2': 0.510998949, 'mmuc2': 105.6583745, 'mnc2': 939.565346, 'mpc2': 938.272013, 'mnuc2': 939.0, 'mnuc2_approx': 939.0, 'h2m': 41.471043279826425, 'nsat': 0.16, 'e': 1.602176634e-19, 'c': 299792458.0, 'c2': 8.987551787368176e+16, 'Nc': 3, 'G_cgs': 6.67259e-08, 'G_si': 6.67259e-11, 'Msol_cgs': 1.99e+33, 'Msol_si': 1.99e+30, 'Rsol_cgs': 69600000000.0, 'Rsol_si': 696000000.0, 'rshsol_si': 2954.85453973408, 'one': 1.0, 'two': 2.0, 'three': 3.0, 'four': 4.0, 'five': 5.0, 'half': 0.5, 'third': 0.3333333333333333, 'twoThird': 0.6666666666666666, 'threeFifth': 0.6, 'fiveThird': 1.6666666666666667, 'MeV2J': 1.6021766339999998e-13, 'MeV2kg': 1.7826619216278976e-30, 'MeVfm32gcm3': 1782661921627.8977, 'MeVfm32dyncm2': 1.602176634e+33, 'env': <module 'nucleardatapy.env' from '/home/sudhanvalalit/Documents/Research/Jerome/nucleardatapy/version-0.2/nucleardatapy/env.py'>, 'verb': False, 'verb_output': False, 'verb_latex': True, 'param': <module 'nucleardatapy.param' from '/home/sudhanvalalit/Documents/Research/Jerome/nucleardatapy/version-0.2/nucleardatapy/param.py'>, 'os': <module 'os' (frozen)>, 'np': <module 'numpy' from '/home/sudhanvalalit/anaconda3/envs/nucastro/lib/python3.13/site-packages/numpy/__init__.py'>, 'nucleardatapy_tk': None, 'path_data': '/home/sudhanvalalit/Documents/Research/Jerome/nucleardatapy/version-0.2/nucleardatapy/data/', 'path_ame': '/home/sudhanvalalit/Documents/Research/Jerome/nucleardatapy/version-0.2/nucleardatapy/data/AME/', 'col': ['blue', 'orange', 'green', 'red', 'purple', 'brown', 'pink', 'gray', 'olive', 'cyan', 'black', 'magenta', 'yellow', '#1f77b4', '#ff7f0e', '#2ca02c', '#d62728', '#9467bd', '#8c564b', '#e377c2', '#7f7f7f', '#bcbd22', '#17becf'], 'elements': array(['H', 'He', 'Li', 'Be', 'B', 'C', 'N', 'O', 'F', 'Ne', 'Na', 'Mg',\n",
      "       'Al', 'Si', 'P', 'S', 'Cl', 'Ar', 'K', 'Ca', 'Sc', 'Ti', 'V', 'Cr',\n",
      "       'Mn', 'Fe', 'Co', 'Ni', 'Cu', 'Zn', 'Ga', 'Ge', 'As', 'Se', 'Br',\n",
      "       'Kr', 'Rb', 'Sr', 'Y', 'Zr', 'Nb', 'Mo', 'Tc', 'Ru', 'Rh', 'Pd',\n",
      "       'Ag', 'Cd', 'In', 'Sn', 'Sb', 'Te', 'I', 'Xe', 'Cs', 'Ba', 'La',\n",
      "       'Ce', 'Pr', 'Nd', 'Pm', 'Sm', 'Eu', 'Gd', 'Tb', 'Dy', 'Ho', 'Er',\n",
      "       'Tm', 'Yb', 'Lu', 'Hf', 'Ta', 'W', 'Re', 'Os', 'Ir', 'Pt', 'Au',\n",
      "       'Hg', 'Tl', 'Pb', 'Bi', 'Po', 'At', 'Rn', 'Fr', 'Ra', 'Ac', 'Th',\n",
      "       'Pa', 'U', 'Np', 'Pu', 'Am', 'Cm', 'Bk', 'Cf', 'Es', 'Fm', 'Md',\n",
      "       'No', 'Lr', 'Rf', 'Db', 'Sg', 'Bh', 'Hs', 'Mt', 'Ds', 'Rg', 'Cn',\n",
      "       'Nh', 'Fl', 'Mc', 'Lv', 'Ts', 'Og'], dtype='<U2'), 'tex2str': <function tex2str at 0x72a469d67b00>, 'create_folder': <module 'nucleardatapy.create_folder' from '/home/sudhanvalalit/Documents/Research/Jerome/nucleardatapy/version-0.2/nucleardatapy/create_folder.py'>, 'create_folder_fig': <function create_folder_fig at 0x72a469d67ba0>, 'matter': <module 'nucleardatapy.matter' from '/home/sudhanvalalit/Documents/Research/Jerome/nucleardatapy/version-0.2/nucleardatapy/matter/__init__.py'>, 'setup_ffg': <module 'nucleardatapy.matter.setup_ffg' from '/home/sudhanvalalit/Documents/Research/Jerome/nucleardatapy/version-0.2/nucleardatapy/matter/setup_ffg.py'>, 'nuda': <module 'nucleardatapy' from '/home/sudhanvalalit/Documents/Research/Jerome/nucleardatapy/version-0.2/nucleardatapy/__init__.py'>, 'kf': <function kf at 0x72a469d676a0>, 'den': <function den at 0x72a469d78360>, 'kf_n': <function kf_n at 0x72a469d78400>, 'den_n': <function den_n at 0x72a469d784a0>, 'eF_n': <function eF_n at 0x72a469d78540>, 'eF_n_nr': <function eF_n_nr at 0x72a469d785e0>, 'effg_NM_nr': <function effg_NM_nr at 0x72a469d78680>, 'effg_SM_nr': <function effg_SM_nr at 0x72a469d78720>, 'effg_nr': <function effg_nr at 0x72a469d787c0>, 'esymffg_nr': <function esymffg_nr at 0x72a469d78860>, 'feden': <function feden at 0x72a469d78900>, 'fpres': <function fpres at 0x72a469d789a0>, 'f_dp_dn': <function f_dp_dn at 0x72a469d78a40>, 'setupFFGNuc': <class 'nucleardatapy.matter.setup_ffg.setupFFGNuc'>, 'setupFFGLep': <class 'nucleardatapy.matter.setup_ffg.setupFFGLep'>, 'setup_micro': <module 'nucleardatapy.matter.setup_micro' from '/home/sudhanvalalit/Documents/Research/Jerome/nucleardatapy/version-0.2/nucleardatapy/matter/setup_micro.py'>, 'sys': <module 'sys' (built-in)>, 'math': <module 'math' from '/home/sudhanvalalit/anaconda3/envs/nucastro/lib/python3.13/lib-dynload/math.cpython-313-x86_64-linux-gnu.so'>, 'CubicSpline': <class 'scipy.interpolate._cubic.CubicSpline'>, 'curve_fit': <function curve_fit at 0x72a468028b80>, 'random': <module 'random' from '/home/sudhanvalalit/anaconda3/envs/nucastro/lib/python3.13/random.py'>, 'uncertainty_stat': <function uncertainty_stat at 0x72a4670bbec0>, 'micro_mbs': <function micro_mbs at 0x72a469d79300>, 'micro_models_mb': <function micro_models_mb at 0x72a469d79260>, 'micro_models_mbs': <function micro_models_mbs at 0x72a4670e09a0>, 'micro_models': <function micro_models at 0x72a4670e0b80>, 'micro_models_old': <function micro_models_old at 0x72a4670e0c20>, 'micro_models_mb_matter': <function micro_models_mb_matter at 0x72a4670e0cc0>, 'micro_models_mb_SM_old': <function micro_models_mb_SM_old at 0x72a4670e0d60>, 'micro_models_mb_NM_old': <function micro_models_mb_NM_old at 0x72a4670e0e00>, 'APRfit_compute': <function APRfit_compute at 0x72a4670e0ea0>, 'func_GCR_e2a': <function func_GCR_e2a at 0x72a4670e0f40>, 'func_GCR_pre': <function func_GCR_pre at 0x72a4670e0fe0>, 'func_GCR_cs2': <function func_GCR_cs2 at 0x72a4670e1080>, 'func_e2a_NLEFT2024': <function func_e2a_NLEFT2024 at 0x72a4670e1120>, 'func_pre_NLEFT2024': <function func_pre_NLEFT2024 at 0x72a4670e11c0>, 'func_dpredn_NLEFT2024': <function func_dpredn_NLEFT2024 at 0x72a4670e1260>, 'setupMicro': <class 'nucleardatapy.matter.setup_micro.setupMicro'>, 'setup_micro_effmass': <module 'nucleardatapy.matter.setup_micro_effmass' from '/home/sudhanvalalit/Documents/Research/Jerome/nucleardatapy/version-0.2/nucleardatapy/matter/setup_micro_effmass.py'>, 'effmass_emp': <function effmass_emp at 0x72a4670e1760>, 'micro_effmass_models': <function micro_effmass_models at 0x72a4670e1800>, 'setupMicroEffmass': <class 'nucleardatapy.matter.setup_micro_effmass.setupMicroEffmass'>, 'setup_micro_gap': <module 'nucleardatapy.matter.setup_micro_gap' from '/home/sudhanvalalit/Documents/Research/Jerome/nucleardatapy/version-0.2/nucleardatapy/matter/setup_micro_gap.py'>, 'micro_gap_models': <function micro_gap_models at 0x72a4670e1c60>, 'setupMicroGap': <class 'nucleardatapy.matter.setup_micro_gap.setupMicroGap'>, 'setup_micro_band': <module 'nucleardatapy.matter.setup_micro_band' from '/home/sudhanvalalit/Documents/Research/Jerome/nucleardatapy/version-0.2/nucleardatapy/matter/setup_micro_band.py'>, 'gauss': <function gauss at 0x72a467146160>, 'setupMicroBand': <class 'nucleardatapy.matter.setup_micro_band.setupMicroBand'>, 'setup_micro_esym': <module 'nucleardatapy.matter.setup_micro_esym' from '/home/sudhanvalalit/Documents/Research/Jerome/nucleardatapy/version-0.2/nucleardatapy/matter/setup_micro_esym.py'>, 'micro_esym_mbs': <function micro_esym_mbs at 0x72a4670e2660>, 'micro_esym_models_mb': <function micro_esym_models_mb at 0x72a4670e2700>, 'micro_esym_models_mbs': <function micro_esym_models_mbs at 0x72a4670e27a0>, 'micro_esym_models': <function micro_esym_models at 0x72a4670e2840>, 'micro_esym_models_old': <function micro_esym_models_old at 0x72a4670e28e0>, 'setupMicroEsym': <class 'nucleardatapy.matter.setup_micro_esym.setupMicroEsym'>, 'setup_micro_lp': <module 'nucleardatapy.matter.setup_micro_lp' from '/home/sudhanvalalit/Documents/Research/Jerome/nucleardatapy/version-0.2/nucleardatapy/matter/setup_micro_lp.py'>, 'micro_LP_models': <function micro_LP_models at 0x72a4670e1bc0>, 'setupMicroLP': <class 'nucleardatapy.matter.setup_micro_lp.setupMicroLP'>, 'setup_pheno': <module 'nucleardatapy.matter.setup_pheno' from '/home/sudhanvalalit/Documents/Research/Jerome/nucleardatapy/version-0.2/nucleardatapy/matter/setup_pheno.py'>, 'pheno_models': <function pheno_models at 0x72a4670e32e0>, 'pheno_params': <function pheno_params at 0x72a4670e3380>, 'setupPheno': <class 'nucleardatapy.matter.setup_pheno.setupPheno'>, 'checkPheno': <function checkPheno at 0x72a4670e3420>, 'setup_pheno_esym': <module 'nucleardatapy.matter.setup_pheno_esym' from '/home/sudhanvalalit/Documents/Research/Jerome/nucleardatapy/version-0.2/nucleardatapy/matter/setup_pheno_esym.py'>, 'pheno_esym_models': <function pheno_esym_models at 0x72a4670e3920>, 'pheno_esym_params': <function pheno_esym_params at 0x72a4670e39c0>, 'setupPhenoEsym': <class 'nucleardatapy.matter.setup_pheno_esym.setupPhenoEsym'>, 'setup_hic': <module 'nucleardatapy.matter.setup_hic' from '/home/sudhanvalalit/Documents/Research/Jerome/nucleardatapy/version-0.2/nucleardatapy/matter/setup_hic.py'>, 'hic_constraints': <function hic_constraints at 0x72a4670e3f60>, 'setupHIC': <class 'nucleardatapy.matter.setup_hic.setupHIC'>, 'setup_nep': <module 'nucleardatapy.matter.setup_nep' from '/home/sudhanvalalit/Documents/Research/Jerome/nucleardatapy/version-0.2/nucleardatapy/matter/setup_nep.py'>, 'nep_models': <function nep_models at 0x72a4670f84a0>, 'nep_params': <function nep_params at 0x72a4670f8540>, 'setupNEP': <class 'nucleardatapy.matter.setup_nep.setupNEP'>, 'setup_nep_dist': <module 'nucleardatapy.matter.setup_nep_dist' from '/home/sudhanvalalit/Documents/Research/Jerome/nucleardatapy/version-0.2/nucleardatapy/matter/setup_nep_dist.py'>, 'setupNEPDist': <class 'nucleardatapy.matter.setup_nep_dist.setupNEPDist'>, 'setup_nep_model_dist': <module 'nucleardatapy.matter.setup_nep_model_dist' from '/home/sudhanvalalit/Documents/Research/Jerome/nucleardatapy/version-0.2/nucleardatapy/matter/setup_nep_model_dist.py'>, 'setupNEPModelDist': <class 'nucleardatapy.matter.setup_nep_model_dist.setupNEPModelDist'>, 'setup_check': <module 'nucleardatapy.matter.setup_check' from '/home/sudhanvalalit/Documents/Research/Jerome/nucleardatapy/version-0.2/nucleardatapy/matter/setup_check.py'>, 'setupCheck': <class 'nucleardatapy.matter.setup_check.setupCheck'>, 'eos': <module 'nucleardatapy.eos' from '/home/sudhanvalalit/Documents/Research/Jerome/nucleardatapy/version-0.2/nucleardatapy/eos/__init__.py'>, 'setup_am': <module 'nucleardatapy.eos.setup_am' from '/home/sudhanvalalit/Documents/Research/Jerome/nucleardatapy/version-0.2/nucleardatapy/eos/setup_am.py'>, 'fsolve': <function fsolve at 0x72a468011760>, 'setupAM': <class 'nucleardatapy.eos.setup_am.setupAM'>, 'setup_am_Leq': <module 'nucleardatapy.eos.setup_am_Leq' from '/home/sudhanvalalit/Documents/Research/Jerome/nucleardatapy/version-0.2/nucleardatapy/eos/setup_am_Leq.py'>, 'func_am': <function func_am at 0x72a4670f9b20>, 'setupAMLeq': <class 'nucleardatapy.eos.setup_am_Leq.setupAMLeq'>, 'setup_am_Beq': <module 'nucleardatapy.eos.setup_am_Beq' from '/home/sudhanvalalit/Documents/Research/Jerome/nucleardatapy/version-0.2/nucleardatapy/eos/setup_am_Beq.py'>, 'func_betaeq': <function func_betaeq at 0x72a4670fa020>, 'setupAMBeq': <class 'nucleardatapy.eos.setup_am_Beq.setupAMBeq'>, 'corr': <module 'nucleardatapy.corr' from '/home/sudhanvalalit/Documents/Research/Jerome/nucleardatapy/version-0.2/nucleardatapy/corr/__init__.py'>, 'setup_KsatQsat': <module 'nucleardatapy.corr.setup_KsatQsat' from '/home/sudhanvalalit/Documents/Research/Jerome/nucleardatapy/version-0.2/nucleardatapy/corr/setup_KsatQsat.py'>, 'KsatQsat_constraints': <function KsatQsat_constraints at 0x72a4670fa520>, 'flinear': <function flinear at 0x72a4670fa5c0>, 'setupKsatQsat': <class 'nucleardatapy.corr.setup_KsatQsat.setupKsatQsat'>, 'setup_EsymLsym': <module 'nucleardatapy.corr.setup_EsymLsym' from '/home/sudhanvalalit/Documents/Research/Jerome/nucleardatapy/version-0.2/nucleardatapy/corr/setup_EsymLsym.py'>, 'EsymLsym_constraints': <function EsymLsym_constraints at 0x72a4670fac00>, 'HIC_Esym': <function HIC_Esym at 0x72a4670faca0>, 'HIC_Lsym': <function HIC_Lsym at 0x72a4670fad40>, 'HIC_xgi': <function HIC_xgi at 0x72a4670fade0>, 'HIC_Lsym_bound': <function HIC_Lsym_bound at 0x72a4670fae80>, 'setupEsymLsym': <class 'nucleardatapy.corr.setup_EsymLsym.setupEsymLsym'>, 'setup_EsymDen': <module 'nucleardatapy.corr.setup_EsymDen' from '/home/sudhanvalalit/Documents/Research/Jerome/nucleardatapy/version-0.2/nucleardatapy/corr/setup_EsymDen.py'>, 'setupEsymDen': <class 'nucleardatapy.corr.setup_EsymDen.setupEsymDen'>, 'nuc': <module 'nucleardatapy.nuc' from '/home/sudhanvalalit/Documents/Research/Jerome/nucleardatapy/version-0.2/nucleardatapy/nuc/__init__.py'>, 'setup_be_exp': <module 'nucleardatapy.nuc.setup_be_exp' from '/home/sudhanvalalit/Documents/Research/Jerome/nucleardatapy/version-0.2/nucleardatapy/nuc/setup_be_exp.py'>, 'CST_AtmMass': 931.494028, 'CST_mnc2': 8.0713171, 'CST_dmnc2': 5e-07, 'CST_mHc2': 7.2889706, 'CST_dmHc2': 1e-07, 'yearMin': 1851, 'ns': 1e-09, 'minutes': 60, 'hours': 3600, 'days': 86400, 'months': 2592000, 'years': 31556926.080000002, 'ILt': 3.155692608e+37, 'ISt': 1e-30, 'HTvsl': 0.001, 'HTsl': 3600, 'stable_fit': <function stable_fit at 0x72a4670fbb00>, 'be_exp_tables': <function be_exp_tables at 0x72a4670fbba0>, 'be_exp_versions': <function be_exp_versions at 0x72a4670fbc40>, 'plot_shells': <function plot_shells at 0x72a4670fbce0>, 'setupBEExp': <class 'nucleardatapy.nuc.setup_be_exp.setupBEExp'>, 'setup_be_theo': <module 'nucleardatapy.nuc.setup_be_theo' from '/home/sudhanvalalit/Documents/Research/Jerome/nucleardatapy/version-0.2/nucleardatapy/nuc/setup_be_theo.py'>, 'delta_emp': <function delta_emp at 0x72a467124720>, 'be_theo_tables': <function be_theo_tables at 0x72a4671247c0>, 'conversionMBE': <function conversionMBE at 0x72a467124860>, 'setupBETheo': <class 'nucleardatapy.nuc.setup_be_theo.setupBETheo'>, 'setup_isgmr_exp': <module 'nucleardatapy.nuc.setup_isgmr_exp' from '/home/sudhanvalalit/Documents/Research/Jerome/nucleardatapy/version-0.2/nucleardatapy/nuc/setup_isgmr_exp.py'>, 'isgmr_exp_tables': <function isgmr_exp_tables at 0x72a4670fb420>, 'setupISGMRExp': <class 'nucleardatapy.nuc.setup_isgmr_exp.setupISGMRExp'>, 'setup_rnp_exp': <module 'nucleardatapy.nuc.setup_rnp_exp' from '/home/sudhanvalalit/Documents/Research/Jerome/nucleardatapy/version-0.2/nucleardatapy/nuc/setup_rnp_exp.py'>, 'rnp_exp': <function rnp_exp at 0x72a467125940>, 'rnp_exp_source': <function rnp_exp_source at 0x72a4671259e0>, 'setupRnpExp': <class 'nucleardatapy.nuc.setup_rnp_exp.setupRnpExp'>, 'setupRnpAverage': <class 'nucleardatapy.nuc.setup_rnp_exp.setupRnpAverage'>, 'setup_rnp_theo': <module 'nucleardatapy.nuc.setup_rnp_theo' from '/home/sudhanvalalit/Documents/Research/Jerome/nucleardatapy/version-0.2/nucleardatapy/nuc/setup_rnp_theo.py'>, 'rnp_theo_models': <function rnp_theo_models at 0x72a467126200>, 'rnp_theo_params': <function rnp_theo_params at 0x72a4671262a0>, 'setupRnpTheo': <class 'nucleardatapy.nuc.setup_rnp_theo.setupRnpTheo'>, 'setup_rch_exp': <module 'nucleardatapy.nuc.setup_rch_exp' from '/home/sudhanvalalit/Documents/Research/Jerome/nucleardatapy/version-0.2/nucleardatapy/nuc/setup_rch_exp.py'>, 'rch_exp_tables': <function rch_exp_tables at 0x72a4671267a0>, 'setupRchExp': <class 'nucleardatapy.nuc.setup_rch_exp.setupRchExp'>, 'setupRchExpIsotopes': <class 'nucleardatapy.nuc.setup_rch_exp.setupRchExpIsotopes'>, 'setup_rch_theo': <module 'nucleardatapy.nuc.setup_rch_theo' from '/home/sudhanvalalit/Documents/Research/Jerome/nucleardatapy/version-0.2/nucleardatapy/nuc/setup_rch_theo.py'>, 'rch_emp': <function rch_emp at 0x72a467126e80>, 'rch_theo_tables': <function rch_theo_tables at 0x72a467126f20>, 'setupRchTheo': <class 'nucleardatapy.nuc.setup_rch_theo.setupRchTheo'>, 'setupRchTheoIsotopes': <class 'nucleardatapy.nuc.setup_rch_theo.setupRchTheoIsotopes'>, 'crust': <module 'nucleardatapy.crust' from '/home/sudhanvalalit/Documents/Research/Jerome/nucleardatapy/version-0.2/nucleardatapy/crust/__init__.py'>, 'setup_crust': <module 'nucleardatapy.crust.setup_crust' from '/home/sudhanvalalit/Documents/Research/Jerome/nucleardatapy/version-0.2/nucleardatapy/crust/setup_crust.py'>, 'crust_models': <function crust_models at 0x72a467127600>, 'setupCrust': <class 'nucleardatapy.crust.setup_crust.setupCrust'>, 'astro': <module 'nucleardatapy.astro' from '/home/sudhanvalalit/Documents/Research/Jerome/nucleardatapy/version-0.2/nucleardatapy/astro/__init__.py'>, 'setup_masses': <module 'nucleardatapy.astro.setup_masses' from '/home/sudhanvalalit/Documents/Research/Jerome/nucleardatapy/version-0.2/nucleardatapy/astro/setup_masses.py'>, 'masses_sources': <function masses_sources at 0x72a467127ec0>, 'masses_obss': <function masses_obss at 0x72a467127f60>, 'setupMasses': <class 'nucleardatapy.astro.setup_masses.setupMasses'>, 'setupMassesAverage': <class 'nucleardatapy.astro.setup_masses.setupMassesAverage'>, 'setup_mup': <module 'nucleardatapy.astro.setup_mup' from '/home/sudhanvalalit/Documents/Research/Jerome/nucleardatapy/version-0.2/nucleardatapy/astro/setup_mup.py'>, 'mup_sources': <function mup_sources at 0x72a467144900>, 'mup_hyps': <function mup_hyps at 0x72a4671449a0>, 'setupMup': <class 'nucleardatapy.astro.setup_mup.setupMup'>, 'setupMupAverage': <class 'nucleardatapy.astro.setup_mup.setupMupAverage'>, 'setup_mtov': <module 'nucleardatapy.astro.setup_mtov' from '/home/sudhanvalalit/Documents/Research/Jerome/nucleardatapy/version-0.2/nucleardatapy/astro/setup_mtov.py'>, 'special': <module 'scipy.special' from '/home/sudhanvalalit/anaconda3/envs/nucastro/lib/python3.13/site-packages/scipy/special/__init__.py'>, 'compute_proba_do': <function compute_proba_do at 0x72a467145260>, 'compute_proba_up': <function compute_proba_up at 0x72a467145300>, 'setupMtov': <class 'nucleardatapy.astro.setup_mtov.setupMtov'>, 'setup_mr': <module 'nucleardatapy.astro.setup_mr' from '/home/sudhanvalalit/Documents/Research/Jerome/nucleardatapy/version-0.2/nucleardatapy/astro/setup_mr.py'>, 'mr_sources': <function mr_sources at 0x72a467127e20>, 'mr_obss': <function mr_obss at 0x72a4671458a0>, 'setupMR': <class 'nucleardatapy.astro.setup_mr.setupMR'>, 'setupMRAverage': <class 'nucleardatapy.astro.setup_mr.setupMRAverage'>, 'setup_gw': <module 'nucleardatapy.astro.setup_gw' from '/home/sudhanvalalit/Documents/Research/Jerome/nucleardatapy/version-0.2/nucleardatapy/astro/setup_gw.py'>, 'gw_sources': <function gw_sources at 0x72a467146020>, 'gw_hyps': <function gw_hyps at 0x72a4671460c0>, 'setupGW': <class 'nucleardatapy.astro.setup_gw.setupGW'>, 'setupGWAverage': <class 'nucleardatapy.astro.setup_gw.setupGWAverage'>, 'hnuc': <module 'nucleardatapy.hnuc' from '/home/sudhanvalalit/Documents/Research/Jerome/nucleardatapy/version-0.2/nucleardatapy/hnuc/__init__.py'>, 'setup_re1L_exp': <module 'nucleardatapy.hnuc.setup_re1L_exp' from '/home/sudhanvalalit/Documents/Research/Jerome/nucleardatapy/version-0.2/nucleardatapy/hnuc/setup_re1L_exp.py'>, 're1L_exp_tables': <function re1L_exp_tables at 0x72a467145800>, 'setupRE1LExp': <class 'nucleardatapy.hnuc.setup_re1L_exp.setupRE1LExp'>, 'setup_re2L_exp': <module 'nucleardatapy.hnuc.setup_re2L_exp' from '/home/sudhanvalalit/Documents/Research/Jerome/nucleardatapy/version-0.2/nucleardatapy/hnuc/setup_re2L_exp.py'>, 're2L_exp_tables': <function re2L_exp_tables at 0x72a467146f20>, 'setupRE2LExp': <class 'nucleardatapy.hnuc.setup_re2L_exp.setupRE2LExp'>, 'setup_re1Xi_exp': <module 'nucleardatapy.hnuc.setup_re1Xi_exp' from '/home/sudhanvalalit/Documents/Research/Jerome/nucleardatapy/version-0.2/nucleardatapy/hnuc/setup_re1Xi_exp.py'>, 're1Xi_exp_tables': <function re1Xi_exp_tables at 0x72a467147420>, 'setupRE1XiExp': <class 'nucleardatapy.hnuc.setup_re1Xi_exp.setupRE1XiExp'>, 'fig': <module 'nucleardatapy.fig' from '/home/sudhanvalalit/Documents/Research/Jerome/nucleardatapy/version-0.2/nucleardatapy/fig/__init__.py'>, 'matter_setupFFGNuc_fig': <module 'nucleardatapy.fig.matter_setupFFGNuc_fig' from '/home/sudhanvalalit/Documents/Research/Jerome/nucleardatapy/version-0.2/nucleardatapy/fig/matter_setupFFGNuc_fig.py'>, 'mpl': <module 'matplotlib' from '/home/sudhanvalalit/anaconda3/envs/nucastro/lib/python3.13/site-packages/matplotlib/__init__.py'>, 'plt': <module 'matplotlib.pyplot' from '/home/sudhanvalalit/anaconda3/envs/nucastro/lib/python3.13/site-packages/matplotlib/pyplot.py'>, 'matter_setupFFGNuc_EP_fig': <function matter_setupFFGNuc_EP_fig at 0x72a4671982c0>, 'matter_setupFFGNuc_EOS_fig': <function matter_setupFFGNuc_EOS_fig at 0x72a4671984a0>, 'matter_setupMicro_fig': <module 'nucleardatapy.fig.matter_setupMicro_fig' from '/home/sudhanvalalit/Documents/Research/Jerome/nucleardatapy/version-0.2/nucleardatapy/fig/matter_setupMicro_fig.py'>, 'matter_setupMicro_E_fig': <function matter_setupMicro_E_fig at 0x72a467199ee0>, 'matter_setupMicro_err_NM_fig': <function matter_setupMicro_err_NM_fig at 0x72a46719a020>, 'matter_setupMicro_band_fig': <function matter_setupMicro_band_fig at 0x72a4671477e0>, 'matter_setupMicro_effmass_fig': <function matter_setupMicro_effmass_fig at 0x72a46719a340>, 'matter_setupMicro_gap_fig': <module 'nucleardatapy.fig.matter_setupMicro_gap_fig' from '/home/sudhanvalalit/Documents/Research/Jerome/nucleardatapy/version-0.2/nucleardatapy/fig/matter_setupMicro_gap_fig.py'>, 'matter_setupMicro_gap_1s0_fig': <function matter_setupMicro_gap_1s0_fig at 0x72a46719a660>, 'matter_setupMicro_gap_3pf2_fig': <function matter_setupMicro_gap_3pf2_fig at 0x72a46719a5c0>, 'matter_setupMicro_LP_fig': <function matter_setupMicro_LP_fig at 0x72a46719a8e0>, 'matter_setupMicroEsym_fig': <function matter_setupMicroEsym_fig at 0x72a46719aac0>, 'matter_setupPheno_fig': <module 'nucleardatapy.fig.matter_setupPheno_fig' from '/home/sudhanvalalit/Documents/Research/Jerome/nucleardatapy/version-0.2/nucleardatapy/fig/matter_setupPheno_fig.py'>, 'matter_setupPheno_E_fig': <function matter_setupPheno_E_fig at 0x72a46719a520>, 'matter_setupPhenoEsym_fig': <function matter_setupPhenoEsym_fig at 0x72a46719af20>, 'matter_setupHIC_fig': <function matter_setupHIC_fig at 0x72a46719b060>, 'matter_setupNEPModelDist_fig': <function matter_setupNEPModelDist_fig at 0x72a46719b240>, 'matter_setupCheck_fig': <function matter_setupCheck_fig at 0x72a46719b420>, 'matter_Esym_fig': <function matter_Esym_fig at 0x72a46719afc0>, 'matter_ESM_fig': <function matter_ESM_fig at 0x72a46719b7e0>, 'matter_ENM_fig': <function matter_ENM_fig at 0x72a46719b9c0>, 'matter_cs2_fig': <function matter_cs2_fig at 0x72a46719bba0>, 'matter_preNM_fig': <function matter_preNM_fig at 0x72a46719bd80>, 'matter_preSM_fig': <function matter_preSM_fig at 0x72a46719b880>, 'corr_setupKsatQsat_fig': <function corr_setupKsatQsat_fig at 0x72a466f08180>, 'corr_setupEsymLsym_fig': <function corr_setupEsymLsym_fig at 0x72a466f08400>, 'corr_setupEsymDen_fig': <function corr_setupEsymDen_fig at 0x72a466f08680>, 'nuc_setupBEExp_fig': <module 'nucleardatapy.fig.nuc_setupBEExp_fig' from '/home/sudhanvalalit/Documents/Research/Jerome/nucleardatapy/version-0.2/nucleardatapy/fig/nuc_setupBEExp_fig.py'>, 'nuc_setupBEExp_year_fig': <function nuc_setupBEExp_year_fig at 0x72a466f08900>, 'nuc_setupBEExp_S2n_fig': <function nuc_setupBEExp_S2n_fig at 0x72a466f089a0>, 'nuc_setupBEExp_S2p_fig': <function nuc_setupBEExp_S2p_fig at 0x72a466f08a40>, 'nuc_setupBEExp_D3n_fig': <function nuc_setupBEExp_D3n_fig at 0x72a466f08ae0>, 'nuc_setupBEExp_D3p_fig': <function nuc_setupBEExp_D3p_fig at 0x72a466f08b80>, 'nuc_setupBETheo_fig': <module 'nucleardatapy.fig.nuc_setupBETheo_fig' from '/home/sudhanvalalit/Documents/Research/Jerome/nucleardatapy/version-0.2/nucleardatapy/fig/nuc_setupBETheo_fig.py'>, 'nuc_setupBETheo_diff_fig': <function nuc_setupBETheo_diff_fig at 0x72a466f08360>, 'nuc_setupBETheo_S2n_fig': <function nuc_setupBETheo_S2n_fig at 0x72a466f08ea0>, 'nuc_setupBETheo_S2p_fig': <function nuc_setupBETheo_S2p_fig at 0x72a466f08f40>, 'nuc_setupBETheo_D3n_fig': <function nuc_setupBETheo_D3n_fig at 0x72a466f08fe0>, 'nuc_setupBETheo_D3p_fig': <function nuc_setupBETheo_D3p_fig at 0x72a466f09080>, 'nuc_setupBEExp_chart_fig': <module 'nucleardatapy.fig.nuc_setupBEExp_chart_fig' from '/home/sudhanvalalit/Documents/Research/Jerome/nucleardatapy/version-0.2/nucleardatapy/fig/nuc_setupBEExp_chart_fig.py'>, 'nuc_setupBEExp_chart_lt_fig': <function nuc_setupBEExp_chart_lt_fig at 0x72a466f09300>, 'nuc_setupBEExp_chart_Rch_fig': <function nuc_setupBEExp_chart_Rch_fig at 0x72a466f093a0>, 'nuc_setupBEExp_chart_year_fig': <function nuc_setupBEExp_chart_year_fig at 0x72a466f09440>, 'nuc_setupRchExp_fig': <function nuc_setupRchExp_fig at 0x72a466f096c0>, 'nuc_setupRchExp_3Zref_fig': <function nuc_setupRchExp_3Zref_fig at 0x72a466f09760>, 'nuc_setupRchTheo_fig': <function nuc_setupRchTheo_fig at 0x72a466f099e0>, 'nuc_setupRchTheo_3Zref_fig': <function nuc_setupRchTheo_3Zref_fig at 0x72a466f09a80>, 'nuc_setupISGMRExp_fig': <function nuc_setupISGMRExp_fig at 0x72a466f09d00>, 'nuc_setupRnpExp_fig': <function nuc_setupRnpExp_fig at 0x72a466f0a480>, 'AutoMinorLocator': <class 'matplotlib.ticker.AutoMinorLocator'>, 'SOURCE_LABELS_LATEX': {'48Ca': '$^{48}\\\\mathrm{Ca}$', '208Pb': '$^{208}\\\\mathrm{Pb}$'}, 'nuc_setupRnpTheo_fig': <module 'nucleardatapy.fig.nuc_setupRnpTheo_fig' from '/home/sudhanvalalit/Documents/Research/Jerome/nucleardatapy/version-0.2/nucleardatapy/fig/nuc_setupRnpTheo_fig.py'>, 'MODEL_TABLES_DIR': '/home/sudhanvalalit/Documents/Research/Jerome/nucleardatapy/version-0.2/nucleardatapy/data//NeutronSkin/', 'MODEL_STYLES': {'skyrme': {'color': 'blue', 'marker': 's', 'label': 'Skyrme'}, 'nlrh': {'color': 'red', 'marker': '^', 'label': 'NLRH'}, 'ddrh': {'color': 'green', 'marker': 'D', 'label': 'DDRH'}}, 'read_model_data': <function read_model_data at 0x72a466f0a3e0>, 'hnuc_setupRE1LExp_fig': <function hnuc_setupRE1LExp_fig at 0x72a466f0a700>, 'hnuc_setupChart_fig': <function hnuc_setupChart_fig at 0x72a466f0a980>, 'eos_setupAM_e_fig': <function eos_setupAM_e_fig at 0x72a466f0ac00>, 'eos_setupAM_e_asy_nuc_fig': <function eos_setupAM_e_asy_nuc_fig at 0x72a466f0a660>, 'eos_setupAM_e_asy_lep_fig': <function eos_setupAM_e_asy_lep_fig at 0x72a466f0afc0>, 'eos_setupAM_e_asy_tot_fig': <function eos_setupAM_e_asy_tot_fig at 0x72a466f0b1a0>, 'eos_setupAMBeq_fig': <module 'nucleardatapy.fig.eos_setupAMBeq_fig' from '/home/sudhanvalalit/Documents/Research/Jerome/nucleardatapy/version-0.2/nucleardatapy/fig/eos_setupAMBeq_fig.py'>, 'eos_setupAMBeq_e2a_nuc_fig': <function eos_setupAMBeq_e2a_nuc_fig at 0x72a466f0b240>, 'eos_setupAMBeq_pre_nuc_fig': <function eos_setupAMBeq_pre_nuc_fig at 0x72a466f0b380>, 'eos_setupAMBeq_e2a_lep_fig': <function eos_setupAMBeq_e2a_lep_fig at 0x72a466f0b420>, 'eos_setupAMBeq_pre_lep_fig': <function eos_setupAMBeq_pre_lep_fig at 0x72a466f0b4c0>, 'eos_setupAMBeq_e2a_tot_fig': <function eos_setupAMBeq_e2a_tot_fig at 0x72a466f0b560>, 'eos_setupAMBeq_pre_tot_fig': <function eos_setupAMBeq_pre_tot_fig at 0x72a466f0b600>, 'eos_setupAMBeq_xp_fig': <function eos_setupAMBeq_xp_fig at 0x72a466f0b6a0>, 'eos_setupAMBeq_xe_fig': <function eos_setupAMBeq_xe_fig at 0x72a466f0b740>, 'eos_setupAMBeq_xmu_fig': <function eos_setupAMBeq_xmu_fig at 0x72a466f0b7e0>, 'eos_setupAMLeq_fig': <module 'nucleardatapy.fig.eos_setupAMLeq_fig' from '/home/sudhanvalalit/Documents/Research/Jerome/nucleardatapy/version-0.2/nucleardatapy/fig/eos_setupAMLeq_fig.py'>, 'eos_setupAMLeq_xe_fig': <function eos_setupAMLeq_xe_fig at 0x72a466f0ba60>, 'eos_setupAMLeq_xmu_fig': <function eos_setupAMLeq_xmu_fig at 0x72a466f0b9c0>, 'eos_setupAMLeq_xexmu_fig': <function eos_setupAMLeq_xexmu_fig at 0x72a466f0bb00>, 'crust_setupCrust_fig': <function crust_setupCrust_fig at 0x72a466f0b060>, 'astro_setupGW_fig': <function astro_setupGW_fig at 0x72a466f5c040>, 'astro_setupMasses_fig': <function astro_setupMasses_fig at 0x72a466f5c2c0>, 'astro_setupMR_fig': <function astro_setupMR_fig at 0x72a466f5c540>, 'astro_setupMtov_fig': <function astro_setupMtov_fig at 0x72a466f5c900>, 'astro_setupMup_fig': <function astro_setupMup_fig at 0x72a466f5c220>}\n"
     ]
    }
   ],
   "source": [
    "print ( nuda.__dict__ )"
   ]
  },
  {
   "cell_type": "code",
   "execution_count": 5,
   "id": "aa621096-c805-4787-adb2-0ce70352b770",
   "metadata": {},
   "outputs": [
    {
     "name": "stdout",
     "output_type": "stream",
     "text": [
      "dict_keys(['__name__', '__doc__', '__package__', '__loader__', '__spec__', '__path__', '__file__', '__cached__', '__builtins__', 'cst', 'hbc', 'pi', 'pi2', 'mec2', 'mmuc2', 'mnc2', 'mpc2', 'mnuc2', 'mnuc2_approx', 'h2m', 'nsat', 'e', 'c', 'c2', 'Nc', 'G_cgs', 'G_si', 'Msol_cgs', 'Msol_si', 'Rsol_cgs', 'Rsol_si', 'rshsol_si', 'one', 'two', 'three', 'four', 'five', 'half', 'third', 'twoThird', 'threeFifth', 'fiveThird', 'MeV2J', 'MeV2kg', 'MeVfm32gcm3', 'MeVfm32dyncm2', 'env', 'verb', 'verb_output', 'verb_latex', 'param', 'os', 'np', 'nucleardatapy_tk', 'path_data', 'path_ame', 'col', 'elements', 'tex2str', 'create_folder', 'create_folder_fig', 'matter', 'setup_ffg', 'nuda', 'kf', 'den', 'kf_n', 'den_n', 'eF_n', 'eF_n_nr', 'effg_NM_nr', 'effg_SM_nr', 'effg_nr', 'esymffg_nr', 'feden', 'fpres', 'f_dp_dn', 'setupFFGNuc', 'setupFFGLep', 'setup_micro', 'sys', 'math', 'CubicSpline', 'curve_fit', 'random', 'uncertainty_stat', 'micro_mbs', 'micro_models_mb', 'micro_models_mbs', 'micro_models', 'micro_models_old', 'micro_models_mb_matter', 'micro_models_mb_SM_old', 'micro_models_mb_NM_old', 'APRfit_compute', 'func_GCR_e2a', 'func_GCR_pre', 'func_GCR_cs2', 'func_e2a_NLEFT2024', 'func_pre_NLEFT2024', 'func_dpredn_NLEFT2024', 'setupMicro', 'setup_micro_effmass', 'effmass_emp', 'micro_effmass_models', 'setupMicroEffmass', 'setup_micro_gap', 'micro_gap_models', 'setupMicroGap', 'setup_micro_band', 'gauss', 'setupMicroBand', 'setup_micro_esym', 'micro_esym_mbs', 'micro_esym_models_mb', 'micro_esym_models_mbs', 'micro_esym_models', 'micro_esym_models_old', 'setupMicroEsym', 'setup_micro_lp', 'micro_LP_models', 'setupMicroLP', 'setup_pheno', 'pheno_models', 'pheno_params', 'setupPheno', 'checkPheno', 'setup_pheno_esym', 'pheno_esym_models', 'pheno_esym_params', 'setupPhenoEsym', 'setup_hic', 'hic_constraints', 'setupHIC', 'setup_nep', 'nep_models', 'nep_params', 'setupNEP', 'setup_nep_dist', 'setupNEPDist', 'setup_nep_model_dist', 'setupNEPModelDist', 'setup_check', 'setupCheck', 'eos', 'setup_am', 'fsolve', 'setupAM', 'setup_am_Leq', 'func_am', 'setupAMLeq', 'setup_am_Beq', 'func_betaeq', 'setupAMBeq', 'corr', 'setup_KsatQsat', 'KsatQsat_constraints', 'flinear', 'setupKsatQsat', 'setup_EsymLsym', 'EsymLsym_constraints', 'HIC_Esym', 'HIC_Lsym', 'HIC_xgi', 'HIC_Lsym_bound', 'setupEsymLsym', 'setup_EsymDen', 'setupEsymDen', 'nuc', 'setup_be_exp', 'CST_AtmMass', 'CST_mnc2', 'CST_dmnc2', 'CST_mHc2', 'CST_dmHc2', 'yearMin', 'ns', 'minutes', 'hours', 'days', 'months', 'years', 'ILt', 'ISt', 'HTvsl', 'HTsl', 'stable_fit', 'be_exp_tables', 'be_exp_versions', 'plot_shells', 'setupBEExp', 'setup_be_theo', 'delta_emp', 'be_theo_tables', 'conversionMBE', 'setupBETheo', 'setup_isgmr_exp', 'isgmr_exp_tables', 'setupISGMRExp', 'setup_rnp_exp', 'rnp_exp', 'rnp_exp_source', 'setupRnpExp', 'setupRnpAverage', 'setup_rnp_theo', 'rnp_theo_models', 'rnp_theo_params', 'setupRnpTheo', 'setup_rch_exp', 'rch_exp_tables', 'setupRchExp', 'setupRchExpIsotopes', 'setup_rch_theo', 'rch_emp', 'rch_theo_tables', 'setupRchTheo', 'setupRchTheoIsotopes', 'crust', 'setup_crust', 'crust_models', 'setupCrust', 'astro', 'setup_masses', 'masses_sources', 'masses_obss', 'setupMasses', 'setupMassesAverage', 'setup_mup', 'mup_sources', 'mup_hyps', 'setupMup', 'setupMupAverage', 'setup_mtov', 'special', 'compute_proba_do', 'compute_proba_up', 'setupMtov', 'setup_mr', 'mr_sources', 'mr_obss', 'setupMR', 'setupMRAverage', 'setup_gw', 'gw_sources', 'gw_hyps', 'setupGW', 'setupGWAverage', 'hnuc', 'setup_re1L_exp', 're1L_exp_tables', 'setupRE1LExp', 'setup_re2L_exp', 're2L_exp_tables', 'setupRE2LExp', 'setup_re1Xi_exp', 're1Xi_exp_tables', 'setupRE1XiExp', 'fig', 'matter_setupFFGNuc_fig', 'mpl', 'plt', 'matter_setupFFGNuc_EP_fig', 'matter_setupFFGNuc_EOS_fig', 'matter_setupMicro_fig', 'matter_setupMicro_E_fig', 'matter_setupMicro_err_NM_fig', 'matter_setupMicro_band_fig', 'matter_setupMicro_effmass_fig', 'matter_setupMicro_gap_fig', 'matter_setupMicro_gap_1s0_fig', 'matter_setupMicro_gap_3pf2_fig', 'matter_setupMicro_LP_fig', 'matter_setupMicroEsym_fig', 'matter_setupPheno_fig', 'matter_setupPheno_E_fig', 'matter_setupPhenoEsym_fig', 'matter_setupHIC_fig', 'matter_setupNEPModelDist_fig', 'matter_setupCheck_fig', 'matter_Esym_fig', 'matter_ESM_fig', 'matter_ENM_fig', 'matter_cs2_fig', 'matter_preNM_fig', 'matter_preSM_fig', 'corr_setupKsatQsat_fig', 'corr_setupEsymLsym_fig', 'corr_setupEsymDen_fig', 'nuc_setupBEExp_fig', 'nuc_setupBEExp_year_fig', 'nuc_setupBEExp_S2n_fig', 'nuc_setupBEExp_S2p_fig', 'nuc_setupBEExp_D3n_fig', 'nuc_setupBEExp_D3p_fig', 'nuc_setupBETheo_fig', 'nuc_setupBETheo_diff_fig', 'nuc_setupBETheo_S2n_fig', 'nuc_setupBETheo_S2p_fig', 'nuc_setupBETheo_D3n_fig', 'nuc_setupBETheo_D3p_fig', 'nuc_setupBEExp_chart_fig', 'nuc_setupBEExp_chart_lt_fig', 'nuc_setupBEExp_chart_Rch_fig', 'nuc_setupBEExp_chart_year_fig', 'nuc_setupRchExp_fig', 'nuc_setupRchExp_3Zref_fig', 'nuc_setupRchTheo_fig', 'nuc_setupRchTheo_3Zref_fig', 'nuc_setupISGMRExp_fig', 'nuc_setupRnpExp_fig', 'AutoMinorLocator', 'SOURCE_LABELS_LATEX', 'nuc_setupRnpTheo_fig', 'MODEL_TABLES_DIR', 'MODEL_STYLES', 'read_model_data', 'hnuc_setupRE1LExp_fig', 'hnuc_setupChart_fig', 'eos_setupAM_e_fig', 'eos_setupAM_e_asy_nuc_fig', 'eos_setupAM_e_asy_lep_fig', 'eos_setupAM_e_asy_tot_fig', 'eos_setupAMBeq_fig', 'eos_setupAMBeq_e2a_nuc_fig', 'eos_setupAMBeq_pre_nuc_fig', 'eos_setupAMBeq_e2a_lep_fig', 'eos_setupAMBeq_pre_lep_fig', 'eos_setupAMBeq_e2a_tot_fig', 'eos_setupAMBeq_pre_tot_fig', 'eos_setupAMBeq_xp_fig', 'eos_setupAMBeq_xe_fig', 'eos_setupAMBeq_xmu_fig', 'eos_setupAMLeq_fig', 'eos_setupAMLeq_xe_fig', 'eos_setupAMLeq_xmu_fig', 'eos_setupAMLeq_xexmu_fig', 'crust_setupCrust_fig', 'astro_setupGW_fig', 'astro_setupMasses_fig', 'astro_setupMR_fig', 'astro_setupMtov_fig', 'astro_setupMup_fig'])\n"
     ]
    }
   ],
   "source": [
    "print ( nuda.__dict__.keys() )"
   ]
  },
  {
   "cell_type": "code",
   "execution_count": null,
   "id": "e8579a15-1bb5-4092-922e-51eceea7aece",
   "metadata": {},
   "outputs": [],
   "source": []
  }
 ],
 "metadata": {
  "kernelspec": {
   "display_name": "nucastro",
   "language": "python",
   "name": "python3"
  },
  "language_info": {
   "codemirror_mode": {
    "name": "ipython",
    "version": 3
   },
   "file_extension": ".py",
   "mimetype": "text/x-python",
   "name": "python",
   "nbconvert_exporter": "python",
   "pygments_lexer": "ipython3",
   "version": "3.13.3"
  }
 },
 "nbformat": 4,
 "nbformat_minor": 5
}

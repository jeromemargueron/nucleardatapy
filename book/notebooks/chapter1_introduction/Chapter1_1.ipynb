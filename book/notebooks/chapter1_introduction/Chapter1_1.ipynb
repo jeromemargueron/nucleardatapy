{
 "cells": [
  {
   "cell_type": "markdown",
   "id": "0433e2ad-3c1f-425b-8a6c-9b007b5dc828",
   "metadata": {},
   "source": [
    "# Chapter 1 tutoral 1: Introduction to nucleardatapy toolkit"
   ]
  },
  {
   "cell_type": "markdown",
   "id": "ba27284d-34a5-47f6-9a68-274d4978b306",
   "metadata": {},
   "source": [
    "In this tutorial, you will learn basic functions for using nuda toolkit."
   ]
  },
  {
   "cell_type": "markdown",
   "id": "ff7749ad-db71-4b1e-987c-8439db0501de",
   "metadata": {},
   "source": [
    "First, import the libraries that will be employed in this tutorial."
   ]
  },
  {
   "cell_type": "code",
   "execution_count": 2,
   "id": "8e49fc10-2a17-4f80-bc8d-413b9959db59",
   "metadata": {},
   "outputs": [],
   "source": [
    "# Import nucleardatapy package\n",
    "import nucleardatapy as nuda"
   ]
  },
  {
   "cell_type": "markdown",
   "id": "f789482d-6202-4c89-84fb-6a681b10ee33",
   "metadata": {},
   "source": [
    "---"
   ]
  },
  {
   "cell_type": "markdown",
   "id": "4a89f64c-74dc-4302-aca2-e05e2132e869",
   "metadata": {},
   "source": [
    "What are the functions available in the toolkit?\n",
    "Type:"
   ]
  },
  {
   "cell_type": "code",
   "execution_count": 2,
   "id": "b32d589b-4b1d-49a8-a0de-741f725a1aa7",
   "metadata": {},
   "outputs": [
    {
     "name": "stdout",
     "output_type": "stream",
     "text": [
      "['APRfit_compute', 'CST_AtmMass', 'CST_dmHc2', 'CST_dmnc2', 'CST_mHc2', 'CST_mnc2', 'CubicSpline', 'EsymLsym_constraints', 'G_cgs', 'G_si', 'HIC_Esym', 'HIC_Lsym', 'HIC_Lsym_bound', 'HIC_xgi', 'HTsl', 'HTvsl', 'ILt', 'ISt', 'KsatQsat_constraints', 'MeV2J', 'MeV2kg', 'MeVfm32dyncm2', 'MeVfm32gcm3', 'Msol_cgs', 'Msol_si', 'Nc', 'Rsol_cgs', 'Rsol_si', 'SetupNeutronSkinExp', 'SetupNeutronSkinTheo', '__builtins__', '__cached__', '__doc__', '__file__', '__loader__', '__name__', '__package__', '__path__', '__spec__', 'astro', 'be_exp_tables', 'be_exp_versions', 'be_theo_tables', 'c', 'c2', 'checkPheno', 'col', 'compute_proba_do', 'compute_proba_up', 'conversionMBE', 'corr', 'corr_setupKsatQsat_fig', 'create_folder', 'create_folder_fig', 'crust', 'crust_models', 'cst', 'curve_fit', 'days', 'den', 'den_n', 'e', 'eF_n', 'eF_n_nr', 'effg_NM_nr', 'effg_SM_nr', 'effg_nr', 'elements', 'env', 'eos', 'esymffg_nr', 'f_dp_dn', 'feden', 'five', 'fiveThird', 'flinear', 'four', 'fpres', 'fsolve', 'func_GCR_cs2', 'func_GCR_e2a', 'func_GCR_pre', 'func_am', 'func_betaeq', 'func_dpredn_NLEFT2024', 'func_e2a_NLEFT2024', 'func_pre_NLEFT2024', 'gauss', 'gw_hyps', 'gw_sources', 'h2m', 'half', 'hbc', 'hic_constraints', 'hnuc', 'hours', 'isgmr_exp_tables', 'kf', 'kf_n', 'masses_obss', 'masses_sources', 'math', 'matter', 'matter_setupFFGNuc_EOS_fig', 'matter_setupFFGNuc_EP_fig', 'matter_setupFFGNuc_fig', 'matter_setupMicro_E_fig', 'matter_setupMicro_fig', 'mec2', 'micro_LP_models', 'micro_esym_mbs', 'micro_esym_models', 'micro_esym_models_mb', 'micro_esym_models_mbs', 'micro_esym_models_old', 'micro_gap_models', 'micro_mbs', 'micro_models', 'micro_models_mb', 'micro_models_mb_NM', 'micro_models_mb_SM', 'micro_models_mb_matter', 'micro_models_mbs', 'micro_models_old', 'minutes', 'mmuc2', 'mnc2', 'mnuc2', 'mnuc2_approx', 'months', 'mpc2', 'mr_obss', 'mr_sources', 'mup_hyps', 'mup_sources', 'nep_models', 'nep_params', 'np', 'ns', 'nsat', 'nskin_exp', 'nskin_exp_source', 'nskin_theo_models', 'nskin_theo_params', 'nuc', 'nucleardatapy_tk', 'nuda', 'one', 'os', 'param', 'path_ame', 'path_data', 'pheno_esym_models', 'pheno_esym_params', 'pheno_models', 'pheno_params', 'pi', 'pi2', 'plot', 'plot_shells', 'plt', 'random', 'rch_exp_tables', 'rch_theo_tables', 're1L_exp_tables', 're1Xi_exp_tables', 're2L_exp_tables', 'rshsol_si', 'setupAM', 'setupAMBeq', 'setupAMLeq', 'setupBEExp', 'setupBETheo', 'setupCrust', 'setupEsym', 'setupEsymLsym', 'setupFFGLep', 'setupFFGNuc', 'setupGW', 'setupGWAverage', 'setupHIC', 'setupISGMRExp', 'setupKsatQsat', 'setupMR', 'setupMRAverage', 'setupMasses', 'setupMassesAverage', 'setupMicro', 'setupMicroBand', 'setupMicroEsym', 'setupMicroGap', 'setupMicroLP', 'setupMtov', 'setupMup', 'setupMupAverage', 'setupNEP', 'setupNEPDist', 'setupNEPModelDist', 'setupNeutronSkinAverage', 'setupPheno', 'setupPhenoEsym', 'setupRE1LExp', 'setupRE1XiExp', 'setupRE2LExp', 'setupRchExp', 'setupRchTheo', 'setup_Esym', 'setup_EsymLsym', 'setup_KsatQsat', 'setup_am', 'setup_am_Beq', 'setup_am_Leq', 'setup_be1L_exp', 'setup_be1Xi_exp', 'setup_be2L_exp', 'setup_be_exp', 'setup_be_theo', 'setup_crust', 'setup_ffg', 'setup_gw', 'setup_hic', 'setup_isgmr_exp', 'setup_masses', 'setup_micro', 'setup_micro_band', 'setup_micro_esym', 'setup_micro_gap', 'setup_micro_lp', 'setup_mr', 'setup_mtov', 'setup_mup', 'setup_nep', 'setup_nep_dist', 'setup_nep_model_dist', 'setup_nskin_exp', 'setup_nskin_theo', 'setup_pheno', 'setup_pheno_esym', 'setup_rch_exp', 'setup_rch_theo', 'special', 'stable_fit', 'sys', 'tex2str', 'third', 'three', 'threeFifth', 'two', 'twoThird', 'uncertainty_stat', 'verb', 'verb_latex', 'verb_output', 'yearMin', 'years']\n"
     ]
    }
   ],
   "source": [
    "print ( dir ( nuda ) )"
   ]
  },
  {
   "cell_type": "code",
   "execution_count": 3,
   "id": "3fd3f2c6-4ffd-4566-95b8-5a397c5c14a4",
   "metadata": {},
   "outputs": [
    {
     "name": "stdout",
     "output_type": "stream",
     "text": [
      "Help on package nucleardatapy:\n",
      "\n",
      "NAME\n",
      "    nucleardatapy - This module provides microscopic, phenomenological and experimental data constraints.\n",
      "\n",
      "PACKAGE CONTENTS\n",
      "    astro (package)\n",
      "    corr (package)\n",
      "    create_folder\n",
      "    crust (package)\n",
      "    cst\n",
      "    env\n",
      "    eos (package)\n",
      "    hnuc (package)\n",
      "    matter (package)\n",
      "    nuc (package)\n",
      "    param\n",
      "    plot (package)\n",
      "\n",
      "SUBMODULES\n",
      "    matter_setupFFGNuc_fig\n",
      "    matter_setupMicro_fig\n",
      "    setup_Esym\n",
      "    setup_EsymLsym\n",
      "    setup_KsatQsat\n",
      "    setup_am\n",
      "    setup_am_Beq\n",
      "    setup_am_Leq\n",
      "    setup_be1L_exp\n",
      "    setup_be1Xi_exp\n",
      "    setup_be2L_exp\n",
      "    setup_be_exp\n",
      "    setup_be_theo\n",
      "    setup_crust\n",
      "    setup_ffg\n",
      "    setup_gw\n",
      "    setup_hic\n",
      "    setup_isgmr_exp\n",
      "    setup_masses\n",
      "    setup_micro\n",
      "    setup_micro_band\n",
      "    setup_micro_esym\n",
      "    setup_micro_gap\n",
      "    setup_micro_lp\n",
      "    setup_mr\n",
      "    setup_mtov\n",
      "    setup_mup\n",
      "    setup_nep\n",
      "    setup_nep_dist\n",
      "    setup_nep_model_dist\n",
      "    setup_nskin_exp\n",
      "    setup_nskin_theo\n",
      "    setup_pheno\n",
      "    setup_pheno_esym\n",
      "    setup_rch_exp\n",
      "    setup_rch_theo\n",
      "\n",
      "DATA\n",
      "    CST_AtmMass = 931.494028\n",
      "    CST_dmHc2 = 1e-07\n",
      "    CST_dmnc2 = 5e-07\n",
      "    CST_mHc2 = 7.2889706\n",
      "    CST_mnc2 = 8.0713171\n",
      "    G_cgs = 6.67259e-08\n",
      "    G_si = 6.67259e-11\n",
      "    HTsl = 3600\n",
      "    HTvsl = 0.001\n",
      "    ILt = 3.155692608e+37\n",
      "    ISt = 1e-30\n",
      "    MeV2J = 1.6021766339999998e-13\n",
      "    MeV2kg = 1.7826619216278976e-30\n",
      "    MeVfm32dyncm2 = 1.602176634e+33\n",
      "    MeVfm32gcm3 = 1782661921627.8977\n",
      "    Msol_cgs = 1.99e+33\n",
      "    Msol_si = 1.99e+30\n",
      "    Nc = 3\n",
      "    Rsol_cgs = 69600000000.0\n",
      "    Rsol_si = 696000000.0\n",
      "    c = 299792458.0\n",
      "    c2 = 8.987551787368176e+16\n",
      "    col = ['blue', 'orange', 'green', 'red', 'purple', 'brown', 'pink', 'g...\n",
      "    days = 86400\n",
      "    e = 1.602176634e-19\n",
      "    elements = array(['H', 'He', 'Li', 'Be', 'B', 'C', 'N', 'O'...'Nh', 'F...\n",
      "    five = 5.0\n",
      "    fiveThird = 1.6666666666666667\n",
      "    four = 4.0\n",
      "    h2m = 41.471043279826425\n",
      "    half = 0.5\n",
      "    hbc = 197.3269804\n",
      "    hours = 3600\n",
      "    mec2 = 0.510998949\n",
      "    minutes = 60\n",
      "    mmuc2 = 105.6583745\n",
      "    mnc2 = 939.565346\n",
      "    mnuc2 = 939.0\n",
      "    mnuc2_approx = 939.0\n",
      "    months = 2592000\n",
      "    mpc2 = 938.272013\n",
      "    ns = 1e-09\n",
      "    nsat = 0.16\n",
      "    nucleardatapy_tk = '/Users/margueron/mylib/nucleardatapy'\n",
      "    one = 1.0\n",
      "    path_ame = '/Users/margueron/Git/GitHub/nucleardatapy/version-0.2/nucl...\n",
      "    path_data = '/Users/margueron/Git/GitHub/nucleardatapy/version-0.2/nuc...\n",
      "    pi = 3.141592653589793\n",
      "    pi2 = 9.869604401089358\n",
      "    rshsol_si = 2954.85453973408\n",
      "    third = 0.3333333333333333\n",
      "    three = 3.0\n",
      "    threeFifth = 0.6\n",
      "    two = 2.0\n",
      "    twoThird = 0.6666666666666666\n",
      "    verb = False\n",
      "    verb_latex = True\n",
      "    verb_output = False\n",
      "    yearMin = 1851\n",
      "    years = 31556926.080000002\n",
      "\n",
      "FILE\n",
      "    /Users/margueron/Git/GitHub/nucleardatapy/version-0.2/nucleardatapy/__init__.py\n",
      "\n",
      "\n",
      "None\n"
     ]
    }
   ],
   "source": [
    "print ( help ( nuda ) )"
   ]
  },
  {
   "cell_type": "code",
   "execution_count": 5,
   "id": "4bee95a6-068e-4a47-ad19-b3c05400bac7",
   "metadata": {},
   "outputs": [
    {
     "name": "stdout",
     "output_type": "stream",
     "text": [
      "{'__name__': 'nucleardatapy', '__doc__': '\\nThis module provides microscopic, phenomenological and experimental data constraints.\\n', '__package__': 'nucleardatapy', '__loader__': <_frozen_importlib_external.SourceFileLoader object at 0x2d6c3b230>, '__spec__': ModuleSpec(name='nucleardatapy', loader=<_frozen_importlib_external.SourceFileLoader object at 0x2d6c3b230>, origin='/Users/margueron/Git/GitHub/nucleardatapy/version-0.2/nucleardatapy/__init__.py', submodule_search_locations=['/Users/margueron/Git/GitHub/nucleardatapy/version-0.2/nucleardatapy']), '__path__': ['/Users/margueron/Git/GitHub/nucleardatapy/version-0.2/nucleardatapy'], '__file__': '/Users/margueron/Git/GitHub/nucleardatapy/version-0.2/nucleardatapy/__init__.py', '__cached__': '/Users/margueron/Git/GitHub/nucleardatapy/version-0.2/nucleardatapy/__pycache__/__init__.cpython-312.pyc', '__builtins__': {'__name__': 'builtins', '__doc__': \"Built-in functions, types, exceptions, and other objects.\\n\\nThis module provides direct access to all 'built-in'\\nidentifiers of Python; for example, builtins.len is\\nthe full name for the built-in function len().\\n\\nThis module is not normally accessed explicitly by most\\napplications, but can be useful in modules that provide\\nobjects with the same name as a built-in value, but in\\nwhich the built-in of that name is also needed.\", '__package__': '', '__loader__': <class '_frozen_importlib.BuiltinImporter'>, '__spec__': ModuleSpec(name='builtins', loader=<class '_frozen_importlib.BuiltinImporter'>, origin='built-in'), '__build_class__': <built-in function __build_class__>, '__import__': <built-in function __import__>, 'abs': <built-in function abs>, 'all': <built-in function all>, 'any': <built-in function any>, 'ascii': <built-in function ascii>, 'bin': <built-in function bin>, 'breakpoint': <built-in function breakpoint>, 'callable': <built-in function callable>, 'chr': <built-in function chr>, 'compile': <built-in function compile>, 'delattr': <built-in function delattr>, 'dir': <built-in function dir>, 'divmod': <built-in function divmod>, 'eval': <built-in function eval>, 'exec': <built-in function exec>, 'format': <built-in function format>, 'getattr': <built-in function getattr>, 'globals': <built-in function globals>, 'hasattr': <built-in function hasattr>, 'hash': <built-in function hash>, 'hex': <built-in function hex>, 'id': <built-in function id>, 'input': <bound method Kernel.raw_input of <ipykernel.ipkernel.IPythonKernel object at 0x2d6645100>>, 'isinstance': <built-in function isinstance>, 'issubclass': <built-in function issubclass>, 'iter': <built-in function iter>, 'aiter': <built-in function aiter>, 'len': <built-in function len>, 'locals': <built-in function locals>, 'max': <built-in function max>, 'min': <built-in function min>, 'next': <built-in function next>, 'anext': <built-in function anext>, 'oct': <built-in function oct>, 'ord': <built-in function ord>, 'pow': <built-in function pow>, 'print': <built-in function print>, 'repr': <built-in function repr>, 'round': <built-in function round>, 'setattr': <built-in function setattr>, 'sorted': <built-in function sorted>, 'sum': <built-in function sum>, 'vars': <built-in function vars>, 'None': None, 'Ellipsis': Ellipsis, 'NotImplemented': NotImplemented, 'False': False, 'True': True, 'bool': <class 'bool'>, 'memoryview': <class 'memoryview'>, 'bytearray': <class 'bytearray'>, 'bytes': <class 'bytes'>, 'classmethod': <class 'classmethod'>, 'complex': <class 'complex'>, 'dict': <class 'dict'>, 'enumerate': <class 'enumerate'>, 'filter': <class 'filter'>, 'float': <class 'float'>, 'frozenset': <class 'frozenset'>, 'property': <class 'property'>, 'int': <class 'int'>, 'list': <class 'list'>, 'map': <class 'map'>, 'object': <class 'object'>, 'range': <class 'range'>, 'reversed': <class 'reversed'>, 'set': <class 'set'>, 'slice': <class 'slice'>, 'staticmethod': <class 'staticmethod'>, 'str': <class 'str'>, 'super': <class 'super'>, 'tuple': <class 'tuple'>, 'type': <class 'type'>, 'zip': <class 'zip'>, '__debug__': True, 'BaseException': <class 'BaseException'>, 'BaseExceptionGroup': <class 'BaseExceptionGroup'>, 'Exception': <class 'Exception'>, 'GeneratorExit': <class 'GeneratorExit'>, 'KeyboardInterrupt': <class 'KeyboardInterrupt'>, 'SystemExit': <class 'SystemExit'>, 'ArithmeticError': <class 'ArithmeticError'>, 'AssertionError': <class 'AssertionError'>, 'AttributeError': <class 'AttributeError'>, 'BufferError': <class 'BufferError'>, 'EOFError': <class 'EOFError'>, 'ImportError': <class 'ImportError'>, 'LookupError': <class 'LookupError'>, 'MemoryError': <class 'MemoryError'>, 'NameError': <class 'NameError'>, 'OSError': <class 'OSError'>, 'ReferenceError': <class 'ReferenceError'>, 'RuntimeError': <class 'RuntimeError'>, 'StopAsyncIteration': <class 'StopAsyncIteration'>, 'StopIteration': <class 'StopIteration'>, 'SyntaxError': <class 'SyntaxError'>, 'SystemError': <class 'SystemError'>, 'TypeError': <class 'TypeError'>, 'ValueError': <class 'ValueError'>, 'Warning': <class 'Warning'>, 'FloatingPointError': <class 'FloatingPointError'>, 'OverflowError': <class 'OverflowError'>, 'ZeroDivisionError': <class 'ZeroDivisionError'>, 'BytesWarning': <class 'BytesWarning'>, 'DeprecationWarning': <class 'DeprecationWarning'>, 'EncodingWarning': <class 'EncodingWarning'>, 'FutureWarning': <class 'FutureWarning'>, 'ImportWarning': <class 'ImportWarning'>, 'PendingDeprecationWarning': <class 'PendingDeprecationWarning'>, 'ResourceWarning': <class 'ResourceWarning'>, 'RuntimeWarning': <class 'RuntimeWarning'>, 'SyntaxWarning': <class 'SyntaxWarning'>, 'UnicodeWarning': <class 'UnicodeWarning'>, 'UserWarning': <class 'UserWarning'>, 'BlockingIOError': <class 'BlockingIOError'>, 'ChildProcessError': <class 'ChildProcessError'>, 'ConnectionError': <class 'ConnectionError'>, 'FileExistsError': <class 'FileExistsError'>, 'FileNotFoundError': <class 'FileNotFoundError'>, 'InterruptedError': <class 'InterruptedError'>, 'IsADirectoryError': <class 'IsADirectoryError'>, 'NotADirectoryError': <class 'NotADirectoryError'>, 'PermissionError': <class 'PermissionError'>, 'ProcessLookupError': <class 'ProcessLookupError'>, 'TimeoutError': <class 'TimeoutError'>, 'IndentationError': <class 'IndentationError'>, 'IndexError': <class 'IndexError'>, 'KeyError': <class 'KeyError'>, 'ModuleNotFoundError': <class 'ModuleNotFoundError'>, 'NotImplementedError': <class 'NotImplementedError'>, 'RecursionError': <class 'RecursionError'>, 'UnboundLocalError': <class 'UnboundLocalError'>, 'UnicodeError': <class 'UnicodeError'>, 'BrokenPipeError': <class 'BrokenPipeError'>, 'ConnectionAbortedError': <class 'ConnectionAbortedError'>, 'ConnectionRefusedError': <class 'ConnectionRefusedError'>, 'ConnectionResetError': <class 'ConnectionResetError'>, 'TabError': <class 'TabError'>, 'UnicodeDecodeError': <class 'UnicodeDecodeError'>, 'UnicodeEncodeError': <class 'UnicodeEncodeError'>, 'UnicodeTranslateError': <class 'UnicodeTranslateError'>, 'ExceptionGroup': <class 'ExceptionGroup'>, 'EnvironmentError': <class 'OSError'>, 'IOError': <class 'OSError'>, 'open': <built-in function open>, 'copyright': Copyright (c) 2001-2023 Python Software Foundation.\n",
      "All Rights Reserved.\n",
      "\n",
      "Copyright (c) 2000 BeOpen.com.\n",
      "All Rights Reserved.\n",
      "\n",
      "Copyright (c) 1995-2001 Corporation for National Research Initiatives.\n",
      "All Rights Reserved.\n",
      "\n",
      "Copyright (c) 1991-1995 Stichting Mathematisch Centrum, Amsterdam.\n",
      "All Rights Reserved., 'credits':     Thanks to CWI, CNRI, BeOpen, Zope Corporation, the Python Software\n",
      "    Foundation, and a cast of thousands for supporting Python\n",
      "    development.  See www.python.org for more information., 'license': Type license() to see the full license text, 'help': Type help() for interactive help, or help(object) for help about object., 'execfile': <function execfile at 0x2d6751e40>, 'runfile': <function runfile at 0x2d6862de0>, '__IPYTHON__': True, 'display': <function display at 0x2d57ad3a0>, 'get_ipython': <bound method InteractiveShell.get_ipython of <ipykernel.zmqshell.ZMQInteractiveShell object at 0x2d6be7680>>}, 'cst': <module 'nucleardatapy.cst' from '/Users/margueron/Git/GitHub/nucleardatapy/version-0.2/nucleardatapy/cst.py'>, 'hbc': 197.3269804, 'pi': 3.141592653589793, 'pi2': 9.869604401089358, 'mec2': 0.510998949, 'mmuc2': 105.6583745, 'mnc2': 939.565346, 'mpc2': 938.272013, 'mnuc2': 939.0, 'mnuc2_approx': 939.0, 'h2m': 41.471043279826425, 'nsat': 0.16, 'e': 1.602176634e-19, 'c': 299792458.0, 'c2': 8.987551787368176e+16, 'Nc': 3, 'G_cgs': 6.67259e-08, 'G_si': 6.67259e-11, 'Msol_cgs': 1.99e+33, 'Msol_si': 1.99e+30, 'Rsol_cgs': 69600000000.0, 'Rsol_si': 696000000.0, 'rshsol_si': 2954.85453973408, 'one': 1.0, 'two': 2.0, 'three': 3.0, 'four': 4.0, 'five': 5.0, 'half': 0.5, 'third': 0.3333333333333333, 'twoThird': 0.6666666666666666, 'threeFifth': 0.6, 'fiveThird': 1.6666666666666667, 'MeV2J': 1.6021766339999998e-13, 'MeV2kg': 1.7826619216278976e-30, 'MeVfm32gcm3': 1782661921627.8977, 'MeVfm32dyncm2': 1.602176634e+33, 'env': <module 'nucleardatapy.env' from '/Users/margueron/Git/GitHub/nucleardatapy/version-0.2/nucleardatapy/env.py'>, 'verb': False, 'verb_output': False, 'verb_latex': True, 'param': <module 'nucleardatapy.param' from '/Users/margueron/Git/GitHub/nucleardatapy/version-0.2/nucleardatapy/param.py'>, 'os': <module 'os' (frozen)>, 'np': <module 'numpy' from '/Users/margueron/Library/Python/3.12/lib/python/site-packages/numpy/__init__.py'>, 'nucleardatapy_tk': '/Users/margueron/mylib/nucleardatapy', 'path_data': '/Users/margueron/Git/GitHub/nucleardatapy/version-0.2/nucleardatapy/data/', 'path_ame': '/Users/margueron/Git/GitHub/nucleardatapy/version-0.2/nucleardatapy/data/AME/', 'col': ['blue', 'orange', 'green', 'red', 'purple', 'brown', 'pink', 'gray', 'olive', 'cyan', 'black', 'magenta', 'yellow', '#1f77b4', '#ff7f0e', '#2ca02c', '#d62728', '#9467bd', '#8c564b', '#e377c2', '#7f7f7f', '#bcbd22', '#17becf'], 'elements': array(['H', 'He', 'Li', 'Be', 'B', 'C', 'N', 'O', 'F', 'Ne', 'Na', 'Mg',\n",
      "       'Al', 'Si', 'P', 'S', 'Cl', 'Ar', 'K', 'Ca', 'Sc', 'Ti', 'V', 'Cr',\n",
      "       'Mn', 'Fe', 'Co', 'Ni', 'Cu', 'Zn', 'Ga', 'Ge', 'As', 'Se', 'Br',\n",
      "       'Kr', 'Rb', 'Sr', 'Y', 'Zr', 'Nb', 'Mo', 'Tc', 'Ru', 'Rh', 'Pd',\n",
      "       'Ag', 'Cd', 'In', 'Sn', 'Sb', 'Te', 'I', 'Xe', 'Cs', 'Ba', 'La',\n",
      "       'Ce', 'Pr', 'Nd', 'Pm', 'Sm', 'Eu', 'Gd', 'Tb', 'Dy', 'Ho', 'Er',\n",
      "       'Tm', 'Yb', 'Lu', 'Hf', 'Ta', 'W', 'Re', 'Os', 'Ir', 'Pt', 'Au',\n",
      "       'Hg', 'Tl', 'Pb', 'Bi', 'Po', 'At', 'Rn', 'Fr', 'Ra', 'Ac', 'Th',\n",
      "       'Pa', 'U', 'Np', 'Pu', 'Am', 'Cm', 'Bk', 'Cf', 'Es', 'Fm', 'Md',\n",
      "       'No', 'Lr', 'Rf', 'Db', 'Sg', 'Bh', 'Hs', 'Mt', 'Ds', 'Rg', 'Cn',\n",
      "       'Nh', 'Fl', 'Mc', 'Lv', 'Ts', 'Og'], dtype='<U2'), 'tex2str': <function tex2str at 0x2d6faaca0>, 'create_folder': <module 'nucleardatapy.create_folder' from '/Users/margueron/Git/GitHub/nucleardatapy/version-0.2/nucleardatapy/create_folder.py'>, 'create_folder_fig': <function create_folder_fig at 0x2d6faade0>, 'matter': <module 'nucleardatapy.matter' from '/Users/margueron/Git/GitHub/nucleardatapy/version-0.2/nucleardatapy/matter/__init__.py'>, 'setup_ffg': <module 'nucleardatapy.matter.setup_ffg' from '/Users/margueron/Git/GitHub/nucleardatapy/version-0.2/nucleardatapy/matter/setup_ffg.py'>, 'nuda': <module 'nucleardatapy' from '/Users/margueron/Git/GitHub/nucleardatapy/version-0.2/nucleardatapy/__init__.py'>, 'kf': <function kf at 0x2d6faac00>, 'den': <function den at 0x2d6fab1a0>, 'kf_n': <function kf_n at 0x2d6fab240>, 'den_n': <function den_n at 0x2d6fab2e0>, 'eF_n': <function eF_n at 0x2d6fab380>, 'eF_n_nr': <function eF_n_nr at 0x2d6fab420>, 'effg_NM_nr': <function effg_NM_nr at 0x2d6fab4c0>, 'effg_SM_nr': <function effg_SM_nr at 0x2d6fab560>, 'effg_nr': <function effg_nr at 0x2d6fab600>, 'esymffg_nr': <function esymffg_nr at 0x2d6fab6a0>, 'feden': <function feden at 0x2d6fab740>, 'fpres': <function fpres at 0x2d6fab7e0>, 'f_dp_dn': <function f_dp_dn at 0x2d6fab880>, 'setupFFGNuc': <class 'nucleardatapy.matter.setup_ffg.setupFFGNuc'>, 'setupFFGLep': <class 'nucleardatapy.matter.setup_ffg.setupFFGLep'>, 'setup_micro': <module 'nucleardatapy.matter.setup_micro' from '/Users/margueron/Git/GitHub/nucleardatapy/version-0.2/nucleardatapy/matter/setup_micro.py'>, 'sys': <module 'sys' (built-in)>, 'math': <module 'math' from '/opt/local/Library/Frameworks/Python.framework/Versions/3.12/lib/python3.12/lib-dynload/math.cpython-312-darwin.so'>, 'CubicSpline': <class 'scipy.interpolate._cubic.CubicSpline'>, 'curve_fit': <function curve_fit at 0x2d9a7c720>, 'random': <module 'random' from '/opt/local/Library/Frameworks/Python.framework/Versions/3.12/lib/python3.12/random.py'>, 'uncertainty_stat': <function uncertainty_stat at 0x2d6fabf60>, 'micro_mbs': <function micro_mbs at 0x2d6ffc540>, 'micro_models_mb': <function micro_models_mb at 0x2d6ffc5e0>, 'micro_models_mbs': <function micro_models_mbs at 0x2d6ffc680>, 'micro_models': <function micro_models at 0x2da61f1a0>, 'micro_models_old': <function micro_models_old at 0x2da61fba0>, 'micro_models_mb_matter': <function micro_models_mb_matter at 0x2da61fd80>, 'micro_models_mb_SM': <function micro_models_mb_SM at 0x2da61fe20>, 'micro_models_mb_NM': <function micro_models_mb_NM at 0x2da61fec0>, 'APRfit_compute': <function APRfit_compute at 0x2da61ff60>, 'func_GCR_e2a': <function func_GCR_e2a at 0x2da63c040>, 'func_GCR_pre': <function func_GCR_pre at 0x2da63c0e0>, 'func_GCR_cs2': <function func_GCR_cs2 at 0x2da63c180>, 'func_e2a_NLEFT2024': <function func_e2a_NLEFT2024 at 0x2da63c220>, 'func_pre_NLEFT2024': <function func_pre_NLEFT2024 at 0x2da63c2c0>, 'func_dpredn_NLEFT2024': <function func_dpredn_NLEFT2024 at 0x2da63c360>, 'setupMicro': <class 'nucleardatapy.matter.setup_micro.setupMicro'>, 'setup_micro_gap': <module 'nucleardatapy.matter.setup_micro_gap' from '/Users/margueron/Git/GitHub/nucleardatapy/version-0.2/nucleardatapy/matter/setup_micro_gap.py'>, 'micro_gap_models': <function micro_gap_models at 0x2da63c720>, 'setupMicroGap': <class 'nucleardatapy.matter.setup_micro_gap.setupMicroGap'>, 'setup_micro_band': <module 'nucleardatapy.matter.setup_micro_band' from '/Users/margueron/Git/GitHub/nucleardatapy/version-0.2/nucleardatapy/matter/setup_micro_band.py'>, 'gauss': <function gauss at 0x2da69dda0>, 'setupMicroBand': <class 'nucleardatapy.matter.setup_micro_band.setupMicroBand'>, 'setup_micro_esym': <module 'nucleardatapy.matter.setup_micro_esym' from '/Users/margueron/Git/GitHub/nucleardatapy/version-0.2/nucleardatapy/matter/setup_micro_esym.py'>, 'micro_esym_mbs': <function micro_esym_mbs at 0x2da63cea0>, 'micro_esym_models_mb': <function micro_esym_models_mb at 0x2da63cf40>, 'micro_esym_models_mbs': <function micro_esym_models_mbs at 0x2da63cfe0>, 'micro_esym_models': <function micro_esym_models at 0x2da63d080>, 'micro_esym_models_old': <function micro_esym_models_old at 0x2da63d120>, 'setupMicroEsym': <class 'nucleardatapy.matter.setup_micro_esym.setupMicroEsym'>, 'setup_micro_lp': <module 'nucleardatapy.matter.setup_micro_lp' from '/Users/margueron/Git/GitHub/nucleardatapy/version-0.2/nucleardatapy/matter/setup_micro_lp.py'>, 'micro_LP_models': <function micro_LP_models at 0x2da63d4e0>, 'setupMicroLP': <class 'nucleardatapy.matter.setup_micro_lp.setupMicroLP'>, 'setup_pheno': <module 'nucleardatapy.matter.setup_pheno' from '/Users/margueron/Git/GitHub/nucleardatapy/version-0.2/nucleardatapy/matter/setup_pheno.py'>, 'pheno_models': <function pheno_models at 0x2da63c7c0>, 'pheno_params': <function pheno_params at 0x2da63d940>, 'setupPheno': <class 'nucleardatapy.matter.setup_pheno.setupPheno'>, 'checkPheno': <function checkPheno at 0x2da63d9e0>, 'setup_pheno_esym': <module 'nucleardatapy.matter.setup_pheno_esym' from '/Users/margueron/Git/GitHub/nucleardatapy/version-0.2/nucleardatapy/matter/setup_pheno_esym.py'>, 'pheno_esym_models': <function pheno_esym_models at 0x2da63dd00>, 'pheno_esym_params': <function pheno_esym_params at 0x2da63de40>, 'setupPhenoEsym': <class 'nucleardatapy.matter.setup_pheno_esym.setupPhenoEsym'>, 'setup_hic': <module 'nucleardatapy.matter.setup_hic' from '/Users/margueron/Git/GitHub/nucleardatapy/version-0.2/nucleardatapy/matter/setup_hic.py'>, 'hic_constraints': <function hic_constraints at 0x2da63e2a0>, 'setupHIC': <class 'nucleardatapy.matter.setup_hic.setupHIC'>, 'setup_nep': <module 'nucleardatapy.matter.setup_nep' from '/Users/margueron/Git/GitHub/nucleardatapy/version-0.2/nucleardatapy/matter/setup_nep.py'>, 'nep_models': <function nep_models at 0x2da63e5c0>, 'nep_params': <function nep_params at 0x2da63e660>, 'setupNEP': <class 'nucleardatapy.matter.setup_nep.setupNEP'>, 'setup_nep_dist': <module 'nucleardatapy.matter.setup_nep_dist' from '/Users/margueron/Git/GitHub/nucleardatapy/version-0.2/nucleardatapy/matter/setup_nep_dist.py'>, 'setupNEPDist': <class 'nucleardatapy.matter.setup_nep_dist.setupNEPDist'>, 'setup_nep_model_dist': <module 'nucleardatapy.matter.setup_nep_model_dist' from '/Users/margueron/Git/GitHub/nucleardatapy/version-0.2/nucleardatapy/matter/setup_nep_model_dist.py'>, 'setupNEPModelDist': <class 'nucleardatapy.matter.setup_nep_model_dist.setupNEPModelDist'>, 'eos': <module 'nucleardatapy.eos' from '/Users/margueron/Git/GitHub/nucleardatapy/version-0.2/nucleardatapy/eos/__init__.py'>, 'setup_am': <module 'nucleardatapy.eos.setup_am' from '/Users/margueron/Git/GitHub/nucleardatapy/version-0.2/nucleardatapy/eos/setup_am.py'>, 'fsolve': <function fsolve at 0x2d9a4d580>, 'setupAM': <class 'nucleardatapy.eos.setup_am.setupAM'>, 'setup_am_Leq': <module 'nucleardatapy.eos.setup_am_Leq' from '/Users/margueron/Git/GitHub/nucleardatapy/version-0.2/nucleardatapy/eos/setup_am_Leq.py'>, 'func_am': <function func_am at 0x2da63e980>, 'setupAMLeq': <class 'nucleardatapy.eos.setup_am_Leq.setupAMLeq'>, 'setup_am_Beq': <module 'nucleardatapy.eos.setup_am_Beq' from '/Users/margueron/Git/GitHub/nucleardatapy/version-0.2/nucleardatapy/eos/setup_am_Beq.py'>, 'func_betaeq': <function func_betaeq at 0x2da63f6a0>, 'setupAMBeq': <class 'nucleardatapy.eos.setup_am_Beq.setupAMBeq'>, 'corr': <module 'nucleardatapy.corr' from '/Users/margueron/Git/GitHub/nucleardatapy/version-0.2/nucleardatapy/corr/__init__.py'>, 'setup_KsatQsat': <module 'nucleardatapy.corr.setup_KsatQsat' from '/Users/margueron/Git/GitHub/nucleardatapy/version-0.2/nucleardatapy/corr/setup_KsatQsat.py'>, 'KsatQsat_constraints': <function KsatQsat_constraints at 0x2da63f2e0>, 'flinear': <function flinear at 0x2da63fba0>, 'setupKsatQsat': <class 'nucleardatapy.corr.setup_KsatQsat.setupKsatQsat'>, 'setup_EsymLsym': <module 'nucleardatapy.corr.setup_EsymLsym' from '/Users/margueron/Git/GitHub/nucleardatapy/version-0.2/nucleardatapy/corr/setup_EsymLsym.py'>, 'EsymLsym_constraints': <function EsymLsym_constraints at 0x2da66c0e0>, 'HIC_Esym': <function HIC_Esym at 0x2da66c180>, 'HIC_Lsym': <function HIC_Lsym at 0x2da66c220>, 'HIC_xgi': <function HIC_xgi at 0x2da66c2c0>, 'HIC_Lsym_bound': <function HIC_Lsym_bound at 0x2da66c360>, 'setupEsymLsym': <class 'nucleardatapy.corr.setup_EsymLsym.setupEsymLsym'>, 'setup_Esym': <module 'nucleardatapy.corr.setup_Esym' from '/Users/margueron/Git/GitHub/nucleardatapy/version-0.2/nucleardatapy/corr/setup_Esym.py'>, 'setupEsym': <class 'nucleardatapy.corr.setup_Esym.setupEsym'>, 'nuc': <module 'nucleardatapy.nuc' from '/Users/margueron/Git/GitHub/nucleardatapy/version-0.2/nucleardatapy/nuc/__init__.py'>, 'setup_be_exp': <module 'nucleardatapy.nuc.setup_be_exp' from '/Users/margueron/Git/GitHub/nucleardatapy/version-0.2/nucleardatapy/nuc/setup_be_exp.py'>, 'CST_AtmMass': 931.494028, 'CST_mnc2': 8.0713171, 'CST_dmnc2': 5e-07, 'CST_mHc2': 7.2889706, 'CST_dmHc2': 1e-07, 'yearMin': 1851, 'ns': 1e-09, 'minutes': 60, 'hours': 3600, 'days': 86400, 'months': 2592000, 'years': 31556926.080000002, 'ILt': 3.155692608e+37, 'ISt': 1e-30, 'HTvsl': 0.001, 'HTsl': 3600, 'stable_fit': <function stable_fit at 0x2da66ccc0>, 'be_exp_tables': <function be_exp_tables at 0x2da66cd60>, 'be_exp_versions': <function be_exp_versions at 0x2da66ce00>, 'plot_shells': <function plot_shells at 0x2da66cea0>, 'setupBEExp': <class 'nucleardatapy.nuc.setup_be_exp.setupBEExp'>, 'setup_be_theo': <module 'nucleardatapy.nuc.setup_be_theo' from '/Users/margueron/Git/GitHub/nucleardatapy/version-0.2/nucleardatapy/nuc/setup_be_theo.py'>, 'be_theo_tables': <function be_theo_tables at 0x2da66d6c0>, 'conversionMBE': <function conversionMBE at 0x2da66d760>, 'setupBETheo': <class 'nucleardatapy.nuc.setup_be_theo.setupBETheo'>, 'setup_isgmr_exp': <module 'nucleardatapy.nuc.setup_isgmr_exp' from '/Users/margueron/Git/GitHub/nucleardatapy/version-0.2/nucleardatapy/nuc/setup_isgmr_exp.py'>, 'isgmr_exp_tables': <function isgmr_exp_tables at 0x2da66df80>, 'setupISGMRExp': <class 'nucleardatapy.nuc.setup_isgmr_exp.setupISGMRExp'>, 'setup_nskin_exp': <module 'nucleardatapy.nuc.setup_nskin_exp' from '/Users/margueron/Git/GitHub/nucleardatapy/version-0.2/nucleardatapy/nuc/setup_nskin_exp.py'>, 'nskin_exp': <function nskin_exp at 0x2da66e520>, 'nskin_exp_source': <function nskin_exp_source at 0x2da66e5c0>, 'SetupNeutronSkinExp': <class 'nucleardatapy.nuc.setup_nskin_exp.SetupNeutronSkinExp'>, 'setupNeutronSkinAverage': <class 'nucleardatapy.nuc.setup_nskin_exp.setupNeutronSkinAverage'>, 'setup_nskin_theo': <module 'nucleardatapy.nuc.setup_nskin_theo' from '/Users/margueron/Git/GitHub/nucleardatapy/version-0.2/nucleardatapy/nuc/setup_nskin_theo.py'>, 'nskin_theo_models': <function nskin_theo_models at 0x2da66cf40>, 'nskin_theo_params': <function nskin_theo_params at 0x2da66eca0>, 'SetupNeutronSkinTheo': <class 'nucleardatapy.nuc.setup_nskin_theo.SetupNeutronSkinTheo'>, 'setup_rch_exp': <module 'nucleardatapy.nuc.setup_rch_exp' from '/Users/margueron/Git/GitHub/nucleardatapy/version-0.2/nucleardatapy/nuc/setup_rch_exp.py'>, 'rch_exp_tables': <function rch_exp_tables at 0x2da66f100>, 'setupRchExp': <class 'nucleardatapy.nuc.setup_rch_exp.setupRchExp'>, 'setup_rch_theo': <module 'nucleardatapy.nuc.setup_rch_theo' from '/Users/margueron/Git/GitHub/nucleardatapy/version-0.2/nucleardatapy/nuc/setup_rch_theo.py'>, 'rch_theo_tables': <function rch_theo_tables at 0x2da66f560>, 'setupRchTheo': <class 'nucleardatapy.nuc.setup_rch_theo.setupRchTheo'>, 'crust': <module 'nucleardatapy.crust' from '/Users/margueron/Git/GitHub/nucleardatapy/version-0.2/nucleardatapy/crust/__init__.py'>, 'setup_crust': <module 'nucleardatapy.crust.setup_crust' from '/Users/margueron/Git/GitHub/nucleardatapy/version-0.2/nucleardatapy/crust/setup_crust.py'>, 'crust_models': <function crust_models at 0x2da66f920>, 'setupCrust': <class 'nucleardatapy.crust.setup_crust.setupCrust'>, 'astro': <module 'nucleardatapy.astro' from '/Users/margueron/Git/GitHub/nucleardatapy/version-0.2/nucleardatapy/astro/__init__.py'>, 'setup_masses': <module 'nucleardatapy.astro.setup_masses' from '/Users/margueron/Git/GitHub/nucleardatapy/version-0.2/nucleardatapy/astro/setup_masses.py'>, 'masses_sources': <function masses_sources at 0x2da63f420>, 'masses_obss': <function masses_obss at 0x2da69c040>, 'setupMasses': <class 'nucleardatapy.astro.setup_masses.setupMasses'>, 'setupMassesAverage': <class 'nucleardatapy.astro.setup_masses.setupMassesAverage'>, 'setup_mup': <module 'nucleardatapy.astro.setup_mup' from '/Users/margueron/Git/GitHub/nucleardatapy/version-0.2/nucleardatapy/astro/setup_mup.py'>, 'mup_sources': <function mup_sources at 0x2da69c900>, 'mup_hyps': <function mup_hyps at 0x2da69c9a0>, 'setupMup': <class 'nucleardatapy.astro.setup_mup.setupMup'>, 'setupMupAverage': <class 'nucleardatapy.astro.setup_mup.setupMupAverage'>, 'setup_mtov': <module 'nucleardatapy.astro.setup_mtov' from '/Users/margueron/Git/GitHub/nucleardatapy/version-0.2/nucleardatapy/astro/setup_mtov.py'>, 'special': <module 'scipy.special' from '/opt/local/Library/Frameworks/Python.framework/Versions/3.12/lib/python3.12/site-packages/scipy/special/__init__.py'>, 'compute_proba_do': <function compute_proba_do at 0x2da69cf40>, 'compute_proba_up': <function compute_proba_up at 0x2da69cfe0>, 'setupMtov': <class 'nucleardatapy.astro.setup_mtov.setupMtov'>, 'setup_mr': <module 'nucleardatapy.astro.setup_mr' from '/Users/margueron/Git/GitHub/nucleardatapy/version-0.2/nucleardatapy/astro/setup_mr.py'>, 'mr_sources': <function mr_sources at 0x2da69d4e0>, 'mr_obss': <function mr_obss at 0x2da69d580>, 'setupMR': <class 'nucleardatapy.astro.setup_mr.setupMR'>, 'setupMRAverage': <class 'nucleardatapy.astro.setup_mr.setupMRAverage'>, 'setup_gw': <module 'nucleardatapy.astro.setup_gw' from '/Users/margueron/Git/GitHub/nucleardatapy/version-0.2/nucleardatapy/astro/setup_gw.py'>, 'gw_sources': <function gw_sources at 0x2da69dc60>, 'gw_hyps': <function gw_hyps at 0x2da69dd00>, 'setupGW': <class 'nucleardatapy.astro.setup_gw.setupGW'>, 'setupGWAverage': <class 'nucleardatapy.astro.setup_gw.setupGWAverage'>, 'hnuc': <module 'nucleardatapy.hnuc' from '/Users/margueron/Git/GitHub/nucleardatapy/version-0.2/nucleardatapy/hnuc/__init__.py'>, 'setup_be1L_exp': <module 'nucleardatapy.hnuc.setup_be1L_exp' from '/Users/margueron/Git/GitHub/nucleardatapy/version-0.2/nucleardatapy/hnuc/setup_be1L_exp.py'>, 're1L_exp_tables': <function re1L_exp_tables at 0x2da69e480>, 'setupRE1LExp': <class 'nucleardatapy.hnuc.setup_be1L_exp.setupRE1LExp'>, 'setup_be2L_exp': <module 'nucleardatapy.hnuc.setup_be2L_exp' from '/Users/margueron/Git/GitHub/nucleardatapy/version-0.2/nucleardatapy/hnuc/setup_be2L_exp.py'>, 're2L_exp_tables': <function re2L_exp_tables at 0x2da69e7a0>, 'setupRE2LExp': <class 'nucleardatapy.hnuc.setup_be2L_exp.setupRE2LExp'>, 'setup_be1Xi_exp': <module 'nucleardatapy.hnuc.setup_be1Xi_exp' from '/Users/margueron/Git/GitHub/nucleardatapy/version-0.2/nucleardatapy/hnuc/setup_be1Xi_exp.py'>, 're1Xi_exp_tables': <function re1Xi_exp_tables at 0x2da69e340>, 'setupRE1XiExp': <class 'nucleardatapy.hnuc.setup_be1Xi_exp.setupRE1XiExp'>, 'plot': <module 'nucleardatapy.plot' from '/Users/margueron/Git/GitHub/nucleardatapy/version-0.2/nucleardatapy/plot/__init__.py'>, 'matter_setupFFGNuc_fig': <module 'nucleardatapy.plot.matter_setupFFGNuc_fig' from '/Users/margueron/Git/GitHub/nucleardatapy/version-0.2/nucleardatapy/plot/matter_setupFFGNuc_fig.py'>, 'plt': <module 'matplotlib.pyplot' from '/Users/margueron/Library/Python/3.12/lib/python/site-packages/matplotlib/pyplot.py'>, 'matter_setupFFGNuc_EP_fig': <function matter_setupFFGNuc_EP_fig at 0x2da69ee80>, 'matter_setupFFGNuc_EOS_fig': <function matter_setupFFGNuc_EOS_fig at 0x2da69f060>, 'matter_setupMicro_fig': <module 'nucleardatapy.plot.matter_setupMicro_fig' from '/Users/margueron/Git/GitHub/nucleardatapy/version-0.2/nucleardatapy/plot/matter_setupMicro_fig.py'>, 'matter_setupMicro_E_fig': <function matter_setupMicro_E_fig at 0x2db61eb60>, 'corr_setupKsatQsat_fig': <function corr_setupKsatQsat_fig at 0x2db91c720>}\n"
     ]
    }
   ],
   "source": [
    "print ( nuda.__dict__ )"
   ]
  },
  {
   "cell_type": "code",
   "execution_count": 6,
   "id": "aa621096-c805-4787-adb2-0ce70352b770",
   "metadata": {},
   "outputs": [
    {
     "name": "stdout",
     "output_type": "stream",
     "text": [
      "dict_keys(['__name__', '__doc__', '__package__', '__loader__', '__spec__', '__path__', '__file__', '__cached__', '__builtins__', 'cst', 'hbc', 'pi', 'pi2', 'mec2', 'mmuc2', 'mnc2', 'mpc2', 'mnuc2', 'mnuc2_approx', 'h2m', 'nsat', 'e', 'c', 'c2', 'Nc', 'G_cgs', 'G_si', 'Msol_cgs', 'Msol_si', 'Rsol_cgs', 'Rsol_si', 'rshsol_si', 'one', 'two', 'three', 'four', 'five', 'half', 'third', 'twoThird', 'threeFifth', 'fiveThird', 'MeV2J', 'MeV2kg', 'MeVfm32gcm3', 'MeVfm32dyncm2', 'env', 'verb', 'verb_output', 'verb_latex', 'param', 'os', 'np', 'nucleardatapy_tk', 'path_data', 'path_ame', 'col', 'elements', 'tex2str', 'create_folder', 'create_folder_fig', 'matter', 'setup_ffg', 'nuda', 'kf', 'den', 'kf_n', 'den_n', 'eF_n', 'eF_n_nr', 'effg_NM_nr', 'effg_SM_nr', 'effg_nr', 'esymffg_nr', 'feden', 'fpres', 'f_dp_dn', 'setupFFGNuc', 'setupFFGLep', 'setup_micro', 'sys', 'math', 'CubicSpline', 'curve_fit', 'random', 'uncertainty_stat', 'micro_mbs', 'micro_models_mb', 'micro_models_mbs', 'micro_models', 'micro_models_old', 'micro_models_mb_matter', 'micro_models_mb_SM', 'micro_models_mb_NM', 'APRfit_compute', 'func_GCR_e2a', 'func_GCR_pre', 'func_GCR_cs2', 'func_e2a_NLEFT2024', 'func_pre_NLEFT2024', 'func_dpredn_NLEFT2024', 'setupMicro', 'setup_micro_gap', 'micro_gap_models', 'setupMicroGap', 'setup_micro_band', 'gauss', 'setupMicroBand', 'setup_micro_esym', 'micro_esym_mbs', 'micro_esym_models_mb', 'micro_esym_models_mbs', 'micro_esym_models', 'micro_esym_models_old', 'setupMicroEsym', 'setup_micro_lp', 'micro_LP_models', 'setupMicroLP', 'setup_pheno', 'pheno_models', 'pheno_params', 'setupPheno', 'checkPheno', 'setup_pheno_esym', 'pheno_esym_models', 'pheno_esym_params', 'setupPhenoEsym', 'setup_hic', 'hic_constraints', 'setupHIC', 'setup_nep', 'nep_models', 'nep_params', 'setupNEP', 'setup_nep_dist', 'setupNEPDist', 'setup_nep_model_dist', 'setupNEPModelDist', 'eos', 'setup_am', 'fsolve', 'setupAM', 'setup_am_Leq', 'func_am', 'setupAMLeq', 'setup_am_Beq', 'func_betaeq', 'setupAMBeq', 'corr', 'setup_KsatQsat', 'KsatQsat_constraints', 'flinear', 'setupKsatQsat', 'setup_EsymLsym', 'EsymLsym_constraints', 'HIC_Esym', 'HIC_Lsym', 'HIC_xgi', 'HIC_Lsym_bound', 'setupEsymLsym', 'setup_Esym', 'setupEsym', 'nuc', 'setup_be_exp', 'CST_AtmMass', 'CST_mnc2', 'CST_dmnc2', 'CST_mHc2', 'CST_dmHc2', 'yearMin', 'ns', 'minutes', 'hours', 'days', 'months', 'years', 'ILt', 'ISt', 'HTvsl', 'HTsl', 'stable_fit', 'be_exp_tables', 'be_exp_versions', 'plot_shells', 'setupBEExp', 'setup_be_theo', 'be_theo_tables', 'conversionMBE', 'setupBETheo', 'setup_isgmr_exp', 'isgmr_exp_tables', 'setupISGMRExp', 'setup_nskin_exp', 'nskin_exp', 'nskin_exp_source', 'SetupNeutronSkinExp', 'setupNeutronSkinAverage', 'setup_nskin_theo', 'nskin_theo_models', 'nskin_theo_params', 'SetupNeutronSkinTheo', 'setup_rch_exp', 'rch_exp_tables', 'setupRchExp', 'setup_rch_theo', 'rch_theo_tables', 'setupRchTheo', 'crust', 'setup_crust', 'crust_models', 'setupCrust', 'astro', 'setup_masses', 'masses_sources', 'masses_obss', 'setupMasses', 'setupMassesAverage', 'setup_mup', 'mup_sources', 'mup_hyps', 'setupMup', 'setupMupAverage', 'setup_mtov', 'special', 'compute_proba_do', 'compute_proba_up', 'setupMtov', 'setup_mr', 'mr_sources', 'mr_obss', 'setupMR', 'setupMRAverage', 'setup_gw', 'gw_sources', 'gw_hyps', 'setupGW', 'setupGWAverage', 'hnuc', 'setup_be1L_exp', 're1L_exp_tables', 'setupRE1LExp', 'setup_be2L_exp', 're2L_exp_tables', 'setupRE2LExp', 'setup_be1Xi_exp', 're1Xi_exp_tables', 'setupRE1XiExp', 'plot', 'matter_setupFFGNuc_fig', 'plt', 'matter_setupFFGNuc_EP_fig', 'matter_setupFFGNuc_EOS_fig', 'matter_setupMicro_fig', 'matter_setupMicro_E_fig', 'corr_setupKsatQsat_fig'])\n"
     ]
    }
   ],
   "source": [
    "print ( nuda.__dict__.keys() )"
   ]
  },
  {
   "cell_type": "code",
   "execution_count": null,
   "id": "e8579a15-1bb5-4092-922e-51eceea7aece",
   "metadata": {},
   "outputs": [],
   "source": []
  }
 ],
 "metadata": {
  "kernelspec": {
   "display_name": "Python 3 (ipykernel)",
   "language": "python",
   "name": "python3"
  },
  "language_info": {
   "codemirror_mode": {
    "name": "ipython",
    "version": 3
   },
   "file_extension": ".py",
   "mimetype": "text/x-python",
   "name": "python",
   "nbconvert_exporter": "python",
   "pygments_lexer": "ipython3",
   "version": "3.12.8"
  }
 },
 "nbformat": 4,
 "nbformat_minor": 5
}

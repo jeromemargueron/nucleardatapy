{
 "cells": [
  {
   "cell_type": "markdown",
   "id": "18e40e53-31b6-4813-a749-da54dda57b0c",
   "metadata": {},
   "source": [
    "# Experimental hyper-nuclei with 1 Xi"
   ]
  },
  {
   "cell_type": "markdown",
   "id": "ab04ae12-cfbe-4f2a-9cc6-e1a88c1836a2",
   "metadata": {},
   "source": [
    "In this tutorial, you will learn how to get experimental data associated to hyper-nuclei."
   ]
  },
  {
   "cell_type": "markdown",
   "id": "ce721b96-1758-42ff-8f43-86737b8c2b33",
   "metadata": {},
   "source": [
    "---"
   ]
  },
  {
   "cell_type": "markdown",
   "id": "bce20006-6025-483e-8bdc-a27c741613ef",
   "metadata": {},
   "source": [
    "Import the libraries that will be employed in this tutorial."
   ]
  },
  {
   "cell_type": "code",
   "execution_count": null,
   "id": "e56eeb64-a615-4128-aa86-e3761498d955",
   "metadata": {},
   "outputs": [],
   "source": [
    "# Import numpy\n",
    "import numpy as np\n",
    "# Import matplotlib\n",
    "import matplotlib.pyplot as plt\n",
    "# Import nucleardatapy package\n",
    "import nucleardatapy as nuda"
   ]
  },
  {
   "cell_type": "markdown",
   "id": "9ad45ea3-da4d-44f2-809a-9933241cb125",
   "metadata": {},
   "source": [
    "You can simply print out the properties of the nuda's function that we will use:"
   ]
  },
  {
   "cell_type": "code",
   "execution_count": 2,
   "id": "962f5076-a792-4fd3-be8a-a3d4dbcaa608",
   "metadata": {},
   "outputs": [
    {
     "name": "stdout",
     "output_type": "stream",
     "text": [
      "['__class__', '__delattr__', '__dict__', '__dir__', '__doc__', '__eq__', '__format__', '__ge__', '__getattribute__', '__getstate__', '__gt__', '__hash__', '__init__', '__init_subclass__', '__le__', '__lt__', '__module__', '__ne__', '__new__', '__reduce__', '__reduce_ex__', '__repr__', '__setattr__', '__sizeof__', '__str__', '__subclasshook__', '__weakref__', 'print_latex', 'print_outputs']\n"
     ]
    }
   ],
   "source": [
    "# Explore the nucleardatapy module to find the correct attribute\n",
    "print(dir(nuda.hnuc.setupRE1XiExp))"
   ]
  },
  {
   "cell_type": "markdown",
   "id": "c7cadb7b-ca65-434f-984d-9d4a79ba11b3",
   "metadata": {},
   "source": [
    "---"
   ]
  },
  {
   "cell_type": "markdown",
   "id": "b4ae8990-3dca-4666-bf7c-c46df2439179",
   "metadata": {},
   "source": [
    "Set the experimental tables for 1-Lambda hyper-nuclei:"
   ]
  },
  {
   "cell_type": "code",
   "execution_count": 3,
   "id": "034514b2-3090-4a66-8a0e-c1e735970c8c",
   "metadata": {},
   "outputs": [
    {
     "name": "stdout",
     "output_type": "stream",
     "text": [
      "tables: ['2015-1Xi-Nakazawa']\n"
     ]
    }
   ],
   "source": [
    "tables, tables_lower = nuda.hnuc.re1Xi_exp_tables()\n",
    "print('tables:',tables)"
   ]
  },
  {
   "cell_type": "markdown",
   "id": "03f99603-21dc-4b14-8e4e-e4b9726c0a87",
   "metadata": {},
   "source": [
    "Select a table:"
   ]
  },
  {
   "cell_type": "code",
   "execution_count": 4,
   "id": "fbddf089-b7ab-4a6c-b758-90cd16709518",
   "metadata": {},
   "outputs": [],
   "source": [
    "table1Xi = '2015-1Xi-Nakazawa'"
   ]
  },
  {
   "cell_type": "markdown",
   "id": "c5c39f43-9466-417a-a8e2-081066f178fe",
   "metadata": {},
   "source": [
    "Instantiate `hnuc`:"
   ]
  },
  {
   "cell_type": "code",
   "execution_count": 5,
   "id": "6bf87129-58d2-42ba-9642-6d910a47d350",
   "metadata": {},
   "outputs": [
    {
     "name": "stdout",
     "output_type": "stream",
     "text": [
      "\n",
      "- Print output:\n",
      "   table: 2015-1Xi-Nakazawa\n",
      "   ref: K.Y. Nakazawa, S. Endo, K. Fukunaga, S.H. Hoshino et al., PTEP 033D02 (2015).\n",
      "   key: KNakazawa:2015\n",
      "   label: []\n",
      "   note: write here notes about this table.\n",
      "   A: [15]\n",
      "   Z: [7]\n",
      "   N: [7]\n",
      "   S: [-2]\n",
      "  ch: [6]\n",
      " symb: ['N']\n",
      " xibe: [4.378]\n",
      " xibe_err: [0.25]\n"
     ]
    }
   ],
   "source": [
    "hnuc = nuda.hnuc.setupRE1XiExp( table = table1Xi )\n",
    "hnuc.print_outputs()"
   ]
  }
 ],
 "metadata": {
  "kernelspec": {
   "display_name": "Python 3 (ipykernel)",
   "language": "python",
   "name": "python3"
  },
  "language_info": {
   "codemirror_mode": {
    "name": "ipython",
    "version": 3
   },
   "file_extension": ".py",
   "mimetype": "text/x-python",
   "name": "python",
   "nbconvert_exporter": "python",
   "pygments_lexer": "ipython3",
   "version": "3.12.8"
  }
 },
 "nbformat": 4,
 "nbformat_minor": 5
}

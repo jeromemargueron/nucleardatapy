
Chapter 2 tutorial 30: Select models from reference band predictions

In this tutorial, you will learn how to employ nucleardatapy to select models from a reference band prediction.

Import the libraries that will be employed in this tutorial.

# Import numpy
import numpy as np
# Import nucleardatapy package
import nucleardatapy as nuda

You can simply print out the properties of the nuda's function that we will use:

plot energy per particle in NM:


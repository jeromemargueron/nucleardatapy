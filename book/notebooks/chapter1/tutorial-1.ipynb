{
 "cells": [
  {
   "cell_type": "markdown",
   "id": "56c22301-7699-4d59-b41c-4fee8565fc4a",
   "metadata": {},
   "source": [
    "# Tutorial 1:"
   ]
  },
  {
   "cell_type": "markdown",
   "id": "848dddf1-ce94-417c-9fe7-f53cf93dab8a",
   "metadata": {},
   "source": [
    "In this tutorial, you will learn how to represent microscopic predictions for the energy per particle as function of the density."
   ]
  },
  {
   "cell_type": "code",
   "execution_count": null,
   "id": "6c56e803-81c6-4b2b-8464-e8b0f27dd901",
   "metadata": {},
   "outputs": [
    {
     "name": "stdout",
     "output_type": "stream",
     "text": [
      "None\n"
     ]
    },
    {
     "ename": "TypeError",
     "evalue": "expected str, bytes or os.PathLike object, not NoneType",
     "output_type": "error",
     "traceback": [
      "\u001b[0;31m---------------------------------------------------------------------------\u001b[0m",
      "\u001b[0;31mTypeError\u001b[0m                                 Traceback (most recent call last)",
      "Cell \u001b[0;32mIn[3], line 5\u001b[0m\n\u001b[1;32m      2\u001b[0m \u001b[38;5;28;01mimport\u001b[39;00m\u001b[38;5;250m \u001b[39m\u001b[38;5;21;01mos\u001b[39;00m\n\u001b[1;32m      3\u001b[0m \u001b[38;5;66;03m# os.getenv('NUCLEAR_DATA_PATH')\u001b[39;00m\n\u001b[1;32m      4\u001b[0m \u001b[38;5;66;03m# Import the nucleardatapy package\u001b[39;00m\n\u001b[0;32m----> 5\u001b[0m \u001b[38;5;28;01mimport\u001b[39;00m\u001b[38;5;250m \u001b[39m\u001b[38;5;21;01mnucleardatapy\u001b[39;00m\u001b[38;5;250m \u001b[39m\u001b[38;5;28;01mas\u001b[39;00m\u001b[38;5;250m \u001b[39m\u001b[38;5;21;01mnuda\u001b[39;00m\n",
      "File \u001b[0;32m~/Documents/Research/Jerome/nucleardatapy/version1.0/nucleardatapy/__init__.py:11\u001b[0m\n\u001b[1;32m      9\u001b[0m \u001b[38;5;28;01mfrom\u001b[39;00m\u001b[38;5;250m \u001b[39m\u001b[38;5;21;01mnucleardatapy\u001b[39;00m\u001b[38;5;21;01m.\u001b[39;00m\u001b[38;5;21;01mcst\u001b[39;00m\u001b[38;5;250m \u001b[39m\u001b[38;5;28;01mimport\u001b[39;00m \u001b[38;5;241m*\u001b[39m\n\u001b[1;32m     10\u001b[0m \u001b[38;5;28;01mfrom\u001b[39;00m\u001b[38;5;250m \u001b[39m\u001b[38;5;21;01mnucleardatapy\u001b[39;00m\u001b[38;5;21;01m.\u001b[39;00m\u001b[38;5;21;01menv\u001b[39;00m\u001b[38;5;250m \u001b[39m\u001b[38;5;28;01mimport\u001b[39;00m \u001b[38;5;241m*\u001b[39m\n\u001b[0;32m---> 11\u001b[0m \u001b[38;5;28;01mfrom\u001b[39;00m\u001b[38;5;250m \u001b[39m\u001b[38;5;21;01mnucleardatapy\u001b[39;00m\u001b[38;5;21;01m.\u001b[39;00m\u001b[38;5;21;01mparam\u001b[39;00m\u001b[38;5;250m \u001b[39m\u001b[38;5;28;01mimport\u001b[39;00m \u001b[38;5;241m*\u001b[39m\n\u001b[1;32m     13\u001b[0m \u001b[38;5;66;03m#\u001b[39;00m\n\u001b[1;32m     14\u001b[0m \u001b[38;5;28;01mfrom\u001b[39;00m\u001b[38;5;250m \u001b[39m\u001b[38;5;21;01mnucleardatapy\u001b[39;00m\u001b[38;5;21;01m.\u001b[39;00m\u001b[38;5;21;01mmatter\u001b[39;00m\u001b[38;5;250m \u001b[39m\u001b[38;5;28;01mimport\u001b[39;00m \u001b[38;5;241m*\u001b[39m\n",
      "File \u001b[0;32m~/Documents/Research/Jerome/nucleardatapy/version1.0/nucleardatapy/param.py:10\u001b[0m\n\u001b[1;32m      5\u001b[0m nucleardatapy_tk \u001b[38;5;241m=\u001b[39m os\u001b[38;5;241m.\u001b[39mgetenv(\u001b[38;5;124m\"\u001b[39m\u001b[38;5;124mNUCLEARDATAPY_TK\u001b[39m\u001b[38;5;124m\"\u001b[39m)\n\u001b[1;32m      6\u001b[0m \u001b[38;5;66;03m# print('nseospy_path:',nseospy_path)\u001b[39;00m\n\u001b[1;32m      7\u001b[0m \u001b[38;5;66;03m#\u001b[39;00m\n\u001b[1;32m      8\u001b[0m \u001b[38;5;66;03m# where data/ are stored\u001b[39;00m\n\u001b[1;32m      9\u001b[0m \u001b[38;5;66;03m#\u001b[39;00m\n\u001b[0;32m---> 10\u001b[0m path_data \u001b[38;5;241m=\u001b[39m \u001b[43mos\u001b[49m\u001b[38;5;241;43m.\u001b[39;49m\u001b[43mpath\u001b[49m\u001b[38;5;241;43m.\u001b[39;49m\u001b[43mjoin\u001b[49m\u001b[43m(\u001b[49m\u001b[43mnucleardatapy_tk\u001b[49m\u001b[43m,\u001b[49m\u001b[43m \u001b[49m\u001b[38;5;124;43m\"\u001b[39;49m\u001b[38;5;124;43mdata/\u001b[39;49m\u001b[38;5;124;43m\"\u001b[39;49m\u001b[43m)\u001b[49m\n\u001b[1;32m     11\u001b[0m \u001b[38;5;66;03m#\u001b[39;00m\n\u001b[1;32m     12\u001b[0m \u001b[38;5;66;03m# where AME/ is stored\u001b[39;00m\n\u001b[1;32m     13\u001b[0m \u001b[38;5;66;03m#\u001b[39;00m\n\u001b[1;32m     14\u001b[0m path_ame \u001b[38;5;241m=\u001b[39m os\u001b[38;5;241m.\u001b[39mpath\u001b[38;5;241m.\u001b[39mjoin(path_data, \u001b[38;5;124m\"\u001b[39m\u001b[38;5;124mAME/\u001b[39m\u001b[38;5;124m\"\u001b[39m)\n",
      "File \u001b[0;32m<frozen posixpath>:76\u001b[0m, in \u001b[0;36mjoin\u001b[0;34m(a, *p)\u001b[0m\n",
      "\u001b[0;31mTypeError\u001b[0m: expected str, bytes or os.PathLike object, not NoneType"
     ]
    }
   ],
   "source": [
    "import numpy as np\n",
    "import os\n",
    "os.getenv('NUCLEAR_DATA_PATH')\n",
    "\n",
    "# Import the nucleardatapy package\n",
    "import nucleardatapy as nuda\n"
   ]
  },
  {
   "cell_type": "markdown",
   "id": "eb786297-0f01-4d72-9df9-eb9b603241c2",
   "metadata": {},
   "source": [
    "First, you can simply print out the models existing in the toolkit:"
   ]
  },
  {
   "cell_type": "code",
   "execution_count": 4,
   "id": "8f0159c3-d5b1-47c9-833a-2f7fca450620",
   "metadata": {},
   "outputs": [
    {
     "ename": "NameError",
     "evalue": "name 'nuda' is not defined",
     "output_type": "error",
     "traceback": [
      "\u001b[0;31m---------------------------------------------------------------------------\u001b[0m",
      "\u001b[0;31mNameError\u001b[0m                                 Traceback (most recent call last)",
      "Cell \u001b[0;32mIn[4], line 2\u001b[0m\n\u001b[1;32m      1\u001b[0m \u001b[38;5;66;03m# Explore the nucleardatapy module to find the correct attribute\u001b[39;00m\n\u001b[0;32m----> 2\u001b[0m \u001b[38;5;28mprint\u001b[39m(\u001b[38;5;28mdir\u001b[39m(\u001b[43mnuda\u001b[49m))\n\u001b[1;32m      4\u001b[0m \u001b[38;5;66;03m# Assuming the correct attribute is 'matter', if not, replace 'matter' with the correct one\u001b[39;00m\n\u001b[1;32m      5\u001b[0m models, models_lower \u001b[38;5;241m=\u001b[39m nuda\u001b[38;5;241m.\u001b[39mmicro_models()\n",
      "\u001b[0;31mNameError\u001b[0m: name 'nuda' is not defined"
     ]
    }
   ],
   "source": [
    "# Explore the nucleardatapy module to find the correct attribute\n",
    "print(dir(nuda))\n",
    "\n",
    "# Assuming the correct attribute is 'matter', if not, replace 'matter' with the correct one\n",
    "models, models_lower = nuda.micro_models()\n",
    "print(\"models:\", models)"
   ]
  },
  {
   "cell_type": "markdown",
   "id": "269cd4f1-0ed9-4e0b-acf7-99a1ccd82254",
   "metadata": {},
   "source": [
    "and then loop over these models:"
   ]
  },
  {
   "cell_type": "code",
   "execution_count": null,
   "id": "d3f4e1ab-703b-40cd-821a-6df18900f9d5",
   "metadata": {},
   "outputs": [],
   "source": [
    "for model in models:\n",
    "    mic = nuda.matter.setupMicro( model = model )\n",
    "    mic.print_outputs( )"
   ]
  },
  {
   "cell_type": "markdown",
   "id": "d7103f7c-ed05-4905-b312-3c3af8f74f56",
   "metadata": {},
   "source": [
    "Alternatively, you can select a few of these models:"
   ]
  },
  {
   "cell_type": "code",
   "execution_count": null,
   "id": "8c76bfc5-13f7-4443-8c96-fcd4c352e82f",
   "metadata": {},
   "outputs": [],
   "source": [
    "models = [ '1981-VAR-AM-FP', '1998-VAR-AM-APR' ]\n",
    "for model in models:\n",
    "    mic = nuda.matter.setupMicro( model = model )\n",
    "    mic.print_outputs( )"
   ]
  },
  {
   "cell_type": "markdown",
   "id": "959eba8f-59b3-4905-81d7-f6161c878d5f",
   "metadata": {},
   "source": [
    "Now, we will see how to perform a figure representing these models:"
   ]
  },
  {
   "cell_type": "code",
   "execution_count": null,
   "id": "147fbaab-48c9-4661-a3df-7c4d68da07fc",
   "metadata": {},
   "outputs": [],
   "source": [
    "import matplotlib.pyplot as plt\n",
    "#\n",
    "# plot the results\n",
    "#\n",
    "plt.xlabel(r'n (fm$^{-3}$)')\n",
    "plt.ylabel(r'$E_{NM}/A$ (MeV)')\n",
    "models, models_lower = nuda.matter.micro_models()\n",
    "print(\"models:\",models)\n",
    "for model in models:\n",
    "    mic = nuda.matter.setupMicro( model = model, var2=1.0 )\n",
    "    print('model:',model)\n",
    "    if mic.nm_e2a is not None and 'FIT' not in model:\n",
    "        plt.errorbar( mic.nm_den, mic.nm_e2a, yerr=mic.nm_e2a_err, marker=mic.marker, markevery=mic.every, linestyle='None', label=mic.label, errorevery=mic.every )\n",
    "plt.legend(loc='upper left',fontsize='6', ncol=3)\n"
   ]
  },
  {
   "cell_type": "code",
   "execution_count": null,
   "id": "5f1ed4da-6209-4b95-a9fe-ee5e64da3cb6",
   "metadata": {},
   "outputs": [],
   "source": [
    "import matplotlib.pyplot as plt\n",
    "#\n",
    "# fix the uncertainty band in NM\n",
    "#\n",
    "bmodels = [ '2016-MBPT-AM', '2016-QMC-NM', '2020-MBPT-AM' ]\n",
    "band = nuda.matter.setupMicroBand( bmodels )\n",
    "#\n",
    "# plot the results\n",
    "#\n",
    "groups = [ 'VAR', 'AFDMC', 'BHF', 'QMC', 'MBPT', 'NLEFT' ]\n",
    "#\n",
    "plt.xlabel(r'n (fm$^{-3}$)')\n",
    "plt.ylabel(r'$E_{NM}/A$ (MeV)')\n",
    "for group in enumerate(groups):\n",
    "    models, models_lower = nuda.matter.micro_models_group_NM( group )\n",
    "    print(\"models:\",models)\n",
    "    for model in models:\n",
    "        mic = nuda.matter.setupMicro( model = model, var2=1.0 )\n",
    "        print('model:',model)\n",
    "        if mic.nm_e2a is not None and 'FIT' not in model:\n",
    "            plt.errorbar( mic.nm_den, mic.nm_e2a, yerr=mic.nm_e2a_err, marker=mic.marker, markevery=mic.every, linestyle='None', label=mic.label, errorevery=mic.every )\n",
    "    #fill_between( band.den, y1=(band.e2a-band.e2a_std), y2=(band.e2a+band.e2a_std), color=band.color, alpha=band.alpha, visible=True )"
   ]
  }
 ],
 "metadata": {
  "kernelspec": {
   "display_name": "nucastro",
   "language": "python",
   "name": "python3"
  },
  "language_info": {
   "codemirror_mode": {
    "name": "ipython",
    "version": 3
   },
   "file_extension": ".py",
   "mimetype": "text/x-python",
   "name": "python",
   "nbconvert_exporter": "python",
   "pygments_lexer": "ipython3",
   "version": "3.12.5"
  }
 },
 "nbformat": 4,
 "nbformat_minor": 5
}

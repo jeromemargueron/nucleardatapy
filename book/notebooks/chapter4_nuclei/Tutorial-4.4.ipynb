{
 "cells": [
  {
   "cell_type": "markdown",
   "id": "18e40e53-31b6-4813-a749-da54dda57b0c",
   "metadata": {},
   "source": [
    "# Chapter 4 Tutorial 4: experimental charge radii"
   ]
  },
  {
   "cell_type": "markdown",
   "id": "ab04ae12-cfbe-4f2a-9cc6-e1a88c1836a2",
   "metadata": {},
   "source": [
    "In this tutorial, you will learn how to extract the experimental charge radii from the toolkit."
   ]
  },
  {
   "cell_type": "markdown",
   "id": "b7917015-dd9a-4c94-8c97-6b01794602e3",
   "metadata": {},
   "source": [
    "---"
   ]
  },
  {
   "cell_type": "markdown",
   "id": "bce20006-6025-483e-8bdc-a27c741613ef",
   "metadata": {},
   "source": [
    "Import the libraries that will be employed in this tutorial."
   ]
  },
  {
   "cell_type": "code",
   "execution_count": 1,
   "id": "e56eeb64-a615-4128-aa86-e3761498d955",
   "metadata": {},
   "outputs": [],
   "source": [
    "# Import numpy\n",
    "import numpy as np\n",
    "# Import nucleardatapy package\n",
    "import nucleardatapy as nuda"
   ]
  },
  {
   "cell_type": "markdown",
   "id": "9ad45ea3-da4d-44f2-809a-9933241cb125",
   "metadata": {},
   "source": [
    "You can simply print out the properties of the nuda's function that we will use:"
   ]
  },
  {
   "cell_type": "code",
   "execution_count": 2,
   "id": "962f5076-a792-4fd3-be8a-a3d4dbcaa608",
   "metadata": {},
   "outputs": [
    {
     "name": "stdout",
     "output_type": "stream",
     "text": [
      "['__class__', '__delattr__', '__dict__', '__dir__', '__doc__', '__eq__', '__format__', '__ge__', '__getattribute__', '__getstate__', '__gt__', '__hash__', '__init__', '__init_subclass__', '__le__', '__lt__', '__module__', '__ne__', '__new__', '__reduce__', '__reduce_ex__', '__repr__', '__setattr__', '__sizeof__', '__str__', '__subclasshook__', '__weakref__', 'isotopes', 'print_outputs']\n"
     ]
    }
   ],
   "source": [
    "# Explore the nucleardatapy module to find the correct attribute\n",
    "print(dir(nuda.nuc.setupRchExp))"
   ]
  },
  {
   "cell_type": "markdown",
   "id": "c7cadb7b-ca65-434f-984d-9d4a79ba11b3",
   "metadata": {},
   "source": [
    "---"
   ]
  },
  {
   "cell_type": "markdown",
   "id": "b4ae8990-3dca-4666-bf7c-c46df2439179",
   "metadata": {},
   "source": [
    "Get the full list of tables:"
   ]
  },
  {
   "cell_type": "code",
   "execution_count": 4,
   "id": "034514b2-3090-4a66-8a0e-c1e735970c8c",
   "metadata": {},
   "outputs": [
    {
     "name": "stdout",
     "output_type": "stream",
     "text": [
      "tables available in the toolkit: ['2013-Angeli']\n",
      "tables available in the toolkit: ['2013-angeli']\n",
      "tables: ['2013-Angeli']\n"
     ]
    }
   ],
   "source": [
    "tables, tables_lower = nuda.nuc.rch_exp_tables()\n",
    "print('tables:',tables)"
   ]
  },
  {
   "cell_type": "markdown",
   "id": "844229e1-7dee-40ea-8151-00685dc1abe2",
   "metadata": {},
   "source": [
    "Fix a table"
   ]
  },
  {
   "cell_type": "code",
   "execution_count": 5,
   "id": "9cfe97b8-9bd9-4ac4-899b-6772911a5c46",
   "metadata": {},
   "outputs": [],
   "source": [
    "table = '2013-Angeli'"
   ]
  },
  {
   "cell_type": "markdown",
   "id": "890f6ae1-a27b-4696-8c28-b650a31b1755",
   "metadata": {},
   "source": [
    "Load the experimental radii for the table:"
   ]
  },
  {
   "cell_type": "code",
   "execution_count": 6,
   "id": "77b7d638-5d29-48de-a76e-bd755cfeb558",
   "metadata": {},
   "outputs": [
    {
     "name": "stdout",
     "output_type": "stream",
     "text": [
      "tables available in the toolkit: ['2013-Angeli']\n",
      "tables available in the toolkit: ['2013-angeli']\n"
     ]
    }
   ],
   "source": [
    "rch = nuda.nuc.setupRchExp( table = table )"
   ]
  },
  {
   "cell_type": "markdown",
   "id": "fef155a9-cef1-4ead-971e-1adbe2381116",
   "metadata": {},
   "source": [
    "Extract the radii for an isotopic chain"
   ]
  },
  {
   "cell_type": "code",
   "execution_count": 7,
   "id": "4cec95c7-4744-436d-bc54-9b69cac7f56a",
   "metadata": {},
   "outputs": [],
   "source": [
    "Zref = 50\n",
    "rchIsot = nuda.nuc.setupRchExpIsotopes( rch, Zref = Zref )"
   ]
  },
  {
   "cell_type": "markdown",
   "id": "c8593bd9-0c3b-4cf2-8c85-6a74393754a1",
   "metadata": {},
   "source": [
    "print outputs:"
   ]
  },
  {
   "cell_type": "code",
   "execution_count": 9,
   "id": "d4c170c4-4101-43e8-a076-6e2daf811af8",
   "metadata": {},
   "outputs": [
    {
     "name": "stdout",
     "output_type": "stream",
     "text": [
      "For isotopes: Zref= 50\n",
      "N: [58 59 60 61 62 63 64 65 66 67 68 69 70 71 72 73 74 75 76 77 78 79 80 81\n",
      " 82]\n",
      "A: [108 109 110 111 112 113 114 115 116 117 118 119 120 121 122 123 124 125\n",
      " 126 127 128 129 130 131 132]\n",
      "Rch: [4.5605 4.5679 4.5785 4.5836 4.5948 4.6015 4.6099 4.6148 4.625  4.6302\n",
      " 4.6393 4.6438 4.6519 4.6566 4.6634 4.6665 4.6735 4.6765 4.6833 4.6867\n",
      " 4.6921 4.6934 4.7019 4.7078 4.7093]\n",
      "Rch_err: [0.0029 0.0027 0.0025 0.0024 0.0022 0.0021 0.002  0.0019 0.0019 0.0019\n",
      " 0.0019 0.002  0.0021 0.0021 0.0022 0.0023 0.0023 0.0026 0.0043 0.0048\n",
      " 0.0054 0.0058 0.0066 0.0073 0.0076]\n"
     ]
    }
   ],
   "source": [
    "print('For isotopes: Zref=',Zref)\n",
    "print('N:',rchIsot.N)\n",
    "print('A:',rchIsot.A)\n",
    "print('Rch:',rchIsot.Rch)\n",
    "print('Rch_err:',rchIsot.Rch_err)"
   ]
  },
  {
   "cell_type": "markdown",
   "id": "939b2648-bb02-4365-b01c-284802ef3e15",
   "metadata": {},
   "source": [
    "plot:"
   ]
  },
  {
   "cell_type": "code",
   "execution_count": 10,
   "id": "56dcfd61-c46c-4649-8a21-1c7acdf92a05",
   "metadata": {},
   "outputs": [
    {
     "name": "stdout",
     "output_type": "stream",
     "text": [
      "Plot name: None\n",
      "tables available in the toolkit: ['2013-Angeli']\n",
      "tables available in the toolkit: ['2013-angeli']\n",
      "For Zref: 20\n",
      "For Zref: 28\n",
      "For Zref: 40\n",
      "For Zref: 50\n",
      "For Zref: 60\n",
      "For Zref: 70\n",
      "For Zref: 82\n"
     ]
    },
    {
     "data": {
      "image/png": "[encoded data removed]",
      "text/plain": [
       "<Figure size 640x480 with 1 Axes>"
      ]
     },
     "metadata": {},
     "output_type": "display_data"
    }
   ],
   "source": [
    "nuda.fig.nuc_setupRchExp_fig( None, tables )"
   ]
  }
 ],
 "metadata": {
  "kernelspec": {
   "display_name": "Python 3 (ipykernel)",
   "language": "python",
   "name": "python3"
  },
  "language_info": {
   "codemirror_mode": {
    "name": "ipython",
    "version": 3
   },
   "file_extension": ".py",
   "mimetype": "text/x-python",
   "name": "python",
   "nbconvert_exporter": "python",
   "pygments_lexer": "ipython3",
   "version": "3.12.8"
  }
 },
 "nbformat": 4,
 "nbformat_minor": 5
}

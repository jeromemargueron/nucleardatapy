{
 "cells": [
  {
   "cell_type": "markdown",
   "id": "18e40e53-31b6-4813-a749-da54dda57b0c",
   "metadata": {},
   "source": [
    "# Experimental hyper-nuclei with 1 Lambda"
   ]
  },
  {
   "cell_type": "markdown",
   "id": "ab04ae12-cfbe-4f2a-9cc6-e1a88c1836a2",
   "metadata": {},
   "source": [
    "In this tutorial, you will learn how to get experimental data associated to hyper-nuclei."
   ]
  },
  {
   "cell_type": "markdown",
   "id": "ce721b96-1758-42ff-8f43-86737b8c2b33",
   "metadata": {},
   "source": [
    "---"
   ]
  },
  {
   "cell_type": "markdown",
   "id": "bce20006-6025-483e-8bdc-a27c741613ef",
   "metadata": {},
   "source": [
    "Import the libraries that will be employed in this tutorial."
   ]
  },
  {
   "cell_type": "code",
   "execution_count": 1,
   "id": "e56eeb64-a615-4128-aa86-e3761498d955",
   "metadata": {},
   "outputs": [],
   "source": [
    "# Import numpy\n",
    "import numpy as np\n",
    "# Import nucleardatapy package\n",
    "import nucleardatapy as nuda"
   ]
  },
  {
   "cell_type": "markdown",
   "id": "9ad45ea3-da4d-44f2-809a-9933241cb125",
   "metadata": {},
   "source": [
    "You can simply print out the properties of the nuda's function that we will use:"
   ]
  },
  {
   "cell_type": "code",
   "execution_count": 2,
   "id": "962f5076-a792-4fd3-be8a-a3d4dbcaa608",
   "metadata": {},
   "outputs": [
    {
     "name": "stdout",
     "output_type": "stream",
     "text": [
      "['__class__', '__delattr__', '__dict__', '__dir__', '__doc__', '__eq__', '__format__', '__ge__', '__getattribute__', '__getstate__', '__gt__', '__hash__', '__init__', '__init_subclass__', '__le__', '__lt__', '__module__', '__ne__', '__new__', '__reduce__', '__reduce_ex__', '__repr__', '__setattr__', '__sizeof__', '__str__', '__subclasshook__', '__weakref__', 'print_latex', 'print_outputs']\n"
     ]
    }
   ],
   "source": [
    "# Explore the nucleardatapy module to find the correct attribute\n",
    "print(dir(nuda.hnuc.setupRE1LExp))"
   ]
  },
  {
   "cell_type": "markdown",
   "id": "c7cadb7b-ca65-434f-984d-9d4a79ba11b3",
   "metadata": {},
   "source": [
    "---"
   ]
  },
  {
   "cell_type": "markdown",
   "id": "b4ae8990-3dca-4666-bf7c-c46df2439179",
   "metadata": {},
   "source": [
    "Set the experimental tables for 1-Lambda hyper-nuclei:"
   ]
  },
  {
   "cell_type": "code",
   "execution_count": 3,
   "id": "034514b2-3090-4a66-8a0e-c1e735970c8c",
   "metadata": {},
   "outputs": [
    {
     "name": "stdout",
     "output_type": "stream",
     "text": [
      "tables: ['2016-1L-GHM']\n"
     ]
    }
   ],
   "source": [
    "tables, tables_lower = nuda.hnuc.re1L_exp_tables()\n",
    "print('tables:',tables)"
   ]
  },
  {
   "cell_type": "markdown",
   "id": "03f99603-21dc-4b14-8e4e-e4b9726c0a87",
   "metadata": {},
   "source": [
    "Select a table:"
   ]
  },
  {
   "cell_type": "code",
   "execution_count": 4,
   "id": "fbddf089-b7ab-4a6c-b758-90cd16709518",
   "metadata": {},
   "outputs": [],
   "source": [
    "table1L = '2016-1L-GHM'"
   ]
  },
  {
   "cell_type": "markdown",
   "id": "c5c39f43-9466-417a-a8e2-081066f178fe",
   "metadata": {},
   "source": [
    "Instantiate `hnuc`:"
   ]
  },
  {
   "cell_type": "code",
   "execution_count": 6,
   "id": "6bf87129-58d2-42ba-9642-6d910a47d350",
   "metadata": {},
   "outputs": [
    {
     "name": "stdout",
     "output_type": "stream",
     "text": [
      "\n",
      "- Print output:\n",
      "   table: 2016-1L-GHM\n",
      "   ref: Gal, Hungerford, and Millener, Rev. Mod. Phys. 88, 1 (2016)\n",
      "   label: ['GHM-2016 Emul1', 'GHM-2016 Emul1', 'GHM-2016 Emul1', 'GHM-2016 Emul1', 'GHM-2016 Emul1', \"GHM-2016 (e,e'K)\", 'GHM-2016 Emul', 'GHM-2016 Emul1', 'GHM-2016 Emul1', 'GHM-2016 Emul1', 'GHM-2016 Emul1', 'GHM-2016 Emul1', 'GHM-2016 Emul1', \"GHM-2016 (e,e'K)\", 'GHM-2016 Emul1', 'GHM-2016 Emul1', 'GHM-2016 ($\\\\pi$,K)', 'GHM-2016 Emul1', 'GHM-2016 Emul1', 'GHM-2016 Emul1', \"GHM-2016 (e,e'K)\", \"GHM-2016 (e,e'K)\", 'GHM-2016 ($\\\\pi$,K)', 'GHM-2016 Emul1', 'GHM-2016 ($\\\\pi$,K)', 'GHM-2016 Emul', 'GHM-2016 ($\\\\pi$,K)', 'GHM-2016 Emul1', 'GHM-2016 Emul', 'GHM-2016 ($\\\\pi$,K)', 'GHM-2016 Emul', 'GHM-2016 Emul1', \"GHM-2016 (e,e'K)\", \"GHM-2016 (e,e'K)\", 'GHM-2016 ($\\\\pi$,K)', 'GHM-2016 ($\\\\pi$,K)', 'GHM-2016 ($\\\\pi$,K)', 'GHM-2016 ($\\\\pi$,K)', 'GHM-2016 ($\\\\pi$,K)', 'GHM-2016 (K,$\\\\pi$)', 'GHM-2016 (K,$\\\\pi$)', 'GHM-2016 (K,$\\\\pi$)', 'GHM-2016 (K,$\\\\pi$)', 'GHM-2016 (K,$\\\\pi$)', 'GHM-2016 ($\\\\pi$,K)', 'GHM-2016 ($\\\\pi$,K)', 'GHM-2016 ($\\\\pi$,K)', \"GHM-2016 (e,e'K)\", 'GHM-2016 ($\\\\pi$,K)', 'GHM-2016 ($\\\\pi$,K)', 'GHM-2016 ($\\\\pi$,K)', 'GHM-2016 ($\\\\pi$,K)', 'GHM-2016 ($\\\\pi$,K)', 'GHM-2016 ($\\\\pi$,K)', 'GHM-2016 ($\\\\pi$,K)', 'GHM-2016 ($\\\\pi$,K)', 'GHM-2016 ($\\\\pi$,K)', 'GHM-2016 ($\\\\pi$,K)', 'GHM-2016 ($\\\\pi$,K)', 'GHM-2016 ($\\\\pi$,K)', 'GHM-2016 ($\\\\pi$,K)', 'GHM-2016 ($\\\\pi$,K)', 'GHM-2016 ($\\\\pi$,K)']\n",
      "   note: write here notes about this table.\n",
      "   A: [  3   4   4   5   6   7   8   7   8   9   7   8   9  10  10   9  10  10\n",
      "  11  12  12  12  12  12  12  12  13  13  13  13  13  14  16  16  16  16\n",
      "  28  28  28  32  32  32  40  40  51  51  51  52  89  89  89  89  89 139\n",
      " 139 139 139 139 208 208 208 208 208]\n",
      "   Z: [ 1  1  2  2  2  2  2  3  3  3  4  4  4  4  4  5  5  5  5  5  5  5  6  6\n",
      "  6  6  6  6  6  6  6  6  7  7  8  8 14 14 14 16 16 16 20 20 23 23 23 23\n",
      " 39 39 39 39 39 57 57 57 57 57 82 82 82 82 82]\n",
      "   N: [  1   2   1   2   3   4   5   3   4   5   2   3   4   5   5   3   4   4\n",
      "   5   6   6   6   5   5   5   5   6   6   6   6   6   7   8   8   7   7\n",
      "  13  13  13  15  15  15  19  19  27  27  27  28  49  49  49  49  49  81\n",
      "  81  81  81  81 125 125 125 125 125]\n",
      "   S: [-2 -2 -2 -2 -2 -2 -2 -2 -2 -2 -2 -2 -2 -2 -2 -2 -2 -2 -2 -2 -2 -2 -2 -2\n",
      " -2 -2 -2 -2 -2 -2 -2 -2 -2 -2 -2 -2 -2 -2 -2 -2 -2 -2 -2 -2 -2 -2 -2 -2\n",
      " -2 -2 -2 -2 -2 -2 -2 -2 -2 -2 -2 -2 -2 -2 -2]\n",
      "  ch: [ 1  1  2  2  2  2  2  3  3  3  4  4  4  4  4  5  5  5  5  5  5  5  6  6\n",
      "  6  6  6  6  6  6  6  6  7  7  8  8 14 14 14 16 16 16 20 20 23 23 23 23\n",
      " 39 39 39 39 39 57 57 57 57 57 82 82 82 82 82]\n",
      " symb: ['H', 'H', 'He', 'He', 'He', 'He', 'He', 'Li', 'Li', 'Li', 'Be', 'Be', 'Be', 'Be', 'Be', 'B', 'B', 'B', 'B', 'B', 'B', 'B', 'C', 'C', 'C', 'C', 'C', 'C', 'C', 'C', 'C', 'C', 'N', 'N', 'O', 'O', 'Si', 'Si', 'Si', 'S', 'S', 'S', 'Ca', 'Ca', 'V', 'V', 'V', 'V', 'Y', 'Y', 'Y', 'Y', 'Y', 'La', 'La', 'La', 'La', 'La', 'Pb', 'Pb', 'Pb', 'Pb', 'Pb']\n",
      " ell: [0 0 0 0 0 0 0 0 0 0 0 0 0 0 0 0 0 0 0 0 0 1 0 0 1 1 0 0 0 1 1 0 0 1 0 1 0\n",
      " 1 2 0 1 2 1 2 0 1 2 0 0 1 2 3 4 0 1 2 3 4 0 1 2 3 4]\n",
      "  re: [ 0.13  2.04  2.39  3.12  4.18  5.55  7.16  5.58  6.8   8.5   5.16  6.84\n",
      "  6.71  8.55  9.11  8.29  8.7   8.89 10.24 11.37 11.52  0.54 11.36 10.8\n",
      "  0.36  0.14 12.   11.69 11.69  1.1   0.8  12.17 13.76  2.84 13.    2.5\n",
      " 17.2   7.6  -1.   17.5   8.2  -1.   11.    1.   21.5  13.4   5.1  21.8\n",
      " 23.6  17.7  10.9   3.7  -3.8  25.1  21.   14.9   8.6   2.1  26.9  22.5\n",
      " 17.4  12.3   7.2 ]\n",
      " re_err: [0.05 0.04 0.03 0.2  0.1  0.15 0.7  0.03 0.03 0.12 0.08 0.03 0.04 0.13\n",
      " 0.22 0.18 0.3  0.12 0.05 0.06 0.02 0.04 0.2  0.18 0.2  0.05 0.2  0.12\n",
      " 0.12 0.2  0.3  0.33 0.16 0.18 0.2  0.2  0.2  0.2  0.5  0.5  0.5  0.5\n",
      " 0.5  0.5  0.6  0.6  0.6  0.3  0.5  0.6  0.6  0.6  1.   1.2  0.6  0.6\n",
      " 0.6  0.6  0.8  0.6  0.7  0.6  0.6 ]\n"
     ]
    }
   ],
   "source": [
    "hnuc = nuda.hnuc.setupRE1LExp( table = table1L )\n",
    "hnuc.print_outputs()"
   ]
  },
  {
   "cell_type": "code",
   "execution_count": 7,
   "id": "7e3bbd90-7135-4d4e-b29b-5bcac2cda7ea",
   "metadata": {},
   "outputs": [
    {
     "name": "stdout",
     "output_type": "stream",
     "text": [
      "  Z: [ 1  1  2  2  2  2  2  3  3  3  4  4  4  4  4  5  5  5  5  5  5  5  6  6\n",
      "  6  6  6  6  6  6  6  6  7  7  8  8 14 14 14 16 16 16 20 20 23 23 23 23\n",
      " 39 39 39 39 39 57 57 57 57 57 82 82 82 82 82]\n",
      "  A: [  3   4   4   5   6   7   8   7   8   9   7   8   9  10  10   9  10  10\n",
      "  11  12  12  12  12  12  12  12  13  13  13  13  13  14  16  16  16  16\n",
      "  28  28  28  32  32  32  40  40  51  51  51  52  89  89  89  89  89 139\n",
      " 139 139 139 139 208 208 208 208 208]\n",
      " ch: [ 1  1  2  2  2  2  2  3  3  3  4  4  4  4  4  5  5  5  5  5  5  5  6  6\n",
      "  6  6  6  6  6  6  6  6  7  7  8  8 14 14 14 16 16 16 20 20 23 23 23 23\n",
      " 39 39 39 39 39 57 57 57 57 57 82 82 82 82 82]\n",
      "lre: [ 0.13  2.04  2.39  3.12  4.18  5.55  7.16  5.58  6.8   8.5   5.16  6.84\n",
      "  6.71  8.55  9.11  8.29  8.7   8.89 10.24 11.37 11.52  0.54 11.36 10.8\n",
      "  0.36  0.14 12.   11.69 11.69  1.1   0.8  12.17 13.76  2.84 13.    2.5\n",
      " 17.2   7.6  -1.   17.5   8.2  -1.   11.    1.   21.5  13.4   5.1  21.8\n",
      " 23.6  17.7  10.9   3.7  -3.8  25.1  21.   14.9   8.6   2.1  26.9  22.5\n",
      " 17.4  12.3   7.2 ]\n",
      "lre_err: [0.05 0.04 0.03 0.2  0.1  0.15 0.7  0.03 0.03 0.12 0.08 0.03 0.04 0.13\n",
      " 0.22 0.18 0.3  0.12 0.05 0.06 0.02 0.04 0.2  0.18 0.2  0.05 0.2  0.12\n",
      " 0.12 0.2  0.3  0.33 0.16 0.18 0.2  0.2  0.2  0.2  0.5  0.5  0.5  0.5\n",
      " 0.5  0.5  0.6  0.6  0.6  0.3  0.5  0.6  0.6  0.6  1.   1.2  0.6  0.6\n",
      " 0.6  0.6  0.8  0.6  0.7  0.6  0.6 ]\n"
     ]
    }
   ],
   "source": [
    "print('  Z:',hnuc.Z)\n",
    "print('  A:',hnuc.A)\n",
    "print(' ch:',hnuc.ch)\n",
    "print('lre:',hnuc.lre)\n",
    "print('lre_err:',hnuc.lre_err)"
   ]
  },
  {
   "cell_type": "code",
   "execution_count": null,
   "id": "ef4e8062-0369-4a9e-8546-6027a96c28f1",
   "metadata": {},
   "outputs": [],
   "source": []
  }
 ],
 "metadata": {
  "kernelspec": {
   "display_name": "Python 3 (ipykernel)",
   "language": "python",
   "name": "python3"
  },
  "language_info": {
   "codemirror_mode": {
    "name": "ipython",
    "version": 3
   },
   "file_extension": ".py",
   "mimetype": "text/x-python",
   "name": "python",
   "nbconvert_exporter": "python",
   "pygments_lexer": "ipython3",
   "version": "3.12.8"
  }
 },
 "nbformat": 4,
 "nbformat_minor": 5
}

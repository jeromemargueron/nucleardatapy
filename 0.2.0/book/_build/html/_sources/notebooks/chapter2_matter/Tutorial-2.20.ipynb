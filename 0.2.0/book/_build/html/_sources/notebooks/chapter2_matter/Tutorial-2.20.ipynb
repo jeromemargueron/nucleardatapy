{
 "cells": [
  {
   "cell_type": "markdown",
   "id": "ae8f9860-3900-498d-be1b-83161f3a8eb3",
   "metadata": {},
   "source": [
    "# Chapter 2 tutorial 20: Nuclear Empirical Parameters (NEP)"
   ]
  },
  {
   "cell_type": "markdown",
   "id": "c6480219-b6ce-4f7e-a987-2029bc90f943",
   "metadata": {},
   "source": [
    "In this tutorial, you will learn how to employ nucleardatapy to extract predictions for NEP."
   ]
  },
  {
   "cell_type": "markdown",
   "id": "78bbb9bc-546d-4468-9fe9-ff22ce52c354",
   "metadata": {},
   "source": [
    "---"
   ]
  },
  {
   "cell_type": "markdown",
   "id": "68409a9a-0af7-4ea8-94d1-d86d85403fc4",
   "metadata": {},
   "source": [
    "Import the libraries that will be employed in this tutorial."
   ]
  },
  {
   "cell_type": "code",
   "execution_count": 1,
   "id": "0a4b8548-70c3-42d2-b6d9-fdf75d368a61",
   "metadata": {},
   "outputs": [],
   "source": [
    "# Import numpy\n",
    "import numpy as np\n",
    "# Import nucleardatapy package\n",
    "import nucleardatapy as nuda"
   ]
  },
  {
   "cell_type": "markdown",
   "id": "876f78df-7595-486f-9264-39af7b9248ca",
   "metadata": {},
   "source": [
    "You can simply print out the properties of the nuda's function that we will use:"
   ]
  },
  {
   "cell_type": "code",
   "execution_count": 2,
   "id": "4453e6af-1ea4-4009-b673-09d81555420f",
   "metadata": {},
   "outputs": [
    {
     "name": "stdout",
     "output_type": "stream",
     "text": [
      "['__class__', '__delattr__', '__dict__', '__dir__', '__doc__', '__eq__', '__format__', '__ge__', '__getattribute__', '__getstate__', '__gt__', '__hash__', '__init__', '__init_subclass__', '__le__', '__lt__', '__module__', '__ne__', '__new__', '__reduce__', '__reduce_ex__', '__repr__', '__setattr__', '__sizeof__', '__str__', '__subclasshook__', '__weakref__', 'init_self', 'print_latex', 'print_outputs']\n"
     ]
    }
   ],
   "source": [
    "# Explore the nucleardatapy module to find the correct attribute\n",
    "print(dir(nuda.matter.setupNEPModelDist))"
   ]
  },
  {
   "cell_type": "markdown",
   "id": "19f89dd0-2cb3-4857-9d25-3ebc6034b3ca",
   "metadata": {},
   "source": [
    "---"
   ]
  },
  {
   "cell_type": "markdown",
   "id": "b61ef2f0-88ae-4d10-9521-c75d56961fd1",
   "metadata": {},
   "source": [
    "Get the full list of models:"
   ]
  },
  {
   "cell_type": "code",
   "execution_count": 3,
   "id": "73d4247d-b988-4159-9e6d-df961be4fd42",
   "metadata": {},
   "outputs": [
    {
     "name": "stdout",
     "output_type": "stream",
     "text": [
      "models: ['Skyrme', 'Skyrme2', 'ESkyrme', 'Gogny', 'Fayans', 'NLRH', 'DDRH', 'DDRHF']\n"
     ]
    }
   ],
   "source": [
    "models, models_lower = nuda.matter.nep_models()\n",
    "print('models:',models)"
   ]
  },
  {
   "cell_type": "markdown",
   "id": "aa58873c-aa1d-4453-ae0d-72123e63e034",
   "metadata": {},
   "source": [
    "Fix one model for which we want to extract the data:"
   ]
  },
  {
   "cell_type": "code",
   "execution_count": 4,
   "id": "76e75981-40ff-4c4a-9906-7dc6af90fea9",
   "metadata": {},
   "outputs": [],
   "source": [
    "model = 'Skyrme'"
   ]
  },
  {
   "cell_type": "markdown",
   "id": "f80e3900-eb62-48d9-916b-a1d2d4371ef5",
   "metadata": {},
   "source": [
    "Instantiate `pheno` with the data from phenomonological model defined by `model` and `param`:"
   ]
  },
  {
   "cell_type": "code",
   "execution_count": 5,
   "id": "a69e6e74-bf06-48fa-9302-94ce1f592550",
   "metadata": {},
   "outputs": [
    {
     "name": "stdout",
     "output_type": "stream",
     "text": [
      "param: BSK14\n",
      "param: BSK16\n",
      "param: BSK17\n",
      "param: BSK27\n",
      "param: F-\n",
      "param: F+\n",
      "param: F0\n",
      "param: FPL\n",
      "param: LNS\n",
      "param: LNS1\n",
      "param: LNS5\n",
      "param: NRAPR\n",
      "param: RATP\n",
      "param: SAMI\n",
      "param: SGII\n",
      "param: SIII\n",
      "param: SKGSIGMA\n",
      "param: SKI2\n",
      "param: SKI4\n",
      "param: SKMP\n",
      "param: SKMS\n",
      "param: SKO\n",
      "param: SKOP\n",
      "param: SKP\n",
      "param: SKRSIGMA\n",
      "param: SKX\n",
      "param: Skz2\n",
      "param: SLY4\n",
      "param: SLY5\n",
      "param: SLY230A\n",
      "param: SLY230B\n",
      "param: SV\n",
      "param: T6\n",
      "param: T44\n",
      "param: UNEDF0\n",
      "param: UNEDF1\n",
      "\n",
      "- Print latex:\n",
      "   model: Skyrme 36 ['BSK14', 'BSK16', 'BSK17', 'BSK27', 'F-', 'F+', 'F0', 'FPL', 'LNS', 'LNS1', 'LNS5', 'NRAPR', 'RATP', 'SAMI', 'SGII', 'SIII', 'SKGSIGMA', 'SKI2', 'SKI4', 'SKMP', 'SKMS', 'SKO', 'SKOP', 'SKP', 'SKRSIGMA', 'SKX', 'Skz2', 'SLY4', 'SLY5', 'SLY230A', 'SLY230B', 'SV', 'T6', 'T44', 'UNEDF0', 'UNEDF1']\n",
      " table:\n",
      " NEP & $E_{\\sat}$ & $n_{\\sat}$ & $K_{\\sat}$ & $Q_{\\sat}$ & $Z_{\\sat}$ &  $E_{sym}$ & $L_{sym}$ & $K_{sym}$ & $Q_{sym}$ & $Z_{sym}$ &  $m^*_{sat}/m$ & $\\Delta m^*_{sat}/m$ \\\\\\\\\n",
      " & MeV & fm$^{-3}n$ & MeV & MeV & MeV &  MeV & MeV & MeV & MeV & MeV &   &  \\\\\\\\\n",
      " centroid & -15.88 & 0.160 &  238.0 & -348 & 1439 &  30.82 & 49.1 & -134 &  375 & -2197 & 0.77 &  0.123 \\\\\\\\\n",
      " std.dev. & 0.18 & 0.004 &  26.4 & 88 & 508 &  1.54 & 21.8 & 90 &  189 & 1071 & 0.14 &  0.308 \\\\\\\\\n"
     ]
    }
   ],
   "source": [
    "dist = nuda.matter.setupNEPModelDist( model = model )\n",
    "dist.print_latex()"
   ]
  },
  {
   "cell_type": "code",
   "execution_count": 6,
   "id": "bb10ce70-3596-4786-93e3-dceafe91e2db",
   "metadata": {},
   "outputs": [
    {
     "name": "stdout",
     "output_type": "stream",
     "text": [
      "\n",
      "- Print output:\n",
      "   model: Skyrme\n",
      " NEP:\n",
      "   Esat: [-15.85 -16.05 -16.05 -16.05 -16.02 -16.04 -16.03 -15.92 -15.31 -15.9\n",
      " -15.56 -15.85 -16.05 -15.93 -15.59 -15.85 -15.59 -15.76 -15.93 -15.56\n",
      " -15.83 -15.75 -15.95 -15.59 -16.05 -16.   -15.97 -15.98 -15.99 -15.97\n",
      " -16.05 -15.96 -16.02 -16.06 -15.8 ]\n",
      "   nsat: [0.159 0.159 0.159 0.159 0.162 0.162 0.162 0.162 0.175 0.162 0.16  0.161\n",
      " 0.16  0.159 0.158 0.145 0.158 0.158 0.16  0.157 0.16  0.16  0.162 0.158\n",
      " 0.155 0.16  0.16  0.16  0.16  0.16  0.155 0.161 0.161 0.16  0.159]\n",
      "   Ksat: [239.34 241.67 241.69 241.66 230.02 230.03 230.01 217.06 210.79 244.22\n",
      " 240.24 225.66 239.52 245.   214.65 355.38 237.25 240.72 247.74 230.88\n",
      " 223.36 222.32 201.03 237.39 271.08 230.11 229.91 229.96 229.91 229.92\n",
      " 305.68 235.97 230.03 230.02 220.02]\n",
      "   Qsat: [-358.66 -363.56 -363.6  -363.51 -404.91 -406.16 -405.42 -399.45 -382.52\n",
      " -324.63 -316.09 -362.53 -349.81 -338.68 -380.89  101.39 -348.71 -339.28\n",
      " -330.8  -338.03 -392.86 -390.73 -435.56 -348.39 -297.42 -365.23 -363.08\n",
      " -363.97 -364.18 -363.08 -175.76 -383.15 -365.9  -403.67 -404.18]\n",
      "   Zsat: [1434.7  1459.72 1459.89 1459.44 1702.4  1709.6  1705.43 1832.78 1748.62\n",
      " 1299.23 1255.13 1611.1  1451.85 1330.51 1741.62 -903.05 1379.43 1349.04\n",
      " 1277.72 1423.54 1720.29 1709.57 2127.56 1377.1   903.91 1597.65 1586.7\n",
      " 1591.72 1593.51 1586.7   183.37 1560.77 1603.34 1706.58 1781.27]\n",
      "   Esym: [30.   30.   30.   30.   32.   32.   32.   30.93 33.43 29.91 29.15 32.78\n",
      " 29.26 28.16 26.83 28.16 31.37 33.37 29.5  29.89 31.97 31.95 30.   30.58\n",
      " 31.1  32.01 32.01 32.03 31.99 32.01 32.82 29.97 32.   30.54 28.99]\n",
      "   Lsym: [ 43.92  34.89  36.3   28.51  43.79  41.53  42.42  42.77  61.47  30.92\n",
      "  50.93  59.65  32.39  43.68  37.62   9.91  94.02 104.32  60.41  70.29\n",
      "  79.12  68.94  19.66  85.68  33.18  16.81  45.99  48.28  44.32  45.96\n",
      "  96.1   30.86  50.04  45.07  40.  ]\n",
      "   Ksym: [-152.09 -187.46 -181.92 -221.53 -105.1  -117.92 -113.48 -135.62 -127.41\n",
      " -211.39 -119.04 -123.38 -191.13 -119.93 -145.83 -393.9    13.98   70.63\n",
      "  -40.62  -49.8   -43.14  -78.84 -266.55   -9.14 -252.   -259.6  -119.56\n",
      " -112.41  -98.24 -119.66   24.18 -211.64 -106.71 -189.61 -179.45]\n",
      "   Qsym: [388.57 462.24 450.81 487.92 655.14 660.58 657.96 485.9  302.66 444.4\n",
      " 285.85 311.85 440.36 371.86 330.16 130.53 -26.74  51.77 351.43 159.33\n",
      " 131.01 223.47 508.14  22.24 379.4  682.41 521.03 500.98 603.11 521.11\n",
      "  48.01 472.72 481.27 287.74 323.83]\n",
      "   Zsym: [-2190.6  -2565.8  -2507.73 -2650.89 -3869.47 -3875.17 -3870.47 -2912.97\n",
      " -1766.34 -2470.88 -1670.6  -1837.54 -2476.83 -2179.12 -1890.8   -798.85\n",
      "    -4.89  -610.47 -2234.92 -1019.99  -850.6  -1348.65 -2747.74  -255.06\n",
      " -1888.91 -3893.87 -3197.27 -3087.04 -3785.62 -3197.55  -480.83 -2561.61\n",
      " -2971.81 -1495.46 -1744.06]\n",
      "   kappas: [ 0.25  0.25  0.25  0.25  0.43  0.43  0.43  0.19  0.21  0.66  0.66  0.44\n",
      "  0.5   0.48  0.27  0.31  0.28  0.46  0.54  0.53  0.12  0.12 -0.    0.28\n",
      "  0.01  0.43  0.44  0.44  0.44  0.44  1.61  0.    0.43 -0.1  -0.01]\n",
      "   kappav: [0.28 0.28 0.28 0.39 0.15 0.6  0.43 0.03 0.38 1.09 0.97 0.66 0.78 0.51\n",
      " 0.49 0.53 0.48 0.24 0.25 0.71 0.17 0.15 0.35 0.48 0.33 0.57 0.25 0.25\n",
      " 0.   0.25 2.02 0.   0.25 0.25 0.25]\n",
      "   kappasym: [-0.03 -0.03 -0.03 -0.14  0.28 -0.17 -0.    0.16 -0.16 -0.44 -0.31 -0.22\n",
      " -0.28 -0.03 -0.22 -0.21 -0.2   0.22  0.29 -0.18 -0.06 -0.03 -0.35 -0.2\n",
      " -0.33 -0.15  0.19  0.19  0.44  0.19 -0.4   0.    0.18 -0.35 -0.26]\n",
      "   msat: [0.8  0.8  0.8  0.8  0.7  0.7  0.7  0.84 0.83 0.6  0.6  0.69 0.67 0.68\n",
      " 0.79 0.76 0.78 0.69 0.65 0.65 0.9  0.9  1.   0.78 0.99 0.7  0.69 0.7\n",
      " 0.7  0.69 0.38 1.   0.7  1.11 1.01]\n",
      "  Dmsat: [ 0.03  0.04  0.04  0.18 -0.28  0.17  0.   -0.23  0.23  0.34  0.23  0.21\n",
      "  0.26  0.02  0.28  0.26  0.25 -0.21 -0.25  0.16  0.09  0.05  0.8   0.25\n",
      "  0.72  0.14 -0.19 -0.18 -0.47 -0.19  0.12 -0.   -0.18  1.02  0.56]\n"
     ]
    }
   ],
   "source": [
    "dist.print_outputs( )"
   ]
  },
  {
   "cell_type": "markdown",
   "id": "45439116-e9f1-4875-b0ac-7b8f34ccaacc",
   "metadata": {},
   "source": [
    "---"
   ]
  },
  {
   "cell_type": "markdown",
   "id": "b4c34d8a-b6e1-4093-866c-626f4e5f3a9d",
   "metadata": {},
   "source": [
    "plot:"
   ]
  },
  {
   "cell_type": "code",
   "execution_count": 7,
   "id": "3b58315c-6048-4999-a90e-b56939d0c860",
   "metadata": {},
   "outputs": [
    {
     "name": "stdout",
     "output_type": "stream",
     "text": [
      "Plot name: None\n",
      "param: BSK14\n",
      "param: BSK16\n",
      "param: BSK17\n",
      "param: BSK27\n",
      "param: F-\n",
      "param: F+\n",
      "param: F0\n",
      "param: FPL\n",
      "param: LNS\n",
      "param: LNS1\n",
      "param: LNS5\n",
      "param: NRAPR\n",
      "param: RATP\n",
      "param: SAMI\n",
      "param: SGII\n",
      "param: SIII\n",
      "param: SKGSIGMA\n",
      "param: SKI2\n",
      "param: SKI4\n",
      "param: SKMP\n",
      "param: SKMS\n",
      "param: SKO\n",
      "param: SKOP\n",
      "param: SKP\n",
      "param: SKRSIGMA\n",
      "param: SKX\n",
      "param: Skz2\n",
      "param: SLY4\n",
      "param: SLY5\n",
      "param: SLY230A\n",
      "param: SLY230B\n",
      "param: SV\n",
      "param: T6\n",
      "param: T44\n",
      "param: UNEDF0\n",
      "param: UNEDF1\n",
      "param: SLy4\n",
      "param: SkM*\n",
      "param: SV-min\n",
      "param: SV-bas\n",
      "param: SV-K218\n",
      "param: SV-K226\n",
      "param: SV-K241\n",
      "param: SV-mas07\n",
      "param: SV-mas08\n",
      "param: SV-mas10\n",
      "param: SV-sym28\n",
      "param: SV-sym32\n",
      "param: SV-sym34\n",
      "param: SV-kap00\n",
      "param: SV-kap20\n",
      "param: SV-kap60\n",
      "param: BSk22\n",
      "param: BSk24\n",
      "param: BSk25\n",
      "param: BSk26\n",
      "param: BSk31\n",
      "param: BSk32\n",
      "param: BSkG1\n",
      "param: BSkG2\n",
      "param: BSkG3\n",
      "param: D1S\n",
      "param: D1\n",
      "param: D250\n",
      "param: D260\n",
      "param: D280\n",
      "param: D300\n",
      "param: Fy(IVP)\n",
      "param: Fy(Dr,HFB)\n",
      "param: Fy(std)\n",
      "param: NL-SH\n",
      "param: NL3\n",
      "param: NL3II\n",
      "param: PK1\n",
      "param: PK1R\n",
      "param: TM1\n",
      "param: DDME1\n",
      "param: DDME2\n",
      "param: DDMEd\n",
      "param: PKDD\n",
      "param: TW99\n",
      "param: PKA1\n",
      "param: PKO1\n",
      "param: PKO2\n",
      "param: PKO3\n"
     ]
    },
    {
     "data": {
      "image/png": "[encoded data removed]",
      "text/plain": [
       "<Figure size 640x480 with 10 Axes>"
      ]
     },
     "metadata": {},
     "output_type": "display_data"
    }
   ],
   "source": [
    "# reference band:\n",
    "models, models_lower = nuda.matter.nep_models()\n",
    "nuda.plot.matter_setupNEPModelDist_fig( None, models )"
   ]
  }
 ],
 "metadata": {
  "kernelspec": {
   "display_name": "Python 3 (ipykernel)",
   "language": "python",
   "name": "python3"
  },
  "language_info": {
   "codemirror_mode": {
    "name": "ipython",
    "version": 3
   },
   "file_extension": ".py",
   "mimetype": "text/x-python",
   "name": "python",
   "nbconvert_exporter": "python",
   "pygments_lexer": "ipython3",
   "version": "3.12.8"
  }
 },
 "nbformat": 4,
 "nbformat_minor": 5
}

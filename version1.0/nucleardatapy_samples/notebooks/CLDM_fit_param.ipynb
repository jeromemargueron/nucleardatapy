{
 "cells": [
  {
   "cell_type": "markdown",
   "metadata": {},
   "source": [
    "# Notebook to optimize CLDM parameter against the nuclear mass table. With or without surface modification asurf(eCLDM)\n",
    "\n",
    "## Import python packages\n"
   ]
  },
  {
   "cell_type": "code",
   "execution_count": 1,
   "metadata": {},
   "outputs": [],
   "source": [
    "import numpy as np\n",
    "\n",
    "import os\n",
    "import sys\n"
   ]
  },
  {
   "cell_type": "markdown",
   "metadata": {},
   "source": [
    "# Define the path for the shared object"
   ]
  },
  {
   "cell_type": "code",
   "execution_count": 2,
   "metadata": {},
   "outputs": [],
   "source": [
    "nseospy_tk = os.getenv('NSEOSPY_TK')\n",
    "sys.path.insert(0, nseospy_tk)"
   ]
  },
  {
   "cell_type": "markdown",
   "metadata": {},
   "source": [
    "# Import from nucleus python data from AMDC and routine to fit finite size coefficients"
   ]
  },
  {
   "cell_type": "code",
   "execution_count": 4,
   "metadata": {},
   "outputs": [
    {
     "name": "stdout",
     "output_type": "stream",
     "text": [
      "10\n"
     ]
    }
   ],
   "source": [
    "from nseospy import read_amdc\n",
    "from nseospy import nucleus_cldm_fit_coef_FS"
   ]
  },
  {
   "cell_type": "markdown",
   "metadata": {},
   "source": [
    "## Define boundaris of data table you want to fit. Amin, Zmin\n",
    "## Chose the use of interpolated data, yes ='y' or no='n'\n",
    "## Chose version of the release table. Options are: 2012, 2016 and 2020."
   ]
  },
  {
   "cell_type": "code",
   "execution_count": 5,
   "metadata": {},
   "outputs": [],
   "source": [
    "Amin = 12\n",
    "Zmin = 6\n",
    "interpolated = 'n'\n",
    "version='2012'"
   ]
  },
  {
   "cell_type": "markdown",
   "metadata": {},
   "source": [
    "# Read AMDC mass table.\n",
    "## The output is a big table that shows all nuclei that will be use in the fit."
   ]
  },
  {
   "cell_type": "code",
   "execution_count": 6,
   "metadata": {},
   "outputs": [
    {
     "name": "stdout",
     "output_type": "stream",
     "text": [
      "--------------------\n",
      "Read AMDC: run over all table\n",
      "--------------------\n",
      "   Print output:\n",
      "Mass.version: 2012\n",
      "Mass.interp : n\n",
      "Mass.nbLine : 5513\n",
      "Mass.nbNuc  : 2384\n"
     ]
    }
   ],
   "source": [
    "    print('-'*20)\n",
    "    print(\"Read AMDC: run over all table\")\n",
    "    print('-'*20)\n",
    "    #\n",
    "    GsNucData = read_amdc( Amin=Amin, Zmin=Zmin, interp=interpolated, version=version )\n",
    "    #\n",
    "    print(\"   Print output:\")\n",
    "    print(\"Mass.version:\",GsNucData.version)\n",
    "    print(\"Mass.interp :\",GsNucData.interp)\n",
    "    print(\"Mass.nbLine :\",GsNucData.nbLine)\n",
    "    print(\"Mass.nbNuc  :\",GsNucData.nbNuc)"
   ]
  },
  {
   "cell_type": "markdown",
   "metadata": {},
   "source": [
    "\n",
    "  # Define FS model, FS1, FS2, FS3, or FS4\n",
    "  ### FS1 = contains only surface and direct Coulomb terms. The density of the nucleus is considered constant and equal to the saturation density.\n",
    "  ### FS2 = contains only surface and direct Coulomb terms. The density of the nucleus is optimized by the mechanical equilibrum of the nucleus, i.e., Pnuc = 0.\n",
    "  ### FS3 = same as FS2, with the addition of curvature term.\n",
    "  ### FS4 = same as FS3, with the addition of exchange Coulomb term.\n",
    "  \n",
    "  ## FS1 and FS2 optimize 3 parameters while FS3 and FS4 optimize 5.\n",
    "  "
   ]
  },
  {
   "cell_type": "code",
   "execution_count": 8,
   "metadata": {},
   "outputs": [],
   "source": [
    "FSmodel = 4"
   ]
  },
  {
   "cell_type": "markdown",
   "metadata": {},
   "source": [
    "# Define meta-model parameters.\n",
    "\n",
    "## You can chose one from the dictionary for options, or define yourself the nuclear empirical parameters you want."
   ]
  },
  {
   "cell_type": "markdown",
   "metadata": {},
   "source": [
    "## In the present example we have BSK24, from Brussels Skyrme functionals, ref:"
   ]
  },
  {
   "cell_type": "code",
   "execution_count": 10,
   "metadata": {},
   "outputs": [],
   "source": [
    "MMparam='BSK24opt2'\n",
    "# MMparam='SLy5sat'\n",
    "# asurf=0 : standard CLDM\n",
    "asurf=0.0\n",
    "# asurf=-20.0 : extendended CLDM, contains densisity dependence on the surface tension.\n",
    "# asurf=-20.0"
   ]
  },
  {
   "cell_type": "markdown",
   "metadata": {},
   "source": [
    "  # With all defined now we fit finite size (FS) terms.\n",
    "  ## We use the well-known Gauss-Newton algorithm, which converges fast.\n",
    "  \n",
    "  ### The fit presciption is explain with detailns in arXiv: 2110.00441"
   ]
  },
  {
   "cell_type": "code",
   "execution_count": 11,
   "metadata": {},
   "outputs": [
    {
     "name": "stdout",
     "output_type": "stream",
     "text": [
      "--------------------\n",
      "Call nucleus_cldm_fit_coef_FS:\n",
      "--------------------\n",
      "   Print output:\n",
      " FSmodel:  1\n",
      "   psurf:  3.1\n",
      "   coef:  [ 0.96545802  1.03346376  0.61793964 -6.40271227 -5.16657224  1.\n",
      "  1.          1.        ]\n",
      "   asurf: 0.0\n",
      " (chi2)^1/2 : 3.2657953269976283\n",
      "final parameters :\n",
      "c_coul                :  0.9654580205242845\n",
      "c_surf_sat*sigSurfsat :  1.1368101342694137\n",
      "c_surf_sym*sigSurfsym :  1.421261167801923\n",
      "c_curv*sigCurv        :  -0.6402712267073035\n",
      "c_beta*betaCurv       :  -3.616600568432603\n",
      "   Print output:\n",
      " FSmodel:  2\n",
      "   psurf:  3.1\n",
      "   coef:  [ 0.95512068  1.05339391  0.70950074 -1.02608442 -0.23476882  1.\n",
      "  1.          1.        ]\n",
      "   asurf: 0.0\n",
      " (chi2)^1/2 : 2.9155497658385685\n",
      "final parameters :\n",
      "c_coul                :  0.9551206779534274\n",
      "c_surf_sat*sigSurfsat :  1.1587332970105015\n",
      "c_surf_sym*sigSurfsym :  1.6318516980000448\n",
      "c_curv*sigCurv        :  -0.10260844220974477\n",
      "c_beta*betaCurv       :  -0.16433817678822207\n",
      "   Print output:\n",
      " FSmodel:  3\n",
      "   psurf:  3.1\n",
      "   coef:  [ 0.96638478  1.01225516  0.7792016   1.04062772  0.87682744 -0.96662877\n",
      "  0.16372741  1.        ]\n",
      "   asurf: 0.0\n",
      " (chi2)^1/2 : 2.7332540785539194\n",
      "final parameters :\n",
      "c_coul                :  0.9663847830160506\n",
      "c_surf_sat*sigSurfsat :  1.1134806765893355\n",
      "c_surf_sym*sigSurfsym :  1.7921636790080144\n",
      "c_curv*sigCurv        :  0.10406277213078302\n",
      "c_beta*betaCurv       :  0.6137792073816634\n"
     ]
    }
   ],
   "source": [
    "    # compute for different psurf\n",
    "    psurf = [2.9,3.1,3.3,3.5]\n",
    "    #\n",
    "    std_sigSurfSat = 1.1\n",
    "    std_sigSurfSym = 2.3\n",
    "    std_bSurf = 29.9\n",
    "    std_alphaCurv = 5.5\n",
    "    std_betaCurv = 0.7\n",
    "    std_sigCurv = 0.1\n",
    "    #    \n",
    "    print('-'*20)\n",
    "    print(\"Call nucleus_cldm_fit_coef_FS:\")\n",
    "    print('-'*20)\n",
    "    #FSmodel = 3\n",
    "    p = 3.1\n",
    "    mod = [1,2,3]\n",
    "#    for p in psurf:    \n",
    "    for FSmodel in mod:\n",
    "        fs_param_std = np.array([ std_sigSurfSat, std_sigSurfSym,std_bSurf, p, std_alphaCurv, std_betaCurv, std_sigCurv, -12.0, 44.0, 2.0], dtype=np.float64) \n",
    "        nucfit_fs = nucleus_cldm_fit_coef_FS( GsNucData, aFsFlag = np.array([FSmodel, 1, 0 ], dtype=np.int32), mf_model=\"mm_\", mm_param=MMparam, fs_param = \"BSK14\", fs_param_std =fs_param_std, asurf =asurf  )\n",
    "        #\n",
    "        print(\"   Print output:\")\n",
    "        print(\" FSmodel: \",FSmodel)\n",
    "        print(\"   psurf: \",p)\n",
    "        print(\"   coef: \",nucfit_fs.afsParam)\n",
    "        print(\"   asurf:\",nucfit_fs.asurfParam)\n",
    "        print(\" (chi2)^1/2 :\",nucfit_fs.chi_Etot)\n",
    "        #\n",
    "        coefFS = nucfit_fs.afsParam\n",
    "        print('final parameters :')\n",
    "        print(\"c_coul                : \",coefFS[0])\n",
    "        print(\"c_surf_sat*sigSurfsat : \",coefFS[1]*std_sigSurfSat)\n",
    "        print(\"c_surf_sym*sigSurfsym : \",coefFS[2]*std_sigSurfSym)\n",
    "        print(\"c_curv*sigCurv        : \",coefFS[3]*std_sigCurv)\n",
    "        print(\"c_beta*betaCurv       : \",coefFS[4]*std_betaCurv)\n",
    "        #exit()    \n"
   ]
  },
  {
   "cell_type": "markdown",
   "metadata": {},
   "source": [
    "## Print in screen the output for the optimized coefficients:"
   ]
  },
  {
   "cell_type": "code",
   "execution_count": 12,
   "metadata": {},
   "outputs": [
    {
     "name": "stdout",
     "output_type": "stream",
     "text": [
      "c_coul:  0.9663847830160506 c_surf_sat:  1.0122551605357595 c_surf_sym:  0.7792015995687019 c_curv:  1.04062772130783 c_beta:  0.8768274391166619\n",
      "\n",
      "psurf = :  [2.9, 3.1, 3.3, 3.5]\n",
      "\n",
      "final parameters :\n",
      "c_coul                :  0.9663847830160506\n",
      "c_surf_sat*sigSurfsat :  1.1134806765893355\n",
      "c_surf_sym*sigSurfsym :  1.7921636790080144\n",
      "c_curv*sigCurv        :  0.10406277213078302\n",
      "c_beta*betaCurv       :  0.6137792073816634\n",
      "\n",
      " (chi2)^1/2 : 2.7332540785539194\n"
     ]
    }
   ],
   "source": [
    "print(\"c_coul: \",coefFS[0],\"c_surf_sat: \",coefFS[1],\"c_surf_sym: \",coefFS[2],\"c_curv: \",coefFS[3],\"c_beta: \",coefFS[4])\n",
    "\n",
    "print()\n",
    "print('psurf = : ', psurf)\n",
    "print()\n",
    "print('final parameters :')\n",
    "print(\"c_coul                : \",coefFS[0])\n",
    "print(\"c_surf_sat*sigSurfsat : \",coefFS[1]*std_sigSurfSat)\n",
    "print(\"c_surf_sym*sigSurfsym : \",coefFS[2]*std_sigSurfSym)\n",
    "print(\"c_curv*sigCurv        : \",coefFS[3]*std_sigCurv)\n",
    "print(\"c_beta*betaCurv       : \",coefFS[4]*std_betaCurv)\n",
    "print()\n",
    "print(\" (chi2)^1/2 :\",nucfit_fs.chi_Etot)"
   ]
  },
  {
   "cell_type": "markdown",
   "metadata": {},
   "source": []
  }
 ],
 "metadata": {
  "kernelspec": {
   "display_name": "Python 3",
   "language": "python",
   "name": "python3"
  },
  "language_info": {
   "codemirror_mode": {
    "name": "ipython",
    "version": 3
   },
   "file_extension": ".py",
   "mimetype": "text/x-python",
   "name": "python",
   "nbconvert_exporter": "python",
   "pygments_lexer": "ipython3",
   "version": "3.8.5"
  }
 },
 "nbformat": 4,
 "nbformat_minor": 5
}
